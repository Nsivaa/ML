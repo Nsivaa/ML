{
 "cells": [
  {
   "cell_type": "code",
   "execution_count": 1,
   "metadata": {},
   "outputs": [],
   "source": [
    "import numpy as np\n",
    "import pandas as pd\n",
    "from nn_utils import *\n"
   ]
  },
  {
   "cell_type": "code",
   "execution_count": 2,
   "metadata": {
    "tags": []
   },
   "outputs": [
    {
     "name": "stdout",
     "output_type": "stream",
     "text": [
      "     a1  a2  a3  a4  a5  a6  data_107  data_111  data_114  data_116  ...  \\\n",
      "NaN   1   3   2   2   2   2         0         0         0         0  ...   \n",
      "NaN   1   2   1   2   4   2         0         0         0         0  ...   \n",
      "NaN   3   2   1   1   1   1         0         0         0         0  ...   \n",
      "NaN   3   3   1   1   4   2         0         0         0         0  ...   \n",
      "NaN   2   1   1   2   3   1         0         0         0         0  ...   \n",
      "..   ..  ..  ..  ..  ..  ..       ...       ...       ...       ...  ...   \n",
      "NaN   3   3   1   3   2   2         0         0         0         0  ...   \n",
      "NaN   2   3   2   3   3   2         0         0         0         0  ...   \n",
      "NaN   2   3   1   3   3   1         0         0         0         0  ...   \n",
      "NaN   3   2   2   3   2   1         0         0         0         0  ...   \n",
      "NaN   2   1   2   3   4   1         0         0         0         0  ...   \n",
      "\n",
      "     data_67  data_72  data_76  data_86  data_87  data_88  data_92  data_93  \\\n",
      "NaN        0        0        0        0        0        0        0        0   \n",
      "NaN        0        0        0        0        0        0        0        0   \n",
      "NaN        0        0        0        0        0        0        0        0   \n",
      "NaN        0        0        0        0        0        0        0        0   \n",
      "NaN        0        0        0        0        0        0        0        0   \n",
      "..       ...      ...      ...      ...      ...      ...      ...      ...   \n",
      "NaN        0        0        0        0        0        0        0        0   \n",
      "NaN        0        0        0        0        0        0        0        0   \n",
      "NaN        0        0        0        0        0        0        0        0   \n",
      "NaN        0        0        0        0        0        0        0        0   \n",
      "NaN        0        0        0        0        0        0        0        0   \n",
      "\n",
      "     data_94  data_99  \n",
      "NaN        0        0  \n",
      "NaN        0        0  \n",
      "NaN        0        0  \n",
      "NaN        0        0  \n",
      "NaN        0        0  \n",
      "..       ...      ...  \n",
      "NaN        0        0  \n",
      "NaN        0        0  \n",
      "NaN        0        0  \n",
      "NaN        0        0  \n",
      "NaN        0        0  \n",
      "\n",
      "[124 rows x 129 columns]\n"
     ]
    }
   ],
   "source": [
    "col_names = [\"Class\", \"a1\", \"a2\", \"a3\", \"a4\", \"a5\", \"a6\", \"ID\"]\n",
    "\n",
    "data = pd.read_csv(\"../monk+s+problems/monks-1.train\", sep =\" \",  names = col_names)\n",
    "data.head()\n",
    "data = data.sample(frac=1)\n",
    "data.reset_index()\n",
    "tr_data_Y = data[[\"Class\"]]\n",
    "id_dummies = pd.get_dummies(data[\"ID\"], dtype=int, drop_first = True)\n",
    "\n",
    "tr_data_X = pd.concat([data.drop([\"Class\", \"ID\"], axis = 1), id_dummies], axis = 1)\n",
    "\n",
    "print(tr_data_X)\n"
   ]
  },
  {
   "cell_type": "code",
   "execution_count": 3,
   "metadata": {},
   "outputs": [],
   "source": [
    "net = NeuralNetwork()\n",
    "\n",
    "net.add_input_layer(tr_data_X.shape[1])\n",
    "\n",
    "net.add_hidden_layer(tr_data_X.shape[1], 3)\n",
    "\n",
    "net.add_output_layer(3, 2)\n",
    "\n"
   ]
  },
  {
   "cell_type": "code",
   "execution_count": 5,
   "metadata": {},
   "outputs": [
    {
     "name": "stderr",
     "output_type": "stream",
     "text": [
      "/home/nsiva/env/ML/project/nn_utils.py:78: RuntimeWarning: divide by zero encountered in log\n",
      "  return -np.sum([p[i] * np.log(q[i]) for i in range(len(p))])\n"
     ]
    }
   ],
   "source": [
    "losses = net.train(tr_data_X, tr_data_Y, epochs=100,\n",
    "                 eta=0.01, clip_value=10000, act_fun=\"tanh\", cost_fun=\"el\")    #TANH IS FASTER?? SCRITTO SULLE SLIDE\n",
    "#print(net)\n",
    "#print(net.input_layer.weights)\n",
    "\n",
    "plot_loss(losses)\n"
   ]
  }
 ],
 "metadata": {
  "kernelspec": {
   "display_name": "Python 3",
   "language": "python",
   "name": "python3"
  },
  "language_info": {
   "codemirror_mode": {
    "name": "ipython",
    "version": 3
   },
   "file_extension": ".py",
   "mimetype": "text/x-python",
   "name": "python",
   "nbconvert_exporter": "python",
   "pygments_lexer": "ipython3",
   "version": "3.10.12"
  }
 },
 "nbformat": 4,
 "nbformat_minor": 2
}
