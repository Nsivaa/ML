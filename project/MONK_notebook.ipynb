{
 "cells": [
  {
   "cell_type": "code",
   "execution_count": 1,
   "metadata": {},
   "outputs": [],
   "source": [
    "import numpy as np\n",
    "import pandas as pd\n",
    "from nn_utils import *\n"
   ]
  },
  {
   "cell_type": "code",
   "execution_count": 2,
   "metadata": {
    "tags": []
   },
   "outputs": [
    {
     "name": "stdout",
     "output_type": "stream",
     "text": [
      "     a1  a2  a3  a4  a5  a6  data_107  data_111  data_114  data_116  ...  \\\n",
      "NaN   2   2   1   1   3   1         0         0         0         0  ...   \n",
      "NaN   2   1   2   1   4   2         0         0         0         0  ...   \n",
      "NaN   1   3   2   2   1   2         0         0         0         0  ...   \n",
      "NaN   2   1   1   3   4   1         0         0         0         0  ...   \n",
      "NaN   2   1   1   1   3   2         0         0         0         0  ...   \n",
      "..   ..  ..  ..  ..  ..  ..       ...       ...       ...       ...  ...   \n",
      "NaN   1   3   1   2   4   1         0         1         0         0  ...   \n",
      "NaN   1   2   2   2   3   2         0         0         0         0  ...   \n",
      "NaN   2   1   2   1   2   2         0         0         0         0  ...   \n",
      "NaN   1   3   1   2   2   1         1         0         0         0  ...   \n",
      "NaN   2   2   2   1   4   2         0         0         0         0  ...   \n",
      "\n",
      "     data_67  data_72  data_76  data_86  data_87  data_88  data_92  data_93  \\\n",
      "NaN        0        0        0        0        0        0        0        0   \n",
      "NaN        0        0        0        0        0        0        0        0   \n",
      "NaN        0        0        0        0        0        0        0        0   \n",
      "NaN        0        0        0        0        0        0        0        0   \n",
      "NaN        0        0        0        0        0        0        0        0   \n",
      "..       ...      ...      ...      ...      ...      ...      ...      ...   \n",
      "NaN        0        0        0        0        0        0        0        0   \n",
      "NaN        0        0        0        1        0        0        0        0   \n",
      "NaN        0        0        0        0        0        0        0        0   \n",
      "NaN        0        0        0        0        0        0        0        0   \n",
      "NaN        0        0        0        0        0        0        0        0   \n",
      "\n",
      "     data_94  data_99  \n",
      "NaN        0        0  \n",
      "NaN        0        0  \n",
      "NaN        0        0  \n",
      "NaN        0        0  \n",
      "NaN        0        0  \n",
      "..       ...      ...  \n",
      "NaN        0        0  \n",
      "NaN        0        0  \n",
      "NaN        0        0  \n",
      "NaN        0        0  \n",
      "NaN        0        0  \n",
      "\n",
      "[124 rows x 129 columns]\n"
     ]
    }
   ],
   "source": [
    "col_names = [\"Class\", \"a1\", \"a2\", \"a3\", \"a4\", \"a5\", \"a6\", \"ID\"]\n",
    "\n",
    "data = pd.read_csv(\"../monk+s+problems/monks-1.train\", sep =\" \",  names = col_names)\n",
    "data.head()\n",
    "data = data.sample(frac=1)\n",
    "data.reset_index()\n",
    "tr_data_Y = data[[\"Class\"]]\n",
    "id_dummies = pd.get_dummies(data[\"ID\"], dtype=int, drop_first = True)\n",
    "\n",
    "tr_data_X = pd.concat([data.drop([\"Class\", \"ID\"], axis = 1), id_dummies], axis = 1)\n",
    "\n",
    "print(tr_data_X)\n"
   ]
  },
  {
   "cell_type": "code",
   "execution_count": 3,
   "metadata": {},
   "outputs": [],
   "source": [
    "net = NeuralNetwork()\n",
    "\n",
    "net.add_input_layer(tr_data_X.shape[1])\n",
    "\n",
    "net.add_hidden_layer(tr_data_X.shape[1], 3)\n",
    "\n",
    "net.add_output_layer(3, 2)\n",
    "\n"
   ]
  },
  {
   "cell_type": "code",
   "execution_count": 4,
   "metadata": {},
   "outputs": [
    {
     "name": "stdout",
     "output_type": "stream",
     "text": [
      "total Error pre-training = [0.51730251 0.84762276]\n"
     ]
    },
    {
     "ename": "IndexError",
     "evalue": "tuple index out of range",
     "output_type": "error",
     "traceback": [
      "\u001b[0;31m---------------------------------------------------------------------------\u001b[0m",
      "\u001b[0;31mIndexError\u001b[0m                                Traceback (most recent call last)",
      "Cell \u001b[0;32mIn[4], line 1\u001b[0m\n\u001b[0;32m----> 1\u001b[0m losses \u001b[38;5;241m=\u001b[39m \u001b[43mnet\u001b[49m\u001b[38;5;241;43m.\u001b[39;49m\u001b[43mtrain\u001b[49m\u001b[43m(\u001b[49m\u001b[43mtr_data_X\u001b[49m\u001b[43m,\u001b[49m\u001b[43m \u001b[49m\u001b[43mtr_data_Y\u001b[49m\u001b[43m,\u001b[49m\u001b[43m \u001b[49m\u001b[43mepochs\u001b[49m\u001b[38;5;241;43m=\u001b[39;49m\u001b[38;5;241;43m100\u001b[39;49m\u001b[43m,\u001b[49m\n\u001b[1;32m      2\u001b[0m \u001b[43m                 \u001b[49m\u001b[43meta\u001b[49m\u001b[38;5;241;43m=\u001b[39;49m\u001b[38;5;241;43m0.01\u001b[39;49m\u001b[43m,\u001b[49m\u001b[43m \u001b[49m\u001b[43mclip_value\u001b[49m\u001b[38;5;241;43m=\u001b[39;49m\u001b[38;5;241;43m10000\u001b[39;49m\u001b[43m,\u001b[49m\u001b[43m \u001b[49m\u001b[43mhid_act_fun\u001b[49m\u001b[38;5;241;43m=\u001b[39;49m\u001b[38;5;124;43m\"\u001b[39;49m\u001b[38;5;124;43mtanh\u001b[39;49m\u001b[38;5;124;43m\"\u001b[39;49m\u001b[43m,\u001b[49m\u001b[43m \u001b[49m\u001b[43mout_act_fun\u001b[49m\u001b[38;5;241;43m=\u001b[39;49m\u001b[38;5;124;43m\"\u001b[39;49m\u001b[38;5;124;43msigmoid\u001b[39;49m\u001b[38;5;124;43m\"\u001b[39;49m\u001b[43m,\u001b[49m\u001b[43m \u001b[49m\u001b[43mcost_fun\u001b[49m\u001b[38;5;241;43m=\u001b[39;49m\u001b[38;5;124;43m\"\u001b[39;49m\u001b[38;5;124;43mb_ce\u001b[39;49m\u001b[38;5;124;43m\"\u001b[39;49m\u001b[43m)\u001b[49m    \u001b[38;5;66;03m#TANH IS FASTER?? SCRITTO SULLE SLIDE\u001b[39;00m\n\u001b[1;32m      3\u001b[0m \u001b[38;5;66;03m#print(net)\u001b[39;00m\n\u001b[1;32m      4\u001b[0m \u001b[38;5;66;03m#print(net.input_layer.weights)\u001b[39;00m\n\u001b[1;32m      6\u001b[0m plot_loss(losses)\n",
      "File \u001b[0;32m~/env/ML/project/nn_utils.py:361\u001b[0m, in \u001b[0;36mNeuralNetwork.train\u001b[0;34m(self, data, labels, eta, epochs, clip_value, hid_act_fun, out_act_fun, cost_fun)\u001b[0m\n\u001b[1;32m    358\u001b[0m \u001b[38;5;28mself\u001b[39m\u001b[38;5;241m.\u001b[39mforwardPropagation(\n\u001b[1;32m    359\u001b[0m     row, label, hid_act_fun, out_act_fun, cost_fun)\n\u001b[1;32m    360\u001b[0m \u001b[38;5;66;03m# backPropagation\u001b[39;00m\n\u001b[0;32m--> 361\u001b[0m \u001b[38;5;28;43mself\u001b[39;49m\u001b[38;5;241;43m.\u001b[39;49m\u001b[43moutLayerBackpropagation\u001b[49m\u001b[43m(\u001b[49m\u001b[43mlabel\u001b[49m\u001b[43m)\u001b[49m\n\u001b[1;32m    362\u001b[0m \u001b[38;5;66;03m# hidden layers\u001b[39;00m\n\u001b[1;32m    363\u001b[0m \u001b[38;5;28mself\u001b[39m\u001b[38;5;241m.\u001b[39mhiddenLayerBackpropagation(hid_act_fun)\n",
      "File \u001b[0;32m~/env/ML/project/nn_utils.py:275\u001b[0m, in \u001b[0;36mNeuralNetwork.outLayerBackpropagation\u001b[0;34m(self, label)\u001b[0m\n\u001b[1;32m    270\u001b[0m \u001b[38;5;66;03m# per ogni neurone del layer calcolo delta, gradiente dei pesi e gradiente del bias\u001b[39;00m\n\u001b[1;32m    271\u001b[0m \u001b[38;5;66;03m# considero delta del neurone il corrispettivo valore del gradiente (sono lo stesso valore)\u001b[39;00m\n\u001b[1;32m    272\u001b[0m \u001b[38;5;28;01mfor\u001b[39;00m i \u001b[38;5;129;01min\u001b[39;00m np\u001b[38;5;241m.\u001b[39marange(\u001b[38;5;241m0\u001b[39m, \u001b[38;5;28mself\u001b[39m\u001b[38;5;241m.\u001b[39moutput_layer\u001b[38;5;241m.\u001b[39mn_neurons):\n\u001b[1;32m    273\u001b[0m     \u001b[38;5;66;03m# i è l'i-esimo neurone del layer\u001b[39;00m\n\u001b[1;32m    274\u001b[0m     \u001b[38;5;66;03m# delta_i = (d_i - o_i)\u001b[39;00m\n\u001b[0;32m--> 275\u001b[0m     delta \u001b[38;5;241m=\u001b[39m (\u001b[43mlabel\u001b[49m\u001b[43m[\u001b[49m\u001b[43mi\u001b[49m\u001b[43m]\u001b[49m\u001b[38;5;241m-\u001b[39m\u001b[38;5;28mself\u001b[39m\u001b[38;5;241m.\u001b[39moutput_layer\u001b[38;5;241m.\u001b[39moutput[i])\n\u001b[1;32m    276\u001b[0m     \u001b[38;5;28mself\u001b[39m\u001b[38;5;241m.\u001b[39moutput_layer\u001b[38;5;241m.\u001b[39mbias_gradients[i] \u001b[38;5;241m=\u001b[39m delta\n\u001b[1;32m    277\u001b[0m     \u001b[38;5;66;03m# gradiente_w_j,i = bias_i * o_j\u001b[39;00m\n",
      "\u001b[0;31mIndexError\u001b[0m: tuple index out of range"
     ]
    }
   ],
   "source": [
    "losses = net.train(tr_data_X, tr_data_Y, epochs=100,\n",
    "                 eta=0.01, clip_value=10000, hid_act_fun=\"tanh\", out_act_fun=\"sigmoid\", cost_fun=\"b_ce\")    #TANH IS FASTER?? SCRITTO SULLE SLIDE\n",
    "#print(net)\n",
    "#print(net.input_layer.weights)\n",
    "\n",
    "plot_loss(losses)\n"
   ]
  }
 ],
 "metadata": {
  "kernelspec": {
   "display_name": "Python 3",
   "language": "python",
   "name": "python3"
  },
  "language_info": {
   "codemirror_mode": {
    "name": "ipython",
    "version": 3
   },
   "file_extension": ".py",
   "mimetype": "text/x-python",
   "name": "python",
   "nbconvert_exporter": "python",
   "pygments_lexer": "ipython3",
   "version": "3.10.12"
  }
 },
 "nbformat": 4,
 "nbformat_minor": 2
}
