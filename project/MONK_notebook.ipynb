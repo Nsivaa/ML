{
 "cells": [
  {
   "cell_type": "code",
   "execution_count": 1,
   "metadata": {},
   "outputs": [],
   "source": [
    "import numpy as np\n",
    "import pandas as pd\n",
    "from nn_utils import *\n",
    "from sklearn.preprocessing import OneHotEncoder\n"
   ]
  },
  {
   "cell_type": "code",
   "execution_count": 2,
   "metadata": {},
   "outputs": [
    {
     "name": "stdout",
     "output_type": "stream",
     "text": [
      "INPUT LAYER: \n",
      "NODE 0 OUTPUT = 0.0\n",
      "NODE 1 OUTPUT = 0.0\n",
      "NODE 2 OUTPUT = 0.0\n",
      "NODE 3 OUTPUT = 0.0\n",
      "NODE 4 OUTPUT = 0.0\n",
      "NODE 5 OUTPUT = 0.0\n",
      "NODE 6 OUTPUT = 0.0\n",
      "\n",
      "LAYER 0 \n",
      "NODE 0 WEIGHTS = 0.023854438360415998, -0.2910841315619781, -0.18913953348501386, 0.5272374232418281, -0.17711070960464695, -0.30770117330288443, 0.4987386160736377,  BIAS = 0.0\n",
      "NODE 1 WEIGHTS = -0.6582090561697531, 0.6116964931417952, -0.294602478358846, -0.35371960811222847, -0.4515468781795281, 0.8053392608269576, -0.7499100957178207,  BIAS = 0.0\n",
      "NODE 2 WEIGHTS = 0.4164202920293154, 0.051967230516604436, 0.3432073313352668, 0.15234273472905072, 0.047781406765268354, 0.20050797634367246, 0.45865781745596207,  BIAS = 0.0\n",
      "\n",
      "\n",
      "OUTPUT LAYER: \n",
      "NODE 0 WEIGHTS = -0.29193860836255003, 0.5263656989520661, 0.549341384209587,  BIAS = 0.0\n",
      "NODE 1 WEIGHTS = -1.058809676496938, -0.11239263658708766, 0.8057346798333422,  BIAS = 0.0\n",
      " \n"
     ]
    }
   ],
   "source": [
    "net = NeuralNetwork()\n",
    "\n",
    "net.add_input_layer(7)\n",
    "\n",
    "net.add_hidden_layer(7, 3)\n",
    "\n",
    "net.add_output_layer(3, 2)\n",
    "\n",
    "print(net)"
   ]
  },
  {
   "cell_type": "code",
   "execution_count": 6,
   "metadata": {
    "tags": []
   },
   "outputs": [],
   "source": [
    "col_names = [\"Class\", \"a1\", \"a2\", \"a3\", \"a4\", \"a5\", \"a6\", \"ID\"]\n",
    "\n",
    "data = pd.read_csv(\"../monk+s+problems/monks-1.train\", sep =\" \",  names = col_names)\n",
    "data.head()\n",
    "\n",
    "data.reset_index()\n",
    "tr_data_Y = data[[\"Class\"]]\n",
    "id_dummies = pd.get_dummies(data[\"ID\"], dtype=int, drop_first = True)\n",
    "\n",
    "tr_data_X = pd.concat([data.drop([\"Class\"], axis = 1), id_dummies], axis = 1)\n",
    "\n",
    "print(tr_data_X)\n"
   ]
  },
  {
   "cell_type": "code",
   "execution_count": null,
   "metadata": {},
   "outputs": [
    {
     "ename": "ValueError",
     "evalue": "shapes (131,) and (7,3) not aligned: 131 (dim 0) != 7 (dim 0)",
     "output_type": "error",
     "traceback": [
      "\u001b[0;31m---------------------------------------------------------------------------\u001b[0m",
      "\u001b[0;31mValueError\u001b[0m                                Traceback (most recent call last)",
      "Cell \u001b[0;32mIn[4], line 1\u001b[0m\n\u001b[0;32m----> 1\u001b[0m losses \u001b[38;5;241m=\u001b[39m \u001b[43mnet\u001b[49m\u001b[38;5;241;43m.\u001b[39;49m\u001b[43mtrain\u001b[49m\u001b[43m(\u001b[49m\u001b[43mtr_data_X\u001b[49m\u001b[43m,\u001b[49m\u001b[43m \u001b[49m\u001b[43mtr_data_Y\u001b[49m\u001b[43m,\u001b[49m\u001b[43m \u001b[49m\u001b[43mepochs\u001b[49m\u001b[38;5;241;43m=\u001b[39;49m\u001b[38;5;241;43m100\u001b[39;49m\u001b[43m,\u001b[49m\n\u001b[1;32m      2\u001b[0m \u001b[43m                 \u001b[49m\u001b[43meta\u001b[49m\u001b[38;5;241;43m=\u001b[39;49m\u001b[38;5;241;43m0.01\u001b[39;49m\u001b[43m,\u001b[49m\u001b[43m \u001b[49m\u001b[43mclip_value\u001b[49m\u001b[38;5;241;43m=\u001b[39;49m\u001b[38;5;241;43m10000\u001b[39;49m\u001b[43m,\u001b[49m\u001b[43m \u001b[49m\u001b[43mact_fun\u001b[49m\u001b[38;5;241;43m=\u001b[39;49m\u001b[38;5;124;43m\"\u001b[39;49m\u001b[38;5;124;43mrelu\u001b[39;49m\u001b[38;5;124;43m\"\u001b[39;49m\u001b[43m)\u001b[49m\n\u001b[1;32m      3\u001b[0m \u001b[38;5;66;03m#print(net)\u001b[39;00m\n\u001b[1;32m      4\u001b[0m \u001b[38;5;66;03m#print(net.input_layer.weights)\u001b[39;00m\n\u001b[1;32m      6\u001b[0m plot_loss(losses)\n",
      "File \u001b[0;32m~/env/ML/project/nn_utils.py:318\u001b[0m, in \u001b[0;36mNeuralNetwork.train\u001b[0;34m(self, data, labels, eta, epochs, clip_value, act_fun)\u001b[0m\n\u001b[1;32m    316\u001b[0m \u001b[38;5;28;01mdef\u001b[39;00m \u001b[38;5;21mtrain\u001b[39m(\u001b[38;5;28mself\u001b[39m, data: pd\u001b[38;5;241m.\u001b[39mDataFrame, labels: pd\u001b[38;5;241m.\u001b[39mDataFrame, eta\u001b[38;5;241m=\u001b[39m\u001b[38;5;241m0.2\u001b[39m, epochs\u001b[38;5;241m=\u001b[39m\u001b[38;5;241m1\u001b[39m, clip_value\u001b[38;5;241m=\u001b[39m\u001b[38;5;28;01mNone\u001b[39;00m, act_fun: \u001b[38;5;28mstr\u001b[39m \u001b[38;5;241m=\u001b[39m \u001b[38;5;124m\"\u001b[39m\u001b[38;5;124mrelu\u001b[39m\u001b[38;5;124m\"\u001b[39m):\n\u001b[1;32m    317\u001b[0m     errors \u001b[38;5;241m=\u001b[39m []\n\u001b[0;32m--> 318\u001b[0m     totErr \u001b[38;5;241m=\u001b[39m \u001b[38;5;28;43mself\u001b[39;49m\u001b[38;5;241;43m.\u001b[39;49m\u001b[43mmseTotError\u001b[49m\u001b[43m(\u001b[49m\u001b[43mdata\u001b[49m\u001b[43m,\u001b[49m\u001b[43m \u001b[49m\u001b[43mlabels\u001b[49m\u001b[43m,\u001b[49m\u001b[43m \u001b[49m\u001b[43mact_fun\u001b[49m\u001b[38;5;241;43m=\u001b[39;49m\u001b[43mact_fun\u001b[49m\u001b[43m)\u001b[49m\n\u001b[1;32m    319\u001b[0m     \u001b[38;5;28mprint\u001b[39m(\u001b[38;5;124mf\u001b[39m\u001b[38;5;124m\"\u001b[39m\u001b[38;5;124mtotal Error pre-training = \u001b[39m\u001b[38;5;132;01m{\u001b[39;00mtotErr\u001b[38;5;132;01m}\u001b[39;00m\u001b[38;5;124m\"\u001b[39m)\n\u001b[1;32m    320\u001b[0m     errors\u001b[38;5;241m.\u001b[39mappend(totErr)\n",
      "File \u001b[0;32m~/env/ML/project/nn_utils.py:219\u001b[0m, in \u001b[0;36mNeuralNetwork.mseTotError\u001b[0;34m(self, data, labels, act_fun)\u001b[0m\n\u001b[1;32m    217\u001b[0m totErr \u001b[38;5;241m=\u001b[39m \u001b[38;5;241m0\u001b[39m\n\u001b[1;32m    218\u001b[0m \u001b[38;5;28;01mfor\u001b[39;00m row, label \u001b[38;5;129;01min\u001b[39;00m \u001b[38;5;28mzip\u001b[39m(data\u001b[38;5;241m.\u001b[39mitertuples(index\u001b[38;5;241m=\u001b[39m\u001b[38;5;28;01mFalse\u001b[39;00m, name\u001b[38;5;241m=\u001b[39m\u001b[38;5;28;01mNone\u001b[39;00m), labels\u001b[38;5;241m.\u001b[39mitertuples(index\u001b[38;5;241m=\u001b[39m\u001b[38;5;28;01mFalse\u001b[39;00m, name\u001b[38;5;241m=\u001b[39m\u001b[38;5;28;01mNone\u001b[39;00m)):\n\u001b[0;32m--> 219\u001b[0m     totErr \u001b[38;5;241m+\u001b[39m\u001b[38;5;241m=\u001b[39m \u001b[38;5;28;43mself\u001b[39;49m\u001b[38;5;241;43m.\u001b[39;49m\u001b[43mforwardPropagation\u001b[49m\u001b[43m(\u001b[49m\u001b[43mrow\u001b[49m\u001b[43m,\u001b[49m\u001b[43m \u001b[49m\u001b[43mlabel\u001b[49m\u001b[43m,\u001b[49m\u001b[43m \u001b[49m\u001b[43mact_fun\u001b[49m\u001b[38;5;241;43m=\u001b[39;49m\u001b[43mact_fun\u001b[49m\u001b[43m)\u001b[49m\n\u001b[1;32m    220\u001b[0m totErr \u001b[38;5;241m/\u001b[39m\u001b[38;5;241m=\u001b[39m data\u001b[38;5;241m.\u001b[39mshape[\u001b[38;5;241m0\u001b[39m]\n\u001b[1;32m    222\u001b[0m \u001b[38;5;28;01mreturn\u001b[39;00m totErr\n",
      "File \u001b[0;32m~/env/ML/project/nn_utils.py:228\u001b[0m, in \u001b[0;36mNeuralNetwork.forwardPropagation\u001b[0;34m(self, row, label, act_fun)\u001b[0m\n\u001b[1;32m    226\u001b[0m \u001b[38;5;28mself\u001b[39m\u001b[38;5;241m.\u001b[39minput_layer\u001b[38;5;241m.\u001b[39moutput \u001b[38;5;241m=\u001b[39m np\u001b[38;5;241m.\u001b[39masarray(row)\n\u001b[1;32m    227\u001b[0m \u001b[38;5;66;03m# FIRST HIDDEN LAYER TAKES WEIGHTS FROM INPUT LAYER\u001b[39;00m\n\u001b[0;32m--> 228\u001b[0m \u001b[38;5;28;43mself\u001b[39;49m\u001b[38;5;241;43m.\u001b[39;49m\u001b[43mhidden_layers\u001b[49m\u001b[43m[\u001b[49m\u001b[38;5;241;43m0\u001b[39;49m\u001b[43m]\u001b[49m\u001b[38;5;241;43m.\u001b[39;49m\u001b[43mfeed_forward\u001b[49m\u001b[43m(\u001b[49m\u001b[38;5;28;43mself\u001b[39;49m\u001b[38;5;241;43m.\u001b[39;49m\u001b[43minput_layer\u001b[49m\u001b[38;5;241;43m.\u001b[39;49m\u001b[43moutput\u001b[49m\u001b[43m,\u001b[49m\u001b[43m \u001b[49m\u001b[43mact_fun\u001b[49m\u001b[43m)\u001b[49m\n\u001b[1;32m    229\u001b[0m \u001b[38;5;28;01mfor\u001b[39;00m pos, layer \u001b[38;5;129;01min\u001b[39;00m \u001b[38;5;28menumerate\u001b[39m(\u001b[38;5;28mself\u001b[39m\u001b[38;5;241m.\u001b[39mhidden_layers[\u001b[38;5;241m1\u001b[39m:]):\n\u001b[1;32m    230\u001b[0m     layer\u001b[38;5;241m.\u001b[39mfeed_forward(\u001b[38;5;28mself\u001b[39m\u001b[38;5;241m.\u001b[39mhidden_layers[pos]\u001b[38;5;241m.\u001b[39moutput, act_fun)\n",
      "File \u001b[0;32m~/env/ML/project/nn_utils.py:141\u001b[0m, in \u001b[0;36mLayer.feed_forward\u001b[0;34m(self, inputs, act_fun)\u001b[0m\n\u001b[1;32m    140\u001b[0m \u001b[38;5;28;01mdef\u001b[39;00m \u001b[38;5;21mfeed_forward\u001b[39m(\u001b[38;5;28mself\u001b[39m, inputs: np\u001b[38;5;241m.\u001b[39mndarray, act_fun: \u001b[38;5;28mstr\u001b[39m):\n\u001b[0;32m--> 141\u001b[0m     output \u001b[38;5;241m=\u001b[39m \u001b[43mnp\u001b[49m\u001b[38;5;241;43m.\u001b[39;49m\u001b[43mdot\u001b[49m\u001b[43m(\u001b[49m\u001b[43minputs\u001b[49m\u001b[43m,\u001b[49m\u001b[43m \u001b[49m\u001b[38;5;28;43mself\u001b[39;49m\u001b[38;5;241;43m.\u001b[39;49m\u001b[43mweights\u001b[49m\u001b[43m)\u001b[49m \u001b[38;5;241m+\u001b[39m \u001b[38;5;28mself\u001b[39m\u001b[38;5;241m.\u001b[39mbiases[\u001b[38;5;241m0\u001b[39m]\n\u001b[1;32m    142\u001b[0m     \u001b[38;5;28mself\u001b[39m\u001b[38;5;241m.\u001b[39moutput \u001b[38;5;241m=\u001b[39m activation(output, act_fun)\n",
      "\u001b[0;31mValueError\u001b[0m: shapes (131,) and (7,3) not aligned: 131 (dim 0) != 7 (dim 0)"
     ]
    }
   ],
   "source": [
    "losses = net.train(tr_data_X, tr_data_Y, epochs=100,\n",
    "                 eta=0.01, clip_value=10000, act_fun=\"relu\")\n",
    "#print(net)\n",
    "#print(net.input_layer.weights)\n",
    "\n",
    "plot_loss(losses)\n"
   ]
  }
 ],
 "metadata": {
  "kernelspec": {
   "display_name": "Python 3",
   "language": "python",
   "name": "python3"
  },
  "language_info": {
   "codemirror_mode": {
    "name": "ipython",
    "version": 3
   },
   "file_extension": ".py",
   "mimetype": "text/x-python",
   "name": "python",
   "nbconvert_exporter": "python",
   "pygments_lexer": "ipython3",
   "version": "3.10.12"
  }
 },
 "nbformat": 4,
 "nbformat_minor": 2
}
