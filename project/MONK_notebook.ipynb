{
 "cells": [
  {
   "cell_type": "code",
   "execution_count": 1,
   "metadata": {},
   "outputs": [],
   "source": [
    "import warnings\n",
    "warnings.simplefilter(action='ignore', category=FutureWarning) #to ignore pandas warning\n",
    "import numpy as np\n",
    "import pandas as pd\n",
    "from NeuralNetwork import *\n",
    "from utils import *\n"
   ]
  },
  {
   "cell_type": "markdown",
   "metadata": {},
   "source": [
    "## Data Processing"
   ]
  },
  {
   "cell_type": "markdown",
   "metadata": {},
   "source": [
    "### Applying One-Hot Encoding and Shuffling"
   ]
  },
  {
   "cell_type": "code",
   "execution_count": 2,
   "metadata": {
    "tags": []
   },
   "outputs": [
    {
     "name": "stdout",
     "output_type": "stream",
     "text": [
      "     Class        ID  a1_1  a1_2  a1_3  a2_1  a2_2  a2_3  a3_1  a3_2  a4_1  \\\n",
      "0        1   data_42     1     0     0     1     0     0     0     1     0   \n",
      "1        0  data_157     0     1     0     1     0     0     1     0     0   \n",
      "2        0  data_143     1     0     0     0     0     1     0     1     0   \n",
      "3        0   data_93     1     0     0     0     1     0     0     1     0   \n",
      "4        1  data_197     0     1     0     0     1     0     1     0     1   \n",
      "..     ...       ...   ...   ...   ...   ...   ...   ...   ...   ...   ...   \n",
      "119      1  data_212     0     1     0     0     1     0     1     0     0   \n",
      "120      1  data_206     0     1     0     0     1     0     1     0     0   \n",
      "121      1  data_414     0     0     1     0     0     1     0     1     1   \n",
      "122      1  data_153     0     1     0     1     0     0     1     0     0   \n",
      "123      0  data_144     1     0     0     0     0     1     0     1     0   \n",
      "\n",
      "     a4_2  a4_3  a5_1  a5_2  a5_3  a5_4  a6_1  a6_2  \n",
      "0       0     1     1     0     0     0     0     1  \n",
      "1       1     0     0     0     1     0     1     0  \n",
      "2       0     1     0     0     0     1     1     0  \n",
      "3       0     1     0     0     1     0     1     0  \n",
      "4       0     0     0     0     1     0     1     0  \n",
      "..    ...   ...   ...   ...   ...   ...   ...   ...  \n",
      "119     0     1     0     1     0     0     0     1  \n",
      "120     1     0     0     0     1     0     0     1  \n",
      "121     0     0     0     0     1     0     0     1  \n",
      "122     1     0     1     0     0     0     1     0  \n",
      "123     0     1     0     0     0     1     0     1  \n",
      "\n",
      "[124 rows x 19 columns]\n"
     ]
    }
   ],
   "source": [
    "col_names = [\"Class\", \"a1\", \"a2\", \"a3\", \"a4\", \"a5\", \"a6\", \"ID\"]\n",
    "tr_data = pd.read_csv(\"../monk+s+problems/monks-1.train\", sep =\" \",  names = col_names)\n",
    "test_data = pd.read_csv(\"../monk+s+problems/monks-1.test\", sep =\" \",  names = col_names)\n",
    "\n",
    "tr_data = process_monk_data(tr_data)\n",
    "test_data = process_monk_data(test_data)\n",
    "\n",
    "print(tr_data)"
   ]
  },
  {
   "cell_type": "markdown",
   "metadata": {},
   "source": [
    "## Creating the Neural Network"
   ]
  },
  {
   "cell_type": "code",
   "execution_count": 3,
   "metadata": {},
   "outputs": [
    {
     "data": {
      "text/plain": [
       "'net = NeuralNetwork()\\n\\nn_inputs = tr_data.shape[1] - 2\\n\\nnet.add_input_layer(n_inputs)\\n\\nnet.add_hidden_layer(n_inputs, 4)\\n\\nnet.add_output_layer(4, 1)\\n'"
      ]
     },
     "execution_count": 3,
     "metadata": {},
     "output_type": "execute_result"
    }
   ],
   "source": [
    "\n",
    "'''net = NeuralNetwork()\n",
    "\n",
    "n_inputs = tr_data.shape[1] - 2\n",
    "\n",
    "net.add_input_layer(n_inputs)\n",
    "\n",
    "net.add_hidden_layer(n_inputs, 4)\n",
    "\n",
    "net.add_output_layer(4, 1)\n",
    "'''"
   ]
  },
  {
   "cell_type": "markdown",
   "metadata": {},
   "source": [
    "## Training"
   ]
  },
  {
   "cell_type": "markdown",
   "metadata": {},
   "source": [
    "### Training with Mean Square Error"
   ]
  },
  {
   "cell_type": "code",
   "execution_count": 4,
   "metadata": {},
   "outputs": [],
   "source": [
    "hyperparams = {\"epochs\": 500,\n",
    "               \"eta\": 0.5,\n",
    "               \"clip_value\": 1000,\n",
    "               \"hid_act_fun\": \"tanh\",\n",
    "               \"out_act_fun\": \"sigmoid\",\n",
    "               \"cost_fun\": \"mse\",\n",
    "               \"mb\" : 16,\n",
    "               \"momentum\" : 0.01}\n",
    "\n",
    "\n",
    "#losses = net.train(tr_data, hyperparams)  # TANH IS FASTER?? SCRITTO SULLE SLIDE\n",
    "# print(net)\n",
    "# print(net.input_layer.weights)\n",
    "\n",
    "#plot_loss(losses, cost_fun = hyperparams[\"cost_fun\"])"
   ]
  },
  {
   "cell_type": "markdown",
   "metadata": {},
   "source": [
    "### Training with Binary Cross Entropy"
   ]
  },
  {
   "cell_type": "code",
   "execution_count": 5,
   "metadata": {},
   "outputs": [
    {
     "data": {
      "text/plain": [
       "'\\n#RESET THE NETWORK!!!\\n\\nlosses = net.train(tr_data_X, tr_data_Y, epochs=1000,\\n                   eta=0.5, clip_value=None, hid_act_fun=\"tanh\", out_act_fun=\"sigmoid\", cost_fun=\"b_ce\")  # TANH IS FASTER?? SCRITTO SULLE SLIDE\\n# print(net)\\n# print(net.input_layer.weights)\\n\\nplot_loss(losses, cost_fun=\"b_ce\")\\n'"
      ]
     },
     "execution_count": 5,
     "metadata": {},
     "output_type": "execute_result"
    }
   ],
   "source": [
    "'''\n",
    "#RESET THE NETWORK!!!\n",
    "\n",
    "losses = net.train(tr_data_X, tr_data_Y, epochs=1000,\n",
    "                   eta=0.5, clip_value=None, hid_act_fun=\"tanh\", out_act_fun=\"sigmoid\", cost_fun=\"b_ce\")  # TANH IS FASTER?? SCRITTO SULLE SLIDE\n",
    "# print(net)\n",
    "# print(net.input_layer.weights)\n",
    "\n",
    "plot_loss(losses, cost_fun=\"b_ce\")\n",
    "'''"
   ]
  },
  {
   "cell_type": "markdown",
   "metadata": {},
   "source": [
    "# Test Monk 1"
   ]
  },
  {
   "cell_type": "code",
   "execution_count": 6,
   "metadata": {},
   "outputs": [],
   "source": [
    "#best_eta = net.k_fold(3, tr_data, hyperparams, \"eta\", [0.01, 0.05, 0.1,0.5, 0.8, 1])\n",
    "#print(best_eta)"
   ]
  },
  {
   "cell_type": "code",
   "execution_count": 7,
   "metadata": {},
   "outputs": [
    {
     "name": "stdout",
     "output_type": "stream",
     "text": [
      "1\n",
      "end Training\n",
      "end Training\n",
      "end Training\n",
      "end Training\n",
      "end Training\n",
      "end Training\n",
      "end Training\n",
      "end Training\n",
      "end Training\n",
      "end Training\n",
      "Valid error:[0.00018338] with par {'eta': 0.8, 'mb': 32, 'momentum': 0.8, 'n_layers': 1, 'n_neurons': 4, 'epochs': 400, 'clip_value': None, 'hid_act_fun': 'tanh', 'out_act_fun': 'sigmoid', 'cost_fun': 'b_ce', 'ridge_lambda': None, 'lasso_lambda': None, 'linear_decay': None, 'eta0': None, 'max_steps': None, 'epochs_update': None}\n",
      "shared_res : [{'eta': 0.8, 'mb': 32, 'momentum': 0.8, 'n_layers': 1, 'n_neurons': 4, 'epochs': 400, 'clip_value': None, 'hid_act_fun': 'tanh', 'out_act_fun': 'sigmoid', 'cost_fun': 'b_ce', 'ridge_lambda': None, 'lasso_lambda': None, 'linear_decay': None, 'eta0': None, 'max_steps': None, 'epochs_update': None}, array([0.00018338])], min err: [0.00018338]\n",
      "GRID SEARCH FINISHED\n",
      "[{'eta': 0.8, 'mb': 32, 'momentum': 0.8, 'n_layers': 1, 'n_neurons': 4, 'epochs': 400, 'clip_value': None, 'hid_act_fun': 'tanh', 'out_act_fun': 'sigmoid', 'cost_fun': 'b_ce', 'ridge_lambda': None, 'lasso_lambda': None, 'linear_decay': None, 'eta0': None, 'max_steps': None, 'epochs_update': None}, array([0.00018338])]\n"
     ]
    },
    {
     "data": {
      "text/plain": [
       "\"\\n[{'eta': 0.8, 'mb': 32, 'momentum': 0.8, 'n_layers': 1, 'n_neurons': 4, 'epochs': 400, 'clip_value': None, 'hid_act_fun': 'tanh', 'out_act_fun': 'sigmoid', 'cost_fun': 'b_ce', 'ridge_lambda': None, 'lasso_lambda': None, 'linear_decay': None, 'eta0': None, 'max_steps': None, 'epochs_update': None}, array([0.00019234])]\\n\""
      ]
     },
     "execution_count": 7,
     "metadata": {},
     "output_type": "execute_result"
    }
   ],
   "source": [
    "grid = {\n",
    "    \"eta\" : [0.8],\n",
    "    \"mb\" : [32],\n",
    "    \"momentum\" : [ 0.8],\n",
    "    \"n_layers\" : [1],\n",
    "    \"n_neurons\" : [4],\n",
    "    \"epochs\" : [400],\n",
    "    \"clip_value\" : [None],\n",
    "    \"hid_act_fun\" : [\"tanh\"],\n",
    "    \"out_act_fun\" : [\"sigmoid\"],\n",
    "    \"cost_fun\" : [\"b_ce\"],\n",
    "    \"ridge_lambda\": [None],\n",
    "    \"lasso_lambda\": [None],\n",
    "    \"linear_decay\": [None],\n",
    "    \"eta0\": [None],\n",
    "    \"max_steps\": [None],\n",
    "    \"epochs_update\": [None]}\n",
    "    \n",
    "\n",
    "search_space = get_search_space(grid)\n",
    "\n",
    "print(len(search_space))\n",
    "r = []\n",
    "\n",
    "grid_results = parallel_grid_search(10, tr_data, search_space, n_inputs = tr_data.shape[1] - 2, n_outputs=1)\n",
    "\n",
    "print(grid_results)\n",
    "'''\n",
    "[{'eta': 0.8, 'mb': 32, 'momentum': 0.8, 'n_layers': 1, 'n_neurons': 4, 'epochs': 400, 'clip_value': None, 'hid_act_fun': 'tanh', 'out_act_fun': 'sigmoid', 'cost_fun': 'b_ce', 'ridge_lambda': None, 'lasso_lambda': None, 'linear_decay': None, 'eta0': None, 'max_steps': None, 'epochs_update': None}, array([0.00019234])]\n",
    "'''\n"
   ]
  },
  {
   "cell_type": "code",
   "execution_count": null,
   "metadata": {},
   "outputs": [],
   "source": []
  },
  {
   "cell_type": "code",
   "execution_count": 8,
   "metadata": {},
   "outputs": [
    {
     "name": "stdout",
     "output_type": "stream",
     "text": [
      "[[-0.27999835  0.0160307   0.22500223  0.03980499]\n",
      " [ 0.35162669 -0.38107552  0.12416533 -0.21133698]\n",
      " [-0.26873383 -0.17863688 -0.0961472   0.017333  ]\n",
      " [-0.35957305  0.27800109  0.14370655 -0.47409509]\n",
      " [ 0.4592846   0.5850841   0.36377927 -0.05552601]\n",
      " [-0.33044143  0.32541087 -0.12442311  0.37725474]\n",
      " [ 0.06427505  0.30139735  0.10997706  0.21805321]\n",
      " [ 0.00324038  0.5511316   0.03916592  0.12405661]\n",
      " [ 0.58115292 -0.41592748 -0.39208018  0.29916232]\n",
      " [-0.36203374  0.59981452 -0.12764559 -0.23066956]\n",
      " [ 0.59343279  0.45689678  0.57634121  0.27961145]\n",
      " [-0.26578002  0.58945884 -0.08270764  0.24764342]\n",
      " [ 0.2923283  -0.04783715  0.18950901  0.28459916]\n",
      " [ 0.11616744 -0.33928245  0.0920383   0.40933157]\n",
      " [-0.2143483  -0.04617822 -0.1342913   0.57069518]\n",
      " [ 0.20747467  0.12574545 -0.23760126  0.16641591]\n",
      " [-0.20810358  0.00982312 -0.19622636  0.20875185]]\n",
      "net.hidden_layers[0].weight\n",
      "\n",
      "[[ 0.57163209  0.35541541 -0.05424938 -0.32284406  0.31792916]\n",
      " [-0.12156242  0.36858106  0.06279727  0.29446775  0.10744851]\n",
      " [ 0.21303983  0.00316588  0.53846021  0.03826544  0.12120435]\n",
      " [ 0.5677913  -0.40636465 -0.38306564  0.2922841  -0.35371002]\n",
      " [ 0.58602384 -0.12471082 -0.22536611  0.57978884  0.44639201]\n",
      " [ 0.56309021  0.27318274 -0.25966931  0.57590625 -0.08080606]\n",
      " [ 0.24194971  0.28560721 -0.0467373   0.1851519   0.27805577]\n",
      " [ 0.11349657 -0.33148181  0.08992219  0.3999204  -0.20942009]\n",
      " [-0.04511651 -0.13120373  0.55757399  0.2027045   0.12285437]\n",
      " [-0.23213843  0.16258975 -0.20331895  0.00959727 -0.19171481]\n",
      " [ 0.20395231  0.17384867 -0.06280444  0.11940052 -0.32957045]\n",
      " [-0.44963108  0.13248158  0.05025395  0.19146918  0.71854519]\n",
      " [ 0.28477128 -0.27522626  0.33679308 -0.39676101 -0.13917299]\n",
      " [-0.02057562  0.51659227 -0.22455203 -0.2491806  -0.02968455]\n",
      " [-0.20004623  0.33969351 -0.3256116  -0.34597482 -0.13200771]\n",
      " [-0.15016243  0.5817758   0.28626114  0.02639769 -0.36948271]\n",
      " [ 0.25458502 -0.30157627 -0.46576601  0.35820446  0.09556179]]\n",
      "1\n",
      "net.hidden_layers[0].weight\n",
      "\n",
      "[[-0.27999835  0.0160307   0.22500223  0.03980499]\n",
      " [ 0.35162669 -0.38107552  0.12416533 -0.21133698]\n",
      " [-0.26873383 -0.17863688 -0.0961472   0.017333  ]\n",
      " [-0.35957305  0.27800109  0.14370655 -0.47409509]\n",
      " [ 0.4592846   0.5850841   0.36377927 -0.05552601]\n",
      " [-0.33044143  0.32541087 -0.12442311  0.37725474]\n",
      " [ 0.06427505  0.30139735  0.10997706  0.21805321]\n",
      " [ 0.00324038  0.5511316   0.03916592  0.12405661]\n",
      " [ 0.58115292 -0.41592748 -0.39208018  0.29916232]\n",
      " [-0.36203374  0.59981452 -0.12764559 -0.23066956]\n",
      " [ 0.59343279  0.45689678  0.57634121  0.27961145]\n",
      " [-0.26578002  0.58945884 -0.08270764  0.24764342]\n",
      " [ 0.2923283  -0.04783715  0.18950901  0.28459916]\n",
      " [ 0.11616744 -0.33928245  0.0920383   0.40933157]\n",
      " [-0.2143483  -0.04617822 -0.1342913   0.57069518]\n",
      " [ 0.20747467  0.12574545 -0.23760126  0.16641591]\n",
      " [-0.20810358  0.00982312 -0.19622636  0.20875185]]\n",
      "net.hidden_layers[0].weight\n",
      "\n"
     ]
    }
   ],
   "source": [
    "np.random.seed(0)\n",
    "net = NeuralNetwork()\n",
    "\n",
    "n_inputs = tr_data.shape[1] - 2\n",
    "\n",
    "net.add_input_layer(n_inputs)\n",
    "\n",
    "net.add_hidden_layer(n_inputs, 4)\n",
    "\n",
    "net.add_output_layer(4, 1)\n",
    "\n",
    "print(net.hidden_layers[0].weights)\n",
    "print(\"net.hidden_layers[0].weight\\n\")\n",
    "\n",
    "net5 = NeuralNetwork()\n",
    "\n",
    "n_inputs = tr_data.shape[1] - 2\n",
    "\n",
    "net5.add_input_layer(n_inputs)\n",
    "\n",
    "net5.add_hidden_layer(n_inputs, 5)\n",
    "\n",
    "net5.add_output_layer(5, 1)\n",
    "\n",
    "print(net5.hidden_layers[0].weights)\n",
    "print(len(net5.hidden_layers))\n",
    "\n",
    "print(\"net.hidden_layers[0].weight\\n\")\n",
    "\n",
    "net4 = NeuralNetwork()\n",
    "\n",
    "n_inputs = tr_data.shape[1] - 2\n",
    "\n",
    "net4.add_input_layer(n_inputs)\n",
    "\n",
    "net4.add_hidden_layer(n_inputs, 4)\n",
    "\n",
    "net4.add_output_layer(4, 1)\n",
    "\n",
    "print(net4.hidden_layers[0].weights)\n",
    "print(\"net.hidden_layers[0].weight\\n\")"
   ]
  }
 ],
 "metadata": {
  "kernelspec": {
   "display_name": "Python 3",
   "language": "python",
   "name": "python3"
  },
  "language_info": {
   "codemirror_mode": {
    "name": "ipython",
    "version": 3
   },
   "file_extension": ".py",
   "mimetype": "text/x-python",
   "name": "python",
   "nbconvert_exporter": "python",
   "pygments_lexer": "ipython3",
   "version": "3.10.12"
  }
 },
 "nbformat": 4,
 "nbformat_minor": 2
}
