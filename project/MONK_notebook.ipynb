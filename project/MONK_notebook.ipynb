{
 "cells": [
  {
   "cell_type": "code",
   "execution_count": 23,
   "metadata": {},
   "outputs": [],
   "source": [
    "import numpy as np\n",
    "import pandas as pd\n",
    "from nn_utils import *"
   ]
  },
  {
   "cell_type": "code",
   "execution_count": 24,
   "metadata": {},
   "outputs": [
    {
     "name": "stdout",
     "output_type": "stream",
     "text": [
      "INPUT LAYER: \n",
      "NODE 0 OUTPUT = 0.0\n",
      "NODE 1 OUTPUT = 0.0\n",
      "NODE 2 OUTPUT = 0.0\n",
      "NODE 3 OUTPUT = 0.0\n",
      "NODE 4 OUTPUT = 0.0\n",
      "NODE 5 OUTPUT = 0.0\n",
      "NODE 6 OUTPUT = 0.0\n",
      "\n",
      "LAYER 0 \n",
      "NODE 0 WEIGHTS = 0.22776644351251774, -0.07867054726096798, -0.07257863223170147, 0.6226741683327486, 0.01493219985767919, 0.011542601352368839, 0.7562813936000752,  BIAS = 0.0\n",
      "NODE 1 WEIGHTS = -0.7884161128066752, -0.5893500110918266, -0.668313907923511, 0.4138885275537244, -0.20476037494999072, -0.03162547978400768, 0.018707580960010576,  BIAS = 0.0\n",
      "NODE 2 WEIGHTS = 0.4789912214307468, 0.21086338780846786, -0.08070244454090189, -0.02643810111861892, -0.3834713337664787, -0.1504993409738246, 0.5062297438547566,  BIAS = 0.0\n",
      "\n",
      "\n",
      "OUTPUT LAYER: \n",
      "NODE 0 WEIGHTS = 0.5034204625995271, -0.2084562794290442, -0.5957139468594781,  BIAS = 0.0\n",
      "NODE 1 WEIGHTS = 1.2446027764982415, -2.0001375931043706, -0.9705083284451056,  BIAS = 0.0\n",
      " \n"
     ]
    }
   ],
   "source": [
    "net = NeuralNetwork()\n",
    "\n",
    "net.add_input_layer(7)\n",
    "\n",
    "net.add_hidden_layer(7, 3)\n",
    "\n",
    "net.add_output_layer(3, 2)\n",
    "\n",
    "print(net)"
   ]
  },
  {
   "cell_type": "code",
   "execution_count": 25,
   "metadata": {
    "tags": []
   },
   "outputs": [
    {
     "data": {
      "text/html": [
       "<div>\n",
       "<style scoped>\n",
       "    .dataframe tbody tr th:only-of-type {\n",
       "        vertical-align: middle;\n",
       "    }\n",
       "\n",
       "    .dataframe tbody tr th {\n",
       "        vertical-align: top;\n",
       "    }\n",
       "\n",
       "    .dataframe thead th {\n",
       "        text-align: right;\n",
       "    }\n",
       "</style>\n",
       "<table border=\"1\" class=\"dataframe\">\n",
       "  <thead>\n",
       "    <tr style=\"text-align: right;\">\n",
       "      <th></th>\n",
       "      <th>Class</th>\n",
       "      <th>a1</th>\n",
       "      <th>a2</th>\n",
       "      <th>a3</th>\n",
       "      <th>a4</th>\n",
       "      <th>a5</th>\n",
       "      <th>a6</th>\n",
       "      <th>ID</th>\n",
       "    </tr>\n",
       "  </thead>\n",
       "  <tbody>\n",
       "    <tr>\n",
       "      <th>NaN</th>\n",
       "      <td>1</td>\n",
       "      <td>1</td>\n",
       "      <td>1</td>\n",
       "      <td>1</td>\n",
       "      <td>1</td>\n",
       "      <td>3</td>\n",
       "      <td>1</td>\n",
       "      <td>data_5</td>\n",
       "    </tr>\n",
       "    <tr>\n",
       "      <th>NaN</th>\n",
       "      <td>1</td>\n",
       "      <td>1</td>\n",
       "      <td>1</td>\n",
       "      <td>1</td>\n",
       "      <td>1</td>\n",
       "      <td>3</td>\n",
       "      <td>2</td>\n",
       "      <td>data_6</td>\n",
       "    </tr>\n",
       "    <tr>\n",
       "      <th>NaN</th>\n",
       "      <td>1</td>\n",
       "      <td>1</td>\n",
       "      <td>1</td>\n",
       "      <td>1</td>\n",
       "      <td>3</td>\n",
       "      <td>2</td>\n",
       "      <td>1</td>\n",
       "      <td>data_19</td>\n",
       "    </tr>\n",
       "    <tr>\n",
       "      <th>NaN</th>\n",
       "      <td>1</td>\n",
       "      <td>1</td>\n",
       "      <td>1</td>\n",
       "      <td>1</td>\n",
       "      <td>3</td>\n",
       "      <td>3</td>\n",
       "      <td>2</td>\n",
       "      <td>data_22</td>\n",
       "    </tr>\n",
       "    <tr>\n",
       "      <th>NaN</th>\n",
       "      <td>1</td>\n",
       "      <td>1</td>\n",
       "      <td>1</td>\n",
       "      <td>2</td>\n",
       "      <td>1</td>\n",
       "      <td>2</td>\n",
       "      <td>1</td>\n",
       "      <td>data_27</td>\n",
       "    </tr>\n",
       "  </tbody>\n",
       "</table>\n",
       "</div>"
      ],
      "text/plain": [
       "     Class  a1  a2  a3  a4  a5  a6       ID\n",
       "NaN      1   1   1   1   1   3   1   data_5\n",
       "NaN      1   1   1   1   1   3   2   data_6\n",
       "NaN      1   1   1   1   3   2   1  data_19\n",
       "NaN      1   1   1   1   3   3   2  data_22\n",
       "NaN      1   1   1   2   1   2   1  data_27"
      ]
     },
     "execution_count": 25,
     "metadata": {},
     "output_type": "execute_result"
    }
   ],
   "source": [
    "col_names = [\"Class\", \"a1\", \"a2\", \"a3\", \"a4\", \"a5\", \"a6\", \"ID\"]\n",
    "\n",
    "data = pd.read_csv(\"../monk+s+problems/monks-1.train\", sep =\" \",  names = col_names)\n",
    "data.head()\n"
   ]
  }
 ],
 "metadata": {
  "kernelspec": {
   "display_name": "Python 3",
   "language": "python",
   "name": "python3"
  },
  "language_info": {
   "codemirror_mode": {
    "name": "ipython",
    "version": 3
   },
   "file_extension": ".py",
   "mimetype": "text/x-python",
   "name": "python",
   "nbconvert_exporter": "python",
   "pygments_lexer": "ipython3",
   "version": "3.10.12"
  }
 },
 "nbformat": 4,
 "nbformat_minor": 2
}
