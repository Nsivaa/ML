{
 "cells": [
  {
   "cell_type": "code",
   "execution_count": 1,
   "metadata": {},
   "outputs": [],
   "source": [
    "import warnings\n",
    "warnings.simplefilter(action='ignore', category=FutureWarning) #to ignore pandas warning\n",
    "import numpy as np\n",
    "import pandas as pd\n",
    "from NeuralNetwork import *\n",
    "from utils import *\n",
    "import itertools\n"
   ]
  },
  {
   "cell_type": "markdown",
   "metadata": {},
   "source": [
    "## Data Processing"
   ]
  },
  {
   "cell_type": "markdown",
   "metadata": {},
   "source": [
    "### Applying One-Hot Encoding and Shuffling"
   ]
  },
  {
   "cell_type": "code",
   "execution_count": 2,
   "metadata": {
    "tags": []
   },
   "outputs": [
    {
     "name": "stdout",
     "output_type": "stream",
     "text": [
      "     Class        ID  a1_1  a1_2  a1_3  a2_1  a2_2  a2_3  a3_1  a3_2  a4_1  \\\n",
      "0        1   data_42     1     0     0     1     0     0     0     1     0   \n",
      "1        0  data_157     0     1     0     1     0     0     1     0     0   \n",
      "2        0  data_143     1     0     0     0     0     1     0     1     0   \n",
      "3        0   data_93     1     0     0     0     1     0     0     1     0   \n",
      "4        1  data_197     0     1     0     0     1     0     1     0     1   \n",
      "..     ...       ...   ...   ...   ...   ...   ...   ...   ...   ...   ...   \n",
      "119      1  data_212     0     1     0     0     1     0     1     0     0   \n",
      "120      1  data_206     0     1     0     0     1     0     1     0     0   \n",
      "121      1  data_414     0     0     1     0     0     1     0     1     1   \n",
      "122      1  data_153     0     1     0     1     0     0     1     0     0   \n",
      "123      0  data_144     1     0     0     0     0     1     0     1     0   \n",
      "\n",
      "     a4_2  a4_3  a5_1  a5_2  a5_3  a5_4  a6_1  a6_2  \n",
      "0       0     1     1     0     0     0     0     1  \n",
      "1       1     0     0     0     1     0     1     0  \n",
      "2       0     1     0     0     0     1     1     0  \n",
      "3       0     1     0     0     1     0     1     0  \n",
      "4       0     0     0     0     1     0     1     0  \n",
      "..    ...   ...   ...   ...   ...   ...   ...   ...  \n",
      "119     0     1     0     1     0     0     0     1  \n",
      "120     1     0     0     0     1     0     0     1  \n",
      "121     0     0     0     0     1     0     0     1  \n",
      "122     1     0     1     0     0     0     1     0  \n",
      "123     0     1     0     0     0     1     0     1  \n",
      "\n",
      "[124 rows x 19 columns]\n"
     ]
    }
   ],
   "source": [
    "col_names = [\"Class\", \"a1\", \"a2\", \"a3\", \"a4\", \"a5\", \"a6\", \"ID\"]\n",
    "tr_data = pd.read_csv(\"../monk+s+problems/monks-1.train\", sep =\" \",  names = col_names)\n",
    "test_data = pd.read_csv(\"../monk+s+problems/monks-1.test\", sep =\" \",  names = col_names)\n",
    "\n",
    "tr_data = process_monk_data(tr_data)\n",
    "test_data = process_monk_data(test_data)\n",
    "\n",
    "print(tr_data)"
   ]
  },
  {
   "cell_type": "markdown",
   "metadata": {},
   "source": [
    "## Creating the Neural Network"
   ]
  },
  {
   "cell_type": "code",
   "execution_count": 3,
   "metadata": {},
   "outputs": [
    {
     "data": {
      "text/plain": [
       "'net = NeuralNetwork()\\n\\nn_inputs = tr_data.shape[1] - 2\\n\\nnet.add_input_layer(n_inputs)\\n\\nnet.add_hidden_layer(n_inputs, 4)\\n\\nnet.add_output_layer(4, 1)\\n'"
      ]
     },
     "execution_count": 3,
     "metadata": {},
     "output_type": "execute_result"
    }
   ],
   "source": [
    "\n",
    "'''net = NeuralNetwork()\n",
    "\n",
    "n_inputs = tr_data.shape[1] - 2\n",
    "\n",
    "net.add_input_layer(n_inputs)\n",
    "\n",
    "net.add_hidden_layer(n_inputs, 4)\n",
    "\n",
    "net.add_output_layer(4, 1)\n",
    "'''"
   ]
  },
  {
   "cell_type": "markdown",
   "metadata": {},
   "source": [
    "## Training"
   ]
  },
  {
   "cell_type": "markdown",
   "metadata": {},
   "source": [
    "### Training with Mean Square Error"
   ]
  },
  {
   "cell_type": "code",
   "execution_count": 4,
   "metadata": {},
   "outputs": [],
   "source": [
    "hyperparams = {\"epochs\": 500,\n",
    "               \"eta\": 0.5,\n",
    "               \"clip_value\": 1000,\n",
    "               \"hid_act_fun\": \"tanh\",\n",
    "               \"out_act_fun\": \"sigmoid\",\n",
    "               \"cost_fun\": \"mse\",\n",
    "               \"mb\" : 16,\n",
    "               \"momentum\" : 0.01}\n",
    "\n",
    "\n",
    "#losses = net.train(tr_data, hyperparams)  # TANH IS FASTER?? SCRITTO SULLE SLIDE\n",
    "# print(net)\n",
    "# print(net.input_layer.weights)\n",
    "\n",
    "#plot_loss(losses, cost_fun = hyperparams[\"cost_fun\"])"
   ]
  },
  {
   "cell_type": "markdown",
   "metadata": {},
   "source": [
    "### Training with Binary Cross Entropy"
   ]
  },
  {
   "cell_type": "code",
   "execution_count": 5,
   "metadata": {},
   "outputs": [
    {
     "data": {
      "text/plain": [
       "'\\n#RESET THE NETWORK!!!\\n\\nlosses = net.train(tr_data_X, tr_data_Y, epochs=1000,\\n                   eta=0.5, clip_value=None, hid_act_fun=\"tanh\", out_act_fun=\"sigmoid\", cost_fun=\"b_ce\")  # TANH IS FASTER?? SCRITTO SULLE SLIDE\\n# print(net)\\n# print(net.input_layer.weights)\\n\\nplot_loss(losses, cost_fun=\"b_ce\")\\n'"
      ]
     },
     "execution_count": 5,
     "metadata": {},
     "output_type": "execute_result"
    }
   ],
   "source": [
    "'''\n",
    "#RESET THE NETWORK!!!\n",
    "\n",
    "losses = net.train(tr_data_X, tr_data_Y, epochs=1000,\n",
    "                   eta=0.5, clip_value=None, hid_act_fun=\"tanh\", out_act_fun=\"sigmoid\", cost_fun=\"b_ce\")  # TANH IS FASTER?? SCRITTO SULLE SLIDE\n",
    "# print(net)\n",
    "# print(net.input_layer.weights)\n",
    "\n",
    "plot_loss(losses, cost_fun=\"b_ce\")\n",
    "'''"
   ]
  },
  {
   "cell_type": "markdown",
   "metadata": {},
   "source": [
    "# Test Monk 1"
   ]
  },
  {
   "cell_type": "code",
   "execution_count": 6,
   "metadata": {},
   "outputs": [],
   "source": [
    "#best_eta = net.k_fold(3, tr_data, hyperparams, \"eta\", [0.01, 0.05, 0.1,0.5, 0.8, 1])\n",
    "#print(best_eta)"
   ]
  },
  {
   "cell_type": "code",
   "execution_count": 7,
   "metadata": {},
   "outputs": [
    {
     "name": "stdout",
     "output_type": "stream",
     "text": [
      "THREAD N. 0\n",
      "PARAMETER CONFIG N.0\n",
      "PARAMETERS: {'eta': 0.1, 'mb': 32, 'momentum': 0.01, 'n_layers': 2, 'n_neurons': 10, 'epochs': 50, 'clip_value': 1000, 'hid_act_fun': 'tanh', 'out_act_fun': 'sigmoid', 'cost_fun': 'mse', 'ridge_lambda': 0.01, 'lasso_lambda': None, 'linear_decay': True, 'eta0': 1, 'max_steps': 100, 'epochs_update': 2}\n"
     ]
    },
    {
     "name": "stdout",
     "output_type": "stream",
     "text": [
      "end Training\n"
     ]
    },
    {
     "ename": "AttributeError",
     "evalue": "'NoneType' object has no attribute 'join'",
     "output_type": "error",
     "traceback": [
      "\u001b[0;31m---------------------------------------------------------------------------\u001b[0m",
      "\u001b[0;31mAttributeError\u001b[0m                            Traceback (most recent call last)",
      "Cell \u001b[0;32mIn[7], line 24\u001b[0m\n\u001b[1;32m     20\u001b[0m search_space \u001b[38;5;241m=\u001b[39m get_search_space(grid)\n\u001b[1;32m     22\u001b[0m \u001b[38;5;66;03m#best_conf, min_err, all_configs = grid_search(2, tr_data, search_space, n_inputs = tr_data.shape[1] - 2, n_outputs=1)\u001b[39;00m\n\u001b[0;32m---> 24\u001b[0m d \u001b[38;5;241m=\u001b[39m \u001b[43mparallel_grid_search\u001b[49m\u001b[43m(\u001b[49m\u001b[38;5;241;43m2\u001b[39;49m\u001b[43m,\u001b[49m\u001b[43m \u001b[49m\u001b[43mtr_data\u001b[49m\u001b[43m,\u001b[49m\u001b[43m \u001b[49m\u001b[43msearch_space\u001b[49m\u001b[43m,\u001b[49m\u001b[43m \u001b[49m\u001b[43mn_inputs\u001b[49m\u001b[43m \u001b[49m\u001b[38;5;241;43m=\u001b[39;49m\u001b[43m \u001b[49m\u001b[43mtr_data\u001b[49m\u001b[38;5;241;43m.\u001b[39;49m\u001b[43mshape\u001b[49m\u001b[43m[\u001b[49m\u001b[38;5;241;43m1\u001b[39;49m\u001b[43m]\u001b[49m\u001b[43m \u001b[49m\u001b[38;5;241;43m-\u001b[39;49m\u001b[43m \u001b[49m\u001b[38;5;241;43m2\u001b[39;49m\u001b[43m,\u001b[49m\u001b[43m \u001b[49m\u001b[43mn_outputs\u001b[49m\u001b[38;5;241;43m=\u001b[39;49m\u001b[38;5;241;43m1\u001b[39;49m\u001b[43m)\u001b[49m\n\u001b[1;32m     25\u001b[0m \u001b[38;5;28mprint\u001b[39m(d)\n",
      "File \u001b[0;32m~/env/ML/project/utils.py:35\u001b[0m, in \u001b[0;36mparallel_grid_search\u001b[0;34m(k, data, search_space, n_inputs, n_outputs)\u001b[0m\n\u001b[1;32m     30\u001b[0m     threads\u001b[38;5;241m.\u001b[39mappend(Thread(target\u001b[38;5;241m=\u001b[39mgrid_search,\n\u001b[1;32m     31\u001b[0m                           args\u001b[38;5;241m=\u001b[39m(k, data, split_search_space[i], n_inputs,\n\u001b[1;32m     32\u001b[0m                                 n_outputs, threads_res, lock, i))\u001b[38;5;241m.\u001b[39mstart())\n\u001b[1;32m     34\u001b[0m \u001b[38;5;28;01mfor\u001b[39;00m thread \u001b[38;5;129;01min\u001b[39;00m threads:\n\u001b[0;32m---> 35\u001b[0m     \u001b[43mthread\u001b[49m\u001b[38;5;241;43m.\u001b[39;49m\u001b[43mjoin\u001b[49m()\n\u001b[1;32m     36\u001b[0m \u001b[38;5;28mprint\u001b[39m(\u001b[38;5;124m\"\u001b[39m\u001b[38;5;124mGRID SEARCH FINISHED\u001b[39m\u001b[38;5;124m\"\u001b[39m)\n\u001b[1;32m     38\u001b[0m f \u001b[38;5;241m=\u001b[39m \u001b[38;5;28mopen\u001b[39m(\u001b[38;5;124m\"\u001b[39m\u001b[38;5;124m./results.txt\u001b[39m\u001b[38;5;124m\"\u001b[39m, \u001b[38;5;124m\"\u001b[39m\u001b[38;5;124mw\u001b[39m\u001b[38;5;124m\"\u001b[39m)\n",
      "\u001b[0;31mAttributeError\u001b[0m: 'NoneType' object has no attribute 'join'"
     ]
    },
    {
     "name": "stdout",
     "output_type": "stream",
     "text": [
      "end Training\n",
      "THREAD N. 0\n",
      "PARAMETER CONFIG N.1\n",
      "PARAMETERS: {'eta': 0.1, 'mb': 32, 'momentum': 0.01, 'n_layers': 5, 'n_neurons': 10, 'epochs': 50, 'clip_value': 1000, 'hid_act_fun': 'tanh', 'out_act_fun': 'sigmoid', 'cost_fun': 'mse', 'ridge_lambda': 0.01, 'lasso_lambda': None, 'linear_decay': True, 'eta0': 1, 'max_steps': 100, 'epochs_update': 2}\n",
      "end Training\n",
      "end Training\n",
      "THREAD N. 0\n",
      "PARAMETER CONFIG N.2\n",
      "PARAMETERS: {'eta': 0.1, 'mb': 32, 'momentum': 0.05, 'n_layers': 2, 'n_neurons': 10, 'epochs': 50, 'clip_value': 1000, 'hid_act_fun': 'tanh', 'out_act_fun': 'sigmoid', 'cost_fun': 'mse', 'ridge_lambda': 0.01, 'lasso_lambda': None, 'linear_decay': True, 'eta0': 1, 'max_steps': 100, 'epochs_update': 2}\n",
      "end Training\n",
      "end Training\n",
      "THREAD N. 0\n",
      "PARAMETER CONFIG N.3\n",
      "PARAMETERS: {'eta': 0.1, 'mb': 32, 'momentum': 0.05, 'n_layers': 5, 'n_neurons': 10, 'epochs': 50, 'clip_value': 1000, 'hid_act_fun': 'tanh', 'out_act_fun': 'sigmoid', 'cost_fun': 'mse', 'ridge_lambda': 0.01, 'lasso_lambda': None, 'linear_decay': True, 'eta0': 1, 'max_steps': 100, 'epochs_update': 2}\n",
      "end Training\n",
      "end Training\n",
      "THREAD N. 0\n",
      "PARAMETER CONFIG N.4\n",
      "PARAMETERS: {'eta': 0.1, 'mb': 32, 'momentum': 0.1, 'n_layers': 2, 'n_neurons': 10, 'epochs': 50, 'clip_value': 1000, 'hid_act_fun': 'tanh', 'out_act_fun': 'sigmoid', 'cost_fun': 'mse', 'ridge_lambda': 0.01, 'lasso_lambda': None, 'linear_decay': True, 'eta0': 1, 'max_steps': 100, 'epochs_update': 2}\n",
      "end Training\n",
      "end Training\n",
      "THREAD N. 0\n",
      "PARAMETER CONFIG N.5\n",
      "PARAMETERS: {'eta': 0.1, 'mb': 32, 'momentum': 0.1, 'n_layers': 5, 'n_neurons': 10, 'epochs': 50, 'clip_value': 1000, 'hid_act_fun': 'tanh', 'out_act_fun': 'sigmoid', 'cost_fun': 'mse', 'ridge_lambda': 0.01, 'lasso_lambda': None, 'linear_decay': True, 'eta0': 1, 'max_steps': 100, 'epochs_update': 2}\n",
      "end Training\n",
      "end Training\n",
      "THREAD N. 0\n",
      "PARAMETER CONFIG N.6\n",
      "PARAMETERS: {'eta': 0.1, 'mb': 64, 'momentum': 0.01, 'n_layers': 2, 'n_neurons': 10, 'epochs': 50, 'clip_value': 1000, 'hid_act_fun': 'tanh', 'out_act_fun': 'sigmoid', 'cost_fun': 'mse', 'ridge_lambda': 0.01, 'lasso_lambda': None, 'linear_decay': True, 'eta0': 1, 'max_steps': 100, 'epochs_update': 2}\n",
      "end Training\n",
      "end Training\n",
      "THREAD N. 0\n",
      "PARAMETER CONFIG N.7\n",
      "PARAMETERS: {'eta': 0.1, 'mb': 64, 'momentum': 0.01, 'n_layers': 5, 'n_neurons': 10, 'epochs': 50, 'clip_value': 1000, 'hid_act_fun': 'tanh', 'out_act_fun': 'sigmoid', 'cost_fun': 'mse', 'ridge_lambda': 0.01, 'lasso_lambda': None, 'linear_decay': True, 'eta0': 1, 'max_steps': 100, 'epochs_update': 2}\n",
      "end Training\n",
      "end Training\n",
      "THREAD N. 0\n",
      "PARAMETER CONFIG N.8\n",
      "PARAMETERS: {'eta': 0.1, 'mb': 64, 'momentum': 0.05, 'n_layers': 2, 'n_neurons': 10, 'epochs': 50, 'clip_value': 1000, 'hid_act_fun': 'tanh', 'out_act_fun': 'sigmoid', 'cost_fun': 'mse', 'ridge_lambda': 0.01, 'lasso_lambda': None, 'linear_decay': True, 'eta0': 1, 'max_steps': 100, 'epochs_update': 2}\n",
      "end Training\n",
      "end Training\n",
      "THREAD N. 0\n",
      "PARAMETER CONFIG N.9\n",
      "PARAMETERS: {'eta': 0.1, 'mb': 64, 'momentum': 0.05, 'n_layers': 5, 'n_neurons': 10, 'epochs': 50, 'clip_value': 1000, 'hid_act_fun': 'tanh', 'out_act_fun': 'sigmoid', 'cost_fun': 'mse', 'ridge_lambda': 0.01, 'lasso_lambda': None, 'linear_decay': True, 'eta0': 1, 'max_steps': 100, 'epochs_update': 2}\n",
      "end Training\n",
      "end Training\n",
      "THREAD N. 0\n",
      "PARAMETER CONFIG N.10\n",
      "PARAMETERS: {'eta': 0.1, 'mb': 64, 'momentum': 0.1, 'n_layers': 2, 'n_neurons': 10, 'epochs': 50, 'clip_value': 1000, 'hid_act_fun': 'tanh', 'out_act_fun': 'sigmoid', 'cost_fun': 'mse', 'ridge_lambda': 0.01, 'lasso_lambda': None, 'linear_decay': True, 'eta0': 1, 'max_steps': 100, 'epochs_update': 2}\n",
      "end Training\n",
      "end Training\n",
      "THREAD N. 0\n",
      "PARAMETER CONFIG N.11\n",
      "PARAMETERS: {'eta': 0.1, 'mb': 64, 'momentum': 0.1, 'n_layers': 5, 'n_neurons': 10, 'epochs': 50, 'clip_value': 1000, 'hid_act_fun': 'tanh', 'out_act_fun': 'sigmoid', 'cost_fun': 'mse', 'ridge_lambda': 0.01, 'lasso_lambda': None, 'linear_decay': True, 'eta0': 1, 'max_steps': 100, 'epochs_update': 2}\n",
      "end Training\n",
      "end Training\n",
      "THREAD N. 0\n",
      "PARAMETER CONFIG N.12\n",
      "PARAMETERS: {'eta': 0.2, 'mb': 32, 'momentum': 0.01, 'n_layers': 2, 'n_neurons': 10, 'epochs': 50, 'clip_value': 1000, 'hid_act_fun': 'tanh', 'out_act_fun': 'sigmoid', 'cost_fun': 'mse', 'ridge_lambda': 0.01, 'lasso_lambda': None, 'linear_decay': True, 'eta0': 1, 'max_steps': 100, 'epochs_update': 2}\n",
      "end Training\n",
      "end Training\n",
      "THREAD N. 0\n",
      "PARAMETER CONFIG N.13\n",
      "PARAMETERS: {'eta': 0.2, 'mb': 32, 'momentum': 0.01, 'n_layers': 5, 'n_neurons': 10, 'epochs': 50, 'clip_value': 1000, 'hid_act_fun': 'tanh', 'out_act_fun': 'sigmoid', 'cost_fun': 'mse', 'ridge_lambda': 0.01, 'lasso_lambda': None, 'linear_decay': True, 'eta0': 1, 'max_steps': 100, 'epochs_update': 2}\n",
      "end Training\n",
      "end Training\n",
      "THREAD N. 0\n",
      "PARAMETER CONFIG N.14\n",
      "PARAMETERS: {'eta': 0.2, 'mb': 32, 'momentum': 0.05, 'n_layers': 2, 'n_neurons': 10, 'epochs': 50, 'clip_value': 1000, 'hid_act_fun': 'tanh', 'out_act_fun': 'sigmoid', 'cost_fun': 'mse', 'ridge_lambda': 0.01, 'lasso_lambda': None, 'linear_decay': True, 'eta0': 1, 'max_steps': 100, 'epochs_update': 2}\n",
      "end Training\n",
      "end Training\n",
      "THREAD N. 0\n",
      "PARAMETER CONFIG N.15\n",
      "PARAMETERS: {'eta': 0.2, 'mb': 32, 'momentum': 0.05, 'n_layers': 5, 'n_neurons': 10, 'epochs': 50, 'clip_value': 1000, 'hid_act_fun': 'tanh', 'out_act_fun': 'sigmoid', 'cost_fun': 'mse', 'ridge_lambda': 0.01, 'lasso_lambda': None, 'linear_decay': True, 'eta0': 1, 'max_steps': 100, 'epochs_update': 2}\n",
      "end Training\n",
      "end Training\n",
      "THREAD N. 0\n",
      "PARAMETER CONFIG N.16\n",
      "PARAMETERS: {'eta': 0.2, 'mb': 32, 'momentum': 0.1, 'n_layers': 2, 'n_neurons': 10, 'epochs': 50, 'clip_value': 1000, 'hid_act_fun': 'tanh', 'out_act_fun': 'sigmoid', 'cost_fun': 'mse', 'ridge_lambda': 0.01, 'lasso_lambda': None, 'linear_decay': True, 'eta0': 1, 'max_steps': 100, 'epochs_update': 2}\n",
      "end Training\n",
      "end Training\n",
      "THREAD N. 0\n",
      "PARAMETER CONFIG N.17\n",
      "PARAMETERS: {'eta': 0.2, 'mb': 32, 'momentum': 0.1, 'n_layers': 5, 'n_neurons': 10, 'epochs': 50, 'clip_value': 1000, 'hid_act_fun': 'tanh', 'out_act_fun': 'sigmoid', 'cost_fun': 'mse', 'ridge_lambda': 0.01, 'lasso_lambda': None, 'linear_decay': True, 'eta0': 1, 'max_steps': 100, 'epochs_update': 2}\n",
      "end Training\n",
      "end Training\n",
      "THREAD N. 0\n",
      "PARAMETER CONFIG N.18\n",
      "PARAMETERS: {'eta': 0.2, 'mb': 64, 'momentum': 0.01, 'n_layers': 2, 'n_neurons': 10, 'epochs': 50, 'clip_value': 1000, 'hid_act_fun': 'tanh', 'out_act_fun': 'sigmoid', 'cost_fun': 'mse', 'ridge_lambda': 0.01, 'lasso_lambda': None, 'linear_decay': True, 'eta0': 1, 'max_steps': 100, 'epochs_update': 2}\n",
      "end Training\n",
      "end Training\n",
      "THREAD N. 0\n",
      "PARAMETER CONFIG N.19\n",
      "PARAMETERS: {'eta': 0.2, 'mb': 64, 'momentum': 0.01, 'n_layers': 5, 'n_neurons': 10, 'epochs': 50, 'clip_value': 1000, 'hid_act_fun': 'tanh', 'out_act_fun': 'sigmoid', 'cost_fun': 'mse', 'ridge_lambda': 0.01, 'lasso_lambda': None, 'linear_decay': True, 'eta0': 1, 'max_steps': 100, 'epochs_update': 2}\n",
      "end Training\n",
      "end Training\n",
      "THREAD N. 0\n",
      "PARAMETER CONFIG N.20\n",
      "PARAMETERS: {'eta': 0.2, 'mb': 64, 'momentum': 0.05, 'n_layers': 2, 'n_neurons': 10, 'epochs': 50, 'clip_value': 1000, 'hid_act_fun': 'tanh', 'out_act_fun': 'sigmoid', 'cost_fun': 'mse', 'ridge_lambda': 0.01, 'lasso_lambda': None, 'linear_decay': True, 'eta0': 1, 'max_steps': 100, 'epochs_update': 2}\n",
      "end Training\n",
      "end Training\n",
      "THREAD N. 0\n",
      "PARAMETER CONFIG N.21\n",
      "PARAMETERS: {'eta': 0.2, 'mb': 64, 'momentum': 0.05, 'n_layers': 5, 'n_neurons': 10, 'epochs': 50, 'clip_value': 1000, 'hid_act_fun': 'tanh', 'out_act_fun': 'sigmoid', 'cost_fun': 'mse', 'ridge_lambda': 0.01, 'lasso_lambda': None, 'linear_decay': True, 'eta0': 1, 'max_steps': 100, 'epochs_update': 2}\n",
      "end Training\n",
      "end Training\n",
      "THREAD N. 0\n",
      "PARAMETER CONFIG N.22\n",
      "PARAMETERS: {'eta': 0.2, 'mb': 64, 'momentum': 0.1, 'n_layers': 2, 'n_neurons': 10, 'epochs': 50, 'clip_value': 1000, 'hid_act_fun': 'tanh', 'out_act_fun': 'sigmoid', 'cost_fun': 'mse', 'ridge_lambda': 0.01, 'lasso_lambda': None, 'linear_decay': True, 'eta0': 1, 'max_steps': 100, 'epochs_update': 2}\n",
      "end Training\n",
      "end Training\n",
      "THREAD N. 0\n",
      "PARAMETER CONFIG N.23\n",
      "PARAMETERS: {'eta': 0.2, 'mb': 64, 'momentum': 0.1, 'n_layers': 5, 'n_neurons': 10, 'epochs': 50, 'clip_value': 1000, 'hid_act_fun': 'tanh', 'out_act_fun': 'sigmoid', 'cost_fun': 'mse', 'ridge_lambda': 0.01, 'lasso_lambda': None, 'linear_decay': True, 'eta0': 1, 'max_steps': 100, 'epochs_update': 2}\n",
      "end Training\n",
      "end Training\n",
      "lock acquired by 0\n",
      "lock released by 0\n",
      "Thread n.0 finished\n"
     ]
    }
   ],
   "source": [
    "grid = {\n",
    "    \"eta\" : [0.1, 0.2],\n",
    "    \"mb\" : [32, 64],\n",
    "    \"momentum\" : [0.01, 0.05, 0.1],\n",
    "    \"n_layers\" : [2, 5],\n",
    "    \"n_neurons\" : [10],\n",
    "    \"epochs\" : [50],\n",
    "    \"clip_value\" : [1000],\n",
    "    \"hid_act_fun\" : [\"tanh\"],\n",
    "    \"out_act_fun\" : [\"sigmoid\"],\n",
    "    \"cost_fun\" : [\"mse\"],\n",
    "    \"ridge_lambda\": [0.01],\n",
    "    \"lasso_lambda\": [None],\n",
    "    \"linear_decay\": [True],\n",
    "    \"eta0\": [1],\n",
    "    \"max_steps\": [100],\n",
    "    \"epochs_update\": [2]}\n",
    "    \n",
    "\n",
    "search_space = get_search_space(grid)\n",
    "\n",
    "#best_conf, min_err, all_configs = grid_search(2, tr_data, search_space, n_inputs = tr_data.shape[1] - 2, n_outputs=1)\n",
    "\n",
    "d = parallel_grid_search(2, tr_data, search_space, n_inputs = tr_data.shape[1] - 2, n_outputs=1)\n",
    "print(d)\n",
    "\n"
   ]
  },
  {
   "cell_type": "code",
   "execution_count": null,
   "metadata": {},
   "outputs": [
    {
     "ename": "NameError",
     "evalue": "name 'all_configs' is not defined",
     "output_type": "error",
     "traceback": [
      "\u001b[0;31m---------------------------------------------------------------------------\u001b[0m",
      "\u001b[0;31mNameError\u001b[0m                                 Traceback (most recent call last)",
      "Cell \u001b[0;32mIn[8], line 1\u001b[0m\n\u001b[0;32m----> 1\u001b[0m \u001b[38;5;28mprint\u001b[39m(\u001b[43mall_configs\u001b[49m)\n\u001b[1;32m      2\u001b[0m \u001b[38;5;28mprint\u001b[39m(min_err)\n\u001b[1;32m      3\u001b[0m \u001b[38;5;28mprint\u001b[39m(best_conf)\n",
      "\u001b[0;31mNameError\u001b[0m: name 'all_configs' is not defined"
     ]
    }
   ],
   "source": [
    "print(all_configs)\n",
    "print(min_err)\n",
    "print(best_conf)\n",
    "\n",
    "#0.012976971611538296"
   ]
  },
  {
   "cell_type": "code",
   "execution_count": null,
   "metadata": {},
   "outputs": [
    {
     "ename": "NameError",
     "evalue": "name 'parallel_grid_search' is not defined",
     "output_type": "error",
     "traceback": [
      "\u001b[0;31m---------------------------------------------------------------------------\u001b[0m",
      "\u001b[0;31mNameError\u001b[0m                                 Traceback (most recent call last)",
      "Cell \u001b[0;32mIn[10], line 1\u001b[0m\n\u001b[0;32m----> 1\u001b[0m \u001b[43mparallel_grid_search\u001b[49m(\u001b[38;5;241m2\u001b[39m, tr_data, dict_search_space, n_inputs \u001b[38;5;241m=\u001b[39m tr_data\u001b[38;5;241m.\u001b[39mshape[\u001b[38;5;241m1\u001b[39m] \u001b[38;5;241m-\u001b[39m \u001b[38;5;241m2\u001b[39m, n_outputs\u001b[38;5;241m=\u001b[39m\u001b[38;5;241m1\u001b[39m)\n",
      "\u001b[0;31mNameError\u001b[0m: name 'parallel_grid_search' is not defined"
     ]
    }
   ],
   "source": [
    "parallel_grid_search(2, tr_data, dict_search_space, n_inputs = tr_data.shape[1] - 2, n_outputs=1)\n",
    "\n"
   ]
  }
 ],
 "metadata": {
  "kernelspec": {
   "display_name": "Python 3",
   "language": "python",
   "name": "python3"
  },
  "language_info": {
   "codemirror_mode": {
    "name": "ipython",
    "version": 3
   },
   "file_extension": ".py",
   "mimetype": "text/x-python",
   "name": "python",
   "nbconvert_exporter": "python",
   "pygments_lexer": "ipython3",
   "version": "3.10.12"
  }
 },
 "nbformat": 4,
 "nbformat_minor": 2
}
