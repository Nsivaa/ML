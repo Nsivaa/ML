{
 "cells": [
  {
   "cell_type": "code",
   "execution_count": 1,
   "metadata": {},
   "outputs": [],
   "source": [
    "import warnings\n",
    "warnings.simplefilter(action='ignore', category=FutureWarning) #to ignore pandas warning\n",
    "import numpy as np\n",
    "import pandas as pd\n",
    "from NeuralNetwork import *\n",
    "from utils import *\n",
    "import itertools\n"
   ]
  },
  {
   "cell_type": "markdown",
   "metadata": {},
   "source": [
    "## Data Processing"
   ]
  },
  {
   "cell_type": "markdown",
   "metadata": {},
   "source": [
    "### Applying One-Hot Encoding and Shuffling"
   ]
  },
  {
   "cell_type": "code",
   "execution_count": 2,
   "metadata": {
    "tags": []
   },
   "outputs": [
    {
     "name": "stdout",
     "output_type": "stream",
     "text": [
      "     Class        ID  a1_1  a1_2  a1_3  a2_1  a2_2  a2_3  a3_1  a3_2  a4_1  \\\n",
      "0        1   data_42     1     0     0     1     0     0     0     1     0   \n",
      "1        0  data_157     0     1     0     1     0     0     1     0     0   \n",
      "2        0  data_143     1     0     0     0     0     1     0     1     0   \n",
      "3        0   data_93     1     0     0     0     1     0     0     1     0   \n",
      "4        1  data_197     0     1     0     0     1     0     1     0     1   \n",
      "..     ...       ...   ...   ...   ...   ...   ...   ...   ...   ...   ...   \n",
      "119      1  data_212     0     1     0     0     1     0     1     0     0   \n",
      "120      1  data_206     0     1     0     0     1     0     1     0     0   \n",
      "121      1  data_414     0     0     1     0     0     1     0     1     1   \n",
      "122      1  data_153     0     1     0     1     0     0     1     0     0   \n",
      "123      0  data_144     1     0     0     0     0     1     0     1     0   \n",
      "\n",
      "     a4_2  a4_3  a5_1  a5_2  a5_3  a5_4  a6_1  a6_2  \n",
      "0       0     1     1     0     0     0     0     1  \n",
      "1       1     0     0     0     1     0     1     0  \n",
      "2       0     1     0     0     0     1     1     0  \n",
      "3       0     1     0     0     1     0     1     0  \n",
      "4       0     0     0     0     1     0     1     0  \n",
      "..    ...   ...   ...   ...   ...   ...   ...   ...  \n",
      "119     0     1     0     1     0     0     0     1  \n",
      "120     1     0     0     0     1     0     0     1  \n",
      "121     0     0     0     0     1     0     0     1  \n",
      "122     1     0     1     0     0     0     1     0  \n",
      "123     0     1     0     0     0     1     0     1  \n",
      "\n",
      "[124 rows x 19 columns]\n"
     ]
    }
   ],
   "source": [
    "col_names = [\"Class\", \"a1\", \"a2\", \"a3\", \"a4\", \"a5\", \"a6\", \"ID\"]\n",
    "tr_data = pd.read_csv(\"../monk+s+problems/monks-1.train\", sep =\" \",  names = col_names)\n",
    "test_data = pd.read_csv(\"../monk+s+problems/monks-1.test\", sep =\" \",  names = col_names)\n",
    "\n",
    "tr_data = process_monk_data(tr_data)\n",
    "test_data = process_monk_data(test_data)\n",
    "\n",
    "print(tr_data)"
   ]
  },
  {
   "cell_type": "markdown",
   "metadata": {},
   "source": [
    "## Creating the Neural Network"
   ]
  },
  {
   "cell_type": "code",
   "execution_count": 3,
   "metadata": {},
   "outputs": [
    {
     "data": {
      "text/plain": [
       "'net = NeuralNetwork()\\n\\nn_inputs = tr_data.shape[1] - 2\\n\\nnet.add_input_layer(n_inputs)\\n\\nnet.add_hidden_layer(n_inputs, 4)\\n\\nnet.add_output_layer(4, 1)\\n'"
      ]
     },
     "execution_count": 3,
     "metadata": {},
     "output_type": "execute_result"
    }
   ],
   "source": [
    "\n",
    "'''net = NeuralNetwork()\n",
    "\n",
    "n_inputs = tr_data.shape[1] - 2\n",
    "\n",
    "net.add_input_layer(n_inputs)\n",
    "\n",
    "net.add_hidden_layer(n_inputs, 4)\n",
    "\n",
    "net.add_output_layer(4, 1)\n",
    "'''"
   ]
  },
  {
   "cell_type": "markdown",
   "metadata": {},
   "source": [
    "## Training"
   ]
  },
  {
   "cell_type": "markdown",
   "metadata": {},
   "source": [
    "### Training with Mean Square Error"
   ]
  },
  {
   "cell_type": "code",
   "execution_count": 4,
   "metadata": {},
   "outputs": [],
   "source": [
    "hyperparams = {\"epochs\": 500,\n",
    "               \"eta\": 0.5,\n",
    "               \"clip_value\": 1000,\n",
    "               \"hid_act_fun\": \"tanh\",\n",
    "               \"out_act_fun\": \"sigmoid\",\n",
    "               \"cost_fun\": \"mse\",\n",
    "               \"mb\" : 16,\n",
    "               \"momentum\" : 0.01}\n",
    "\n",
    "\n",
    "#losses = net.train(tr_data, hyperparams)  # TANH IS FASTER?? SCRITTO SULLE SLIDE\n",
    "# print(net)\n",
    "# print(net.input_layer.weights)\n",
    "\n",
    "#plot_loss(losses, cost_fun = hyperparams[\"cost_fun\"])"
   ]
  },
  {
   "cell_type": "markdown",
   "metadata": {},
   "source": [
    "### Training with Binary Cross Entropy"
   ]
  },
  {
   "cell_type": "code",
   "execution_count": 5,
   "metadata": {},
   "outputs": [
    {
     "data": {
      "text/plain": [
       "'\\n#RESET THE NETWORK!!!\\n\\nlosses = net.train(tr_data_X, tr_data_Y, epochs=1000,\\n                   eta=0.5, clip_value=None, hid_act_fun=\"tanh\", out_act_fun=\"sigmoid\", cost_fun=\"b_ce\")  # TANH IS FASTER?? SCRITTO SULLE SLIDE\\n# print(net)\\n# print(net.input_layer.weights)\\n\\nplot_loss(losses, cost_fun=\"b_ce\")\\n'"
      ]
     },
     "execution_count": 5,
     "metadata": {},
     "output_type": "execute_result"
    }
   ],
   "source": [
    "'''\n",
    "#RESET THE NETWORK!!!\n",
    "\n",
    "losses = net.train(tr_data_X, tr_data_Y, epochs=1000,\n",
    "                   eta=0.5, clip_value=None, hid_act_fun=\"tanh\", out_act_fun=\"sigmoid\", cost_fun=\"b_ce\")  # TANH IS FASTER?? SCRITTO SULLE SLIDE\n",
    "# print(net)\n",
    "# print(net.input_layer.weights)\n",
    "\n",
    "plot_loss(losses, cost_fun=\"b_ce\")\n",
    "'''"
   ]
  },
  {
   "cell_type": "markdown",
   "metadata": {},
   "source": [
    "# Test Monk 1"
   ]
  },
  {
   "cell_type": "code",
   "execution_count": 6,
   "metadata": {},
   "outputs": [],
   "source": [
    "#best_eta = net.k_fold(3, tr_data, hyperparams, \"eta\", [0.01, 0.05, 0.1,0.5, 0.8, 1])\n",
    "#print(best_eta)"
   ]
  },
  {
   "cell_type": "code",
   "execution_count": 7,
   "metadata": {},
   "outputs": [
    {
     "name": "stdout",
     "output_type": "stream",
     "text": [
      "24\n",
      "PARAMETERS: {'eta': 0.1, 'mb': 32, 'momentum': 0.01, 'n_layers': 2, 'n_neurons': 10, 'epochs': 50, 'clip_value': 1000, 'hid_act_fun': 'tanh', 'out_act_fun': 'sigmoid', 'cost_fun': 'mse', 'ridge_lambda': 0.01, 'lasso_lambda': None, 'linear_decay': True, 'eta0': 1, 'max_steps': 100, 'epochs_update': 2}\n",
      "PARAMETERS: {'eta': 0.1, 'mb': 32, 'momentum': 0.05, 'n_layers': 2, 'n_neurons': 10, 'epochs': 50, 'clip_value': 1000, 'hid_act_fun': 'tanh', 'out_act_fun': 'sigmoid', 'cost_fun': 'mse', 'ridge_lambda': 0.01, 'lasso_lambda': None, 'linear_decay': True, 'eta0': 1, 'max_steps': 100, 'epochs_update': 2}\n",
      "PARAMETERS: {'eta': 0.1, 'mb': 32, 'momentum': 0.1, 'n_layers': 2, 'n_neurons': 10, 'epochs': 50, 'clip_value': 1000, 'hid_act_fun': 'tanh', 'out_act_fun': 'sigmoid', 'cost_fun': 'mse', 'ridge_lambda': 0.01, 'lasso_lambda': None, 'linear_decay': True, 'eta0': 1, 'max_steps': 100, 'epochs_update': 2}\n",
      "PARAMETERS: {'eta': 0.1, 'mb': 64, 'momentum': 0.01, 'n_layers': 2, 'n_neurons': 10, 'epochs': 50, 'clip_value': 1000, 'hid_act_fun': 'tanh', 'out_act_fun': 'sigmoid', 'cost_fun': 'mse', 'ridge_lambda': 0.01, 'lasso_lambda': None, 'linear_decay': True, 'eta0': 1, 'max_steps': 100, 'epochs_update': 2}\n",
      "PARAMETERS: {'eta': 0.1, 'mb': 64, 'momentum': 0.05, 'n_layers': 2, 'n_neurons': 10, 'epochs': 50, 'clip_value': 1000, 'hid_act_fun': 'tanh', 'out_act_fun': 'sigmoid', 'cost_fun': 'mse', 'ridge_lambda': 0.01, 'lasso_lambda': None, 'linear_decay': True, 'eta0': 1, 'max_steps': 100, 'epochs_update': 2}\n",
      "PARAMETERS: {'eta': 0.1, 'mb': 64, 'momentum': 0.1, 'n_layers': 2, 'n_neurons': 10, 'epochs': 50, 'clip_value': 1000, 'hid_act_fun': 'tanh', 'out_act_fun': 'sigmoid', 'cost_fun': 'mse', 'ridge_lambda': 0.01, 'lasso_lambda': None, 'linear_decay': True, 'eta0': 1, 'max_steps': 100, 'epochs_update': 2}\n",
      "PARAMETERS: {'eta': 0.2, 'mb': 32, 'momentum': 0.01, 'n_layers': 2, 'n_neurons': 10, 'epochs': 50, 'clip_value': 1000, 'hid_act_fun': 'tanh', 'out_act_fun': 'sigmoid', 'cost_fun': 'mse', 'ridge_lambda': 0.01, 'lasso_lambda': None, 'linear_decay': True, 'eta0': 1, 'max_steps': 100, 'epochs_update': 2}\n",
      "PARAMETERS: {'eta': 0.2, 'mb': 32, 'momentum': 0.05, 'n_layers': 2, 'n_neurons': 10, 'epochs': 50, 'clip_value': 1000, 'hid_act_fun': 'tanh', 'out_act_fun': 'sigmoid', 'cost_fun': 'mse', 'ridge_lambda': 0.01, 'lasso_lambda': None, 'linear_decay': True, 'eta0': 1, 'max_steps': 100, 'epochs_update': 2}\n",
      "PARAMETERS: {'eta': 0.2, 'mb': 32, 'momentum': 0.1, 'n_layers': 2, 'n_neurons': 10, 'epochs': 50, 'clip_value': 1000, 'hid_act_fun': 'tanh', 'out_act_fun': 'sigmoid', 'cost_fun': 'mse', 'ridge_lambda': 0.01, 'lasso_lambda': None, 'linear_decay': True, 'eta0': 1, 'max_steps': 100, 'epochs_update': 2}\n",
      "PARAMETERS: {'eta': 0.2, 'mb': 32, 'momentum': 0.1, 'n_layers': 5, 'n_neurons': 10, 'epochs': 50, 'clip_value': 1000, 'hid_act_fun': 'tanh', 'out_act_fun': 'sigmoid', 'cost_fun': 'mse', 'ridge_lambda': 0.01, 'lasso_lambda': None, 'linear_decay': True, 'eta0': 1, 'max_steps': 100, 'epochs_update': 2}\n",
      "PARAMETERS: {'eta': 0.2, 'mb': 64, 'momentum': 0.01, 'n_layers': 2, 'n_neurons': 10, 'epochs': 50, 'clip_value': 1000, 'hid_act_fun': 'tanh', 'out_act_fun': 'sigmoid', 'cost_fun': 'mse', 'ridge_lambda': 0.01, 'lasso_lambda': None, 'linear_decay': True, 'eta0': 1, 'max_steps': 100, 'epochs_update': 2}\n",
      "PARAMETERS: {'eta': 0.2, 'mb': 64, 'momentum': 0.01, 'n_layers': 5, 'n_neurons': 10, 'epochs': 50, 'clip_value': 1000, 'hid_act_fun': 'tanh', 'out_act_fun': 'sigmoid', 'cost_fun': 'mse', 'ridge_lambda': 0.01, 'lasso_lambda': None, 'linear_decay': True, 'eta0': 1, 'max_steps': 100, 'epochs_update': 2}PARAMETERS: {'eta': 0.2, 'mb': 64, 'momentum': 0.05, 'n_layers': 2, 'n_neurons': 10, 'epochs': 50, 'clip_value': 1000, 'hid_act_fun': 'tanh', 'out_act_fun': 'sigmoid', 'cost_fun': 'mse', 'ridge_lambda': 0.01, 'lasso_lambda': None, 'linear_decay': True, 'eta0': 1, 'max_steps': 100, 'epochs_update': 2}\n",
      "PARAMETERS: {'eta': 0.2, 'mb': 64, 'momentum': 0.05, 'n_layers': 5, 'n_neurons': 10, 'epochs': 50, 'clip_value': 1000, 'hid_act_fun': 'tanh', 'out_act_fun': 'sigmoid', 'cost_fun': 'mse', 'ridge_lambda': 0.01, 'lasso_lambda': None, 'linear_decay': True, 'eta0': 1, 'max_steps': 100, 'epochs_update': 2}\n",
      "\n",
      "PARAMETERS: {'eta': 0.2, 'mb': 64, 'momentum': 0.1, 'n_layers': 5, 'n_neurons': 10, 'epochs': 50, 'clip_value': 1000, 'hid_act_fun': 'tanh', 'out_act_fun': 'sigmoid', 'cost_fun': 'mse', 'ridge_lambda': 0.01, 'lasso_lambda': None, 'linear_decay': True, 'eta0': 1, 'max_steps': 100, 'epochs_update': 2}\n",
      "PARAMETERS: {'eta': 0.2, 'mb': 64, 'momentum': 0.1, 'n_layers': 2, 'n_neurons': 10, 'epochs': 50, 'clip_value': 1000, 'hid_act_fun': 'tanh', 'out_act_fun': 'sigmoid', 'cost_fun': 'mse', 'ridge_lambda': 0.01, 'lasso_lambda': None, 'linear_decay': True, 'eta0': 1, 'max_steps': 100, 'epochs_update': 2}\n",
      "end Trainingend Training\n",
      "\n",
      "end Training\n",
      "end Training\n",
      "end Trainingend Training\n",
      "\n",
      "end Training\n",
      "end Training\n",
      "end Training\n",
      "end Training\n",
      "end Trainingend Training\n",
      "\n",
      "end Training\n",
      "PARAMETERS: {'eta': 0.1, 'mb': 64, 'momentum': 0.05, 'n_layers': 5, 'n_neurons': 10, 'epochs': 50, 'clip_value': 1000, 'hid_act_fun': 'tanh', 'out_act_fun': 'sigmoid', 'cost_fun': 'mse', 'ridge_lambda': 0.01, 'lasso_lambda': None, 'linear_decay': True, 'eta0': 1, 'max_steps': 100, 'epochs_update': 2}\n",
      "end Training\n",
      "PARAMETERS: {'eta': 0.1, 'mb': 64, 'momentum': 0.01, 'n_layers': 5, 'n_neurons': 10, 'epochs': 50, 'clip_value': 1000, 'hid_act_fun': 'tanh', 'out_act_fun': 'sigmoid', 'cost_fun': 'mse', 'ridge_lambda': 0.01, 'lasso_lambda': None, 'linear_decay': True, 'eta0': 1, 'max_steps': 100, 'epochs_update': 2}\n",
      "end Training\n",
      "end Trainingend Training\n",
      "\n",
      "end Training\n",
      "PARAMETERS: {'eta': 0.1, 'mb': 64, 'momentum': 0.1, 'n_layers': 5, 'n_neurons': 10, 'epochs': 50, 'clip_value': 1000, 'hid_act_fun': 'tanh', 'out_act_fun': 'sigmoid', 'cost_fun': 'mse', 'ridge_lambda': 0.01, 'lasso_lambda': None, 'linear_decay': True, 'eta0': 1, 'max_steps': 100, 'epochs_update': 2}\n",
      "end Training\n",
      "PARAMETERS: {'eta': 0.1, 'mb': 32, 'momentum': 0.05, 'n_layers': 5, 'n_neurons': 10, 'epochs': 50, 'clip_value': 1000, 'hid_act_fun': 'tanh', 'out_act_fun': 'sigmoid', 'cost_fun': 'mse', 'ridge_lambda': 0.01, 'lasso_lambda': None, 'linear_decay': True, 'eta0': 1, 'max_steps': 100, 'epochs_update': 2}\n",
      "end Training\n",
      "PARAMETERS: {'eta': 0.1, 'mb': 32, 'momentum': 0.01, 'n_layers': 5, 'n_neurons': 10, 'epochs': 50, 'clip_value': 1000, 'hid_act_fun': 'tanh', 'out_act_fun': 'sigmoid', 'cost_fun': 'mse', 'ridge_lambda': 0.01, 'lasso_lambda': None, 'linear_decay': True, 'eta0': 1, 'max_steps': 100, 'epochs_update': 2}end Training\n",
      "\n",
      "PARAMETERS: {'eta': 0.1, 'mb': 32, 'momentum': 0.1, 'n_layers': 5, 'n_neurons': 10, 'epochs': 50, 'clip_value': 1000, 'hid_act_fun': 'tanh', 'out_act_fun': 'sigmoid', 'cost_fun': 'mse', 'ridge_lambda': 0.01, 'lasso_lambda': None, 'linear_decay': True, 'eta0': 1, 'max_steps': 100, 'epochs_update': 2}\n",
      "end Training\n",
      "end Training\n",
      "end Training\n",
      "PARAMETERS: {'eta': 0.2, 'mb': 32, 'momentum': 0.01, 'n_layers': 5, 'n_neurons': 10, 'epochs': 50, 'clip_value': 1000, 'hid_act_fun': 'tanh', 'out_act_fun': 'sigmoid', 'cost_fun': 'mse', 'ridge_lambda': 0.01, 'lasso_lambda': None, 'linear_decay': True, 'eta0': 1, 'max_steps': 100, 'epochs_update': 2}\n",
      "end Training\n",
      "end Training\n",
      "PARAMETERS: {'eta': 0.2, 'mb': 32, 'momentum': 0.05, 'n_layers': 5, 'n_neurons': 10, 'epochs': 50, 'clip_value': 1000, 'hid_act_fun': 'tanh', 'out_act_fun': 'sigmoid', 'cost_fun': 'mse', 'ridge_lambda': 0.01, 'lasso_lambda': None, 'linear_decay': True, 'eta0': 1, 'max_steps': 100, 'epochs_update': 2}\n",
      "end Training\n",
      "end Training\n",
      "end Training\n",
      "end Training\n",
      "end Training\n",
      "end Training\n",
      "end Training\n",
      "end Training\n",
      "end Training\n",
      "end Training\n",
      "end Training\n",
      "end Training\n",
      "end Training\n",
      "end Training\n",
      "end Training\n",
      "end Training\n",
      "end Training\n",
      "end Training\n",
      "end Training\n",
      "end Training\n",
      "end Training\n",
      "end Training\n",
      "GRID SEARCH FINISHED\n",
      "[{frozenset({('ridge_lambda', 0.01), ('eta', 0.2), ('mb', 64), ('momentum', 0.05), ('clip_value', 1000), ('eta0', 1), ('hid_act_fun', 'tanh'), ('n_layers', 2), ('cost_fun', 'mse'), ('lasso_lambda', None), ('max_steps', 100), ('epochs_update', 2), ('linear_decay', True), ('out_act_fun', 'sigmoid'), ('n_neurons', 10), ('epochs', 50)}): 0.03657446591922524}, {frozenset({('ridge_lambda', 0.01), ('eta', 0.2), ('mb', 64), ('clip_value', 1000), ('eta0', 1), ('hid_act_fun', 'tanh'), ('n_layers', 2), ('momentum', 0.01), ('cost_fun', 'mse'), ('lasso_lambda', None), ('max_steps', 100), ('epochs_update', 2), ('linear_decay', True), ('out_act_fun', 'sigmoid'), ('n_neurons', 10), ('epochs', 50)}): 0.05093786836268473}, {frozenset({('ridge_lambda', 0.01), ('eta', 0.2), ('mb', 64), ('clip_value', 1000), ('eta0', 1), ('hid_act_fun', 'tanh'), ('n_layers', 2), ('epochs', 50), ('cost_fun', 'mse'), ('lasso_lambda', None), ('max_steps', 100), ('epochs_update', 2), ('linear_decay', True), ('out_act_fun', 'sigmoid'), ('n_neurons', 10), ('momentum', 0.1)}): 0.03182384996938367}, {frozenset({('mb', 32), ('ridge_lambda', 0.01), ('eta', 0.2), ('clip_value', 1000), ('eta0', 1), ('hid_act_fun', 'tanh'), ('n_layers', 2), ('epochs', 50), ('cost_fun', 'mse'), ('lasso_lambda', None), ('max_steps', 100), ('epochs_update', 2), ('linear_decay', True), ('out_act_fun', 'sigmoid'), ('n_neurons', 10), ('momentum', 0.1)}): 0.024610949598013132}, {frozenset({('n_layers', 5), ('ridge_lambda', 0.01), ('eta', 0.2), ('mb', 64), ('clip_value', 1000), ('eta0', 1), ('hid_act_fun', 'tanh'), ('momentum', 0.01), ('cost_fun', 'mse'), ('lasso_lambda', None), ('max_steps', 100), ('epochs_update', 2), ('linear_decay', True), ('out_act_fun', 'sigmoid'), ('n_neurons', 10), ('epochs', 50)}): 0.05526127895128081}, {frozenset({('n_layers', 5), ('ridge_lambda', 0.01), ('eta', 0.2), ('mb', 64), ('momentum', 0.05), ('clip_value', 1000), ('eta0', 1), ('hid_act_fun', 'tanh'), ('cost_fun', 'mse'), ('lasso_lambda', None), ('max_steps', 100), ('epochs_update', 2), ('linear_decay', True), ('out_act_fun', 'sigmoid'), ('n_neurons', 10), ('epochs', 50)}): 0.05759801626812554}, {frozenset({('n_layers', 5), ('ridge_lambda', 0.01), ('eta', 0.2), ('mb', 64), ('clip_value', 1000), ('eta0', 1), ('hid_act_fun', 'tanh'), ('cost_fun', 'mse'), ('lasso_lambda', None), ('max_steps', 100), ('epochs_update', 2), ('momentum', 0.1), ('linear_decay', True), ('out_act_fun', 'sigmoid'), ('n_neurons', 10), ('epochs', 50)}): 0.056742546398131574}, {frozenset({('mb', 32), ('n_layers', 5), ('ridge_lambda', 0.01), ('eta', 0.2), ('clip_value', 1000), ('eta0', 1), ('hid_act_fun', 'tanh'), ('cost_fun', 'mse'), ('lasso_lambda', None), ('max_steps', 100), ('epochs_update', 2), ('momentum', 0.1), ('linear_decay', True), ('out_act_fun', 'sigmoid'), ('n_neurons', 10), ('epochs', 50)}): 0.044465480749459524}, {frozenset({('ridge_lambda', 0.01), ('mb', 64), ('momentum', 0.05), ('eta0', 1), ('clip_value', 1000), ('hid_act_fun', 'tanh'), ('n_layers', 2), ('epochs', 50), ('cost_fun', 'mse'), ('lasso_lambda', None), ('max_steps', 100), ('epochs_update', 2), ('linear_decay', True), ('out_act_fun', 'sigmoid'), ('n_neurons', 10), ('eta', 0.1)}): 0.03657446591922524}, {frozenset({('ridge_lambda', 0.01), ('mb', 64), ('clip_value', 1000), ('eta0', 1), ('hid_act_fun', 'tanh'), ('n_layers', 2), ('out_act_fun', 'sigmoid'), ('cost_fun', 'mse'), ('lasso_lambda', None), ('max_steps', 100), ('epochs_update', 2), ('momentum', 0.1), ('linear_decay', True), ('epochs', 50), ('n_neurons', 10), ('eta', 0.1)}): 0.03182384996938367}, {frozenset({('ridge_lambda', 0.01), ('mb', 64), ('clip_value', 1000), ('eta0', 1), ('hid_act_fun', 'tanh'), ('n_layers', 2), ('momentum', 0.01), ('epochs', 50), ('cost_fun', 'mse'), ('lasso_lambda', None), ('max_steps', 100), ('epochs_update', 2), ('linear_decay', True), ('out_act_fun', 'sigmoid'), ('n_neurons', 10), ('eta', 0.1)}): 0.05093786836268473}, {frozenset({('mb', 32), ('ridge_lambda', 0.01), ('clip_value', 1000), ('eta0', 1), ('hid_act_fun', 'tanh'), ('n_layers', 2), ('momentum', 0.01), ('epochs', 50), ('cost_fun', 'mse'), ('lasso_lambda', None), ('max_steps', 100), ('epochs_update', 2), ('linear_decay', True), ('out_act_fun', 'sigmoid'), ('n_neurons', 10), ('eta', 0.1)}): 0.04629174941716797}, {frozenset({('mb', 32), ('ridge_lambda', 0.01), ('clip_value', 1000), ('eta0', 1), ('hid_act_fun', 'tanh'), ('n_layers', 2), ('out_act_fun', 'sigmoid'), ('cost_fun', 'mse'), ('lasso_lambda', None), ('max_steps', 100), ('epochs_update', 2), ('momentum', 0.1), ('linear_decay', True), ('epochs', 50), ('n_neurons', 10), ('eta', 0.1)}): 0.024610949598013132}, {frozenset({('mb', 32), ('ridge_lambda', 0.01), ('eta', 0.2), ('momentum', 0.05), ('clip_value', 1000), ('eta0', 1), ('hid_act_fun', 'tanh'), ('n_layers', 2), ('cost_fun', 'mse'), ('lasso_lambda', None), ('max_steps', 100), ('epochs_update', 2), ('linear_decay', True), ('out_act_fun', 'sigmoid'), ('n_neurons', 10), ('epochs', 50)}): 0.03306645647128554}, {frozenset({('mb', 32), ('ridge_lambda', 0.01), ('eta', 0.2), ('clip_value', 1000), ('eta0', 1), ('hid_act_fun', 'tanh'), ('n_layers', 2), ('momentum', 0.01), ('cost_fun', 'mse'), ('lasso_lambda', None), ('max_steps', 100), ('epochs_update', 2), ('linear_decay', True), ('out_act_fun', 'sigmoid'), ('n_neurons', 10), ('epochs', 50)}): 0.04629174941716797}, {frozenset({('mb', 32), ('ridge_lambda', 0.01), ('momentum', 0.05), ('eta0', 1), ('clip_value', 1000), ('hid_act_fun', 'tanh'), ('n_layers', 2), ('epochs', 50), ('cost_fun', 'mse'), ('lasso_lambda', None), ('max_steps', 100), ('epochs_update', 2), ('linear_decay', True), ('out_act_fun', 'sigmoid'), ('n_neurons', 10), ('eta', 0.1)}): 0.03306645647128554}]\n"
     ]
    }
   ],
   "source": [
    "grid = {\n",
    "    \"eta\" : [0.1, 0.2],\n",
    "    \"mb\" : [32, 64],\n",
    "    \"momentum\" : [0.01, 0.05, 0.1],\n",
    "    \"n_layers\" : [2, 5],\n",
    "    \"n_neurons\" : [10],\n",
    "    \"epochs\" : [50],\n",
    "    \"clip_value\" : [1000],\n",
    "    \"hid_act_fun\" : [\"tanh\"],\n",
    "    \"out_act_fun\" : [\"sigmoid\"],\n",
    "    \"cost_fun\" : [\"mse\"],\n",
    "    \"ridge_lambda\": [0.01],\n",
    "    \"lasso_lambda\": [None],\n",
    "    \"linear_decay\": [True],\n",
    "    \"eta0\": [1],\n",
    "    \"max_steps\": [100],\n",
    "    \"epochs_update\": [2]}\n",
    "    \n",
    "\n",
    "search_space = get_search_space(grid)\n",
    "\n",
    "print(len(search_space))\n",
    "\n",
    "grid_results = parallel_grid_search(2, tr_data, search_space, n_inputs = tr_data.shape[1] - 2, n_outputs=1)\n",
    "print(grid_results)\n",
    "\n",
    "\n",
    "\n",
    "#best_conf = np.min()"
   ]
  },
  {
   "cell_type": "code",
   "execution_count": 25,
   "metadata": {},
   "outputs": [
    {
     "name": "stdout",
     "output_type": "stream",
     "text": [
      "a\n"
     ]
    },
    {
     "ename": "KeyboardInterrupt",
     "evalue": "",
     "output_type": "error",
     "traceback": [
      "\u001b[0;31m---------------------------------------------------------------------------\u001b[0m",
      "\u001b[0;31mKeyboardInterrupt\u001b[0m                         Traceback (most recent call last)",
      "Cell \u001b[0;32mIn[25], line 2\u001b[0m\n\u001b[1;32m      1\u001b[0m \u001b[38;5;28mprint\u001b[39m(\u001b[38;5;124m\"\u001b[39m\u001b[38;5;124ma\u001b[39m\u001b[38;5;124m\"\u001b[39m)\n\u001b[0;32m----> 2\u001b[0m \u001b[38;5;28;43mprint\u001b[39;49m(grid_results[\u001b[38;5;241m0\u001b[39m])\n",
      "Cell \u001b[0;32mIn[25], line 2\u001b[0m\n\u001b[1;32m      1\u001b[0m \u001b[38;5;28mprint\u001b[39m(\u001b[38;5;124m\"\u001b[39m\u001b[38;5;124ma\u001b[39m\u001b[38;5;124m\"\u001b[39m)\n\u001b[0;32m----> 2\u001b[0m \u001b[38;5;28;43mprint\u001b[39;49m(grid_results[\u001b[38;5;241m0\u001b[39m])\n",
      "File \u001b[0;32m_pydevd_bundle/pydevd_cython.pyx:1457\u001b[0m, in \u001b[0;36m_pydevd_bundle.pydevd_cython.SafeCallWrapper.__call__\u001b[0;34m()\u001b[0m\n",
      "File \u001b[0;32m_pydevd_bundle/pydevd_cython.pyx:701\u001b[0m, in \u001b[0;36m_pydevd_bundle.pydevd_cython.PyDBFrame.trace_dispatch\u001b[0;34m()\u001b[0m\n",
      "File \u001b[0;32m_pydevd_bundle/pydevd_cython.pyx:1152\u001b[0m, in \u001b[0;36m_pydevd_bundle.pydevd_cython.PyDBFrame.trace_dispatch\u001b[0;34m()\u001b[0m\n",
      "File \u001b[0;32m_pydevd_bundle/pydevd_cython.pyx:1135\u001b[0m, in \u001b[0;36m_pydevd_bundle.pydevd_cython.PyDBFrame.trace_dispatch\u001b[0;34m()\u001b[0m\n",
      "File \u001b[0;32m_pydevd_bundle/pydevd_cython.pyx:312\u001b[0m, in \u001b[0;36m_pydevd_bundle.pydevd_cython.PyDBFrame.do_wait_suspend\u001b[0;34m()\u001b[0m\n",
      "File \u001b[0;32m~/.local/lib/python3.10/site-packages/debugpy/_vendored/pydevd/pydevd.py:2070\u001b[0m, in \u001b[0;36mPyDB.do_wait_suspend\u001b[0;34m(self, thread, frame, event, arg, exception_type)\u001b[0m\n\u001b[1;32m   2067\u001b[0m             from_this_thread\u001b[38;5;241m.\u001b[39mappend(frame_custom_thread_id)\n\u001b[1;32m   2069\u001b[0m     \u001b[38;5;28;01mwith\u001b[39;00m \u001b[38;5;28mself\u001b[39m\u001b[38;5;241m.\u001b[39m_threads_suspended_single_notification\u001b[38;5;241m.\u001b[39mnotify_thread_suspended(thread_id, thread, stop_reason):\n\u001b[0;32m-> 2070\u001b[0m         keep_suspended \u001b[38;5;241m=\u001b[39m \u001b[38;5;28;43mself\u001b[39;49m\u001b[38;5;241;43m.\u001b[39;49m\u001b[43m_do_wait_suspend\u001b[49m\u001b[43m(\u001b[49m\u001b[43mthread\u001b[49m\u001b[43m,\u001b[49m\u001b[43m \u001b[49m\u001b[43mframe\u001b[49m\u001b[43m,\u001b[49m\u001b[43m \u001b[49m\u001b[43mevent\u001b[49m\u001b[43m,\u001b[49m\u001b[43m \u001b[49m\u001b[43marg\u001b[49m\u001b[43m,\u001b[49m\u001b[43m \u001b[49m\u001b[43msuspend_type\u001b[49m\u001b[43m,\u001b[49m\u001b[43m \u001b[49m\u001b[43mfrom_this_thread\u001b[49m\u001b[43m,\u001b[49m\u001b[43m \u001b[49m\u001b[43mframes_tracker\u001b[49m\u001b[43m)\u001b[49m\n\u001b[1;32m   2072\u001b[0m frames_list \u001b[38;5;241m=\u001b[39m \u001b[38;5;28;01mNone\u001b[39;00m\n\u001b[1;32m   2074\u001b[0m \u001b[38;5;28;01mif\u001b[39;00m keep_suspended:\n\u001b[1;32m   2075\u001b[0m     \u001b[38;5;66;03m# This means that we should pause again after a set next statement.\u001b[39;00m\n",
      "File \u001b[0;32m~/.local/lib/python3.10/site-packages/debugpy/_vendored/pydevd/pydevd.py:2106\u001b[0m, in \u001b[0;36mPyDB._do_wait_suspend\u001b[0;34m(self, thread, frame, event, arg, suspend_type, from_this_thread, frames_tracker)\u001b[0m\n\u001b[1;32m   2103\u001b[0m         \u001b[38;5;28mself\u001b[39m\u001b[38;5;241m.\u001b[39m_call_input_hook()\n\u001b[1;32m   2105\u001b[0m     \u001b[38;5;28mself\u001b[39m\u001b[38;5;241m.\u001b[39mprocess_internal_commands()\n\u001b[0;32m-> 2106\u001b[0m     \u001b[43mtime\u001b[49m\u001b[38;5;241;43m.\u001b[39;49m\u001b[43msleep\u001b[49m\u001b[43m(\u001b[49m\u001b[38;5;241;43m0.01\u001b[39;49m\u001b[43m)\u001b[49m\n\u001b[1;32m   2108\u001b[0m \u001b[38;5;28mself\u001b[39m\u001b[38;5;241m.\u001b[39mcancel_async_evaluation(get_current_thread_id(thread), \u001b[38;5;28mstr\u001b[39m(\u001b[38;5;28mid\u001b[39m(frame)))\n\u001b[1;32m   2110\u001b[0m \u001b[38;5;66;03m# process any stepping instructions\u001b[39;00m\n",
      "\u001b[0;31mKeyboardInterrupt\u001b[0m: "
     ]
    }
   ],
   "source": [
    "print(\"a\")\n",
    "print(grid_results[0])"
   ]
  },
  {
   "cell_type": "code",
   "execution_count": 22,
   "metadata": {},
   "outputs": [
    {
     "name": "stdout",
     "output_type": "stream",
     "text": [
      "outer 0 : frozenset({('ridge_lambda', 0.01), ('mb', 64), ('eta', 0.2), ('momentum', 0.05), ('clip_value', 1000), ('eta0', 1), ('hid_act_fun', 'tanh'), ('epochs', 50), ('cost_fun', 'mse'), ('lasso_lambda', None), ('max_steps', 100), ('epochs_update', 2), ('linear_decay', True), ('out_act_fun', 'sigmoid'), ('n_neurons', 10), ('n_layers', 2)})\n"
     ]
    }
   ],
   "source": [
    "for i, e in enumerate(grid_results[0]):\n",
    "    '''\n",
    "    for i2, e2 in enumerate(e):\n",
    "        print(f\"inner {i2} : {e2}\")\n",
    "    '''\n",
    "    print(f\"outer {i} : {e}\")\n",
    "\n",
    "#m = np.min([el for el in grid_results.values()])\n",
    "\n",
    "#dic_grid_results = dict(grid_results)\n",
    "#dic = dict(dic_grid_results.items)"
   ]
  },
  {
   "cell_type": "code",
   "execution_count": 13,
   "metadata": {},
   "outputs": [
    {
     "name": "stdout",
     "output_type": "stream",
     "text": [
      "0.1\n"
     ]
    }
   ],
   "source": [
    "x = {frozenset({\"a\": 1,\"b\": 2}.items()) : 0.1,\n",
    "     frozenset({\"c\": 8,\"y\": 223}.items()) : 0.4}\n",
    "d = dict(x)\n",
    "\n",
    "m = np.min([el for el in x.values()])\n",
    "print(m)"
   ]
  }
 ],
 "metadata": {
  "kernelspec": {
   "display_name": "Python 3",
   "language": "python",
   "name": "python3"
  },
  "language_info": {
   "codemirror_mode": {
    "name": "ipython",
    "version": 3
   },
   "file_extension": ".py",
   "mimetype": "text/x-python",
   "name": "python",
   "nbconvert_exporter": "python",
   "pygments_lexer": "ipython3",
   "version": "3.10.12"
  }
 },
 "nbformat": 4,
 "nbformat_minor": 2
}
