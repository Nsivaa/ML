{
 "cells": [
  {
   "cell_type": "code",
   "execution_count": 1,
   "metadata": {
    "tags": []
   },
   "outputs": [],
   "source": [
    "from utils import *\n",
    "from NeuralNetwork import *\n",
    "import pandas as pd\n",
    "import numpy as np\n",
    "import warnings\n",
    "# to ignore pandas warning\n",
    "warnings.simplefilter(action='ignore', category=FutureWarning)\n",
    "import matplotlib.pyplot as plt"
   ]
  },
  {
   "cell_type": "markdown",
   "metadata": {},
   "source": [
    "# Training\n",
    "The choice of the number of neurons and the output layer's activation function was taken making some tests on the dataset, instead the choice of **tanh** as the hidden layer's activation function was because it performs very well with xavier (Glorot) weight initializzation as stated in the paper on **https://proceedings.mlr.press/v9/glorot10a/glorot10a.pdf**"
   ]
  },
  {
   "cell_type": "markdown",
   "metadata": {
    "tags": []
   },
   "source": [
    "## Monk 1\n"
   ]
  },
  {
   "cell_type": "markdown",
   "metadata": {
    "tags": []
   },
   "source": [
    "#### Variance and mean of MSE and Accuracy over 10 training instances of the model **{eta = 0.15, mb = 1, alpha (momentum) = 0.85}** \n",
    "The research of the set of hyperparameters has begun from a grid-search and it was refined with some tests choosing a set which makes the model able to yield an accuracy of 100% with low variance on MSE (test set) over different training instances"
   ]
  },
  {
   "cell_type": "code",
   "execution_count": null,
   "metadata": {},
   "outputs": [],
   "source": [
    "%%time\n",
    "col_names = [\"Class\", \"a1\", \"a2\", \"a3\", \"a4\", \"a5\", \"a6\", \"ID\"]\n",
    "\n",
    "tr_data = pd.read_csv(\"../monk+s+problems/monks-1.train\", sep =\" \",  names = col_names)\n",
    "test_data = pd.read_csv(\"../monk+s+problems/monks-1.test\", sep =\" \",  names = col_names)\n",
    "\n",
    "\n",
    "epochs=300\n",
    "params={\n",
    "    \"eta\" : 0.15,\n",
    "    \"mb\" : 1,\n",
    "    \"momentum\" : 0.85,\n",
    "    \"epochs\" : epochs,\n",
    "    \"clip_value\" : None,\n",
    "    \"hid_act_fun\" : \"tanh\",\n",
    "    \"out_act_fun\" : \"sigmoid\",\n",
    "    \"cost_fun\" : \"mse\",\n",
    "    \"ridge_lambda\":None,\n",
    "    \"lasso_lambda\": None,\n",
    "    \"decay_max_steps\": None,\n",
    "    \"decay_min_value\": None\n",
    "}\n",
    "n=10\n",
    "test_errors=np.zeros((n,epochs))\n",
    "training_errors=np.zeros((n,epochs))\n",
    "acc_test_errors=np.zeros((n,epochs))\n",
    "acc_train_errors=np.zeros((n,epochs))\n",
    "for i in range(n):\n",
    "    tr = process_monk_data(tr_data)\n",
    "    test = process_monk_data(test_data)\n",
    "    net = NeuralNetwork()\n",
    "\n",
    "    n_inputs = tr.shape[1] - 2\n",
    "\n",
    "    net.add_input_layer(n_inputs)\n",
    "\n",
    "    net.add_hidden_layer(n_inputs, 4)\n",
    "\n",
    "    net.add_output_layer(4, 1)\n",
    "    test_error,training_error,acc_test,acc_train=net.train(tr,params,test_data=test,type=\"monk\",outFun2=\"accuracy\")\n",
    "    test_errors[i]=test_error\n",
    "    training_errors[i]=training_error\n",
    "    acc_test_errors[i]=acc_test\n",
    "    acc_train_errors[i]=acc_train\n",
    "    print(acc_test[-1])\n",
    "\n",
    "print(\"Train\")\n",
    "print(f\"MSE: mean = {np.mean(training_errors[:,-1])}, Var = {np.var(training_errors[:,-1])}\")\n",
    "print(f\"Accuracy: mean = {np.mean(acc_train_errors[:,-1])}, Var = {np.var(acc_train_errors[:,-1])}\")\n",
    "print(\"Test\")\n",
    "print(f\"MSE: mean = {np.mean(test_errors[:,-1])}, Var = {np.var(test_errors[:,-1])}\")\n",
    "print(f\"Accuracy: mean = {np.mean(acc_test_errors[:,-1])}, Var = {np.var(acc_test_errors[:,-1])}\")"
   ]
  },
  {
   "cell_type": "markdown",
   "metadata": {
    "tags": []
   },
   "source": [
    "#### Hyperparameters = {eta = 0.15, mb = 1, alpha (momentum) = 0.85}"
   ]
  },
  {
   "cell_type": "code",
   "execution_count": null,
   "metadata": {
    "tags": []
   },
   "outputs": [],
   "source": [
    "%%time\n",
    "params={\n",
    "    \"eta\" : 0.15,\n",
    "    \"mb\" : 1,\n",
    "    \"momentum\" : 0.85,\n",
    "    \"epochs\" : 300,\n",
    "    \"clip_value\" : None,\n",
    "    \"hid_act_fun\" : \"tanh\",\n",
    "    \"out_act_fun\" : \"sigmoid\",\n",
    "    \"cost_fun\" : \"mse\",\n",
    "    \"ridge_lambda\":None,\n",
    "    \"lasso_lambda\": None,\n",
    "    \"decay_max_steps\": None,\n",
    "    \"decay_min_value\": None\n",
    "}\n",
    "\n",
    "fig,axs = plt.subplots(1,2,figsize=(10,5))\n",
    "col_names = [\"Class\", \"a1\", \"a2\", \"a3\", \"a4\", \"a5\", \"a6\", \"ID\"]\n",
    "\n",
    "tr_data = pd.read_csv(\"../monk+s+problems/monks-1.train\", sep =\" \",  names = col_names)\n",
    "test_data = pd.read_csv(\"../monk+s+problems/monks-1.test\", sep =\" \",  names = col_names)\n",
    "\n",
    "\n",
    "#creazione rete\n",
    "tr = process_monk_data(tr_data)\n",
    "test = process_monk_data(test_data)\n",
    "net = NeuralNetwork()\n",
    "\n",
    "n_inputs = tr.shape[1] - 2\n",
    "net.add_input_layer(n_inputs)\n",
    "net.add_hidden_layer(n_inputs, 4)\n",
    "net.add_output_layer(4, 1)\n",
    "\n",
    "#training \n",
    "test_error,training_error,acc_test,acc_train=net.train(tr,params,test_data=test,type=\"monk\",outFun2=\"accuracy\")\n",
    "print(f\"MSE(tr) = {training_error[-1]}, MSE(test) = {test_error[-1]}\")\n",
    "print(f\"Accuracy(tr) = {acc_train[-1]}, Accuracy(test) = {acc_test[-1]}\")\n",
    "\n",
    "plot_loss_Monk(training_error,\"mse\",axs[0],test_losses=test_error)\n",
    "plot_loss_Monk(acc_train,\"acc\",axs[1],test_losses=acc_test)\n",
    "\n",
    "\n",
    "fig.tight_layout(pad=2.0)\n",
    "plt.show()"
   ]
  },
  {
   "cell_type": "markdown",
   "metadata": {
    "tags": []
   },
   "source": [
    "## Monk 2"
   ]
  },
  {
   "cell_type": "markdown",
   "metadata": {
    "tags": []
   },
   "source": [
    "#### Variance and mean of MSE and Accuracy over 10 training instances of the model **{eta = 0.2, mb = 1, alpha (momentum) = 0.8}** "
   ]
  },
  {
   "cell_type": "code",
   "execution_count": null,
   "metadata": {
    "tags": []
   },
   "outputs": [],
   "source": [
    "%%time\n",
    "col_names = [\"Class\", \"a1\", \"a2\", \"a3\", \"a4\", \"a5\", \"a6\", \"ID\"]\n",
    "\n",
    "tr_data = pd.read_csv(\"../monk+s+problems/monks-2.train\", sep =\" \",  names = col_names)\n",
    "test_data = pd.read_csv(\"../monk+s+problems/monks-2.test\", sep =\" \",  names = col_names)\n",
    "\n",
    "\n",
    "epochs=300\n",
    "params={\n",
    "    \"eta\" : 0.2,\n",
    "    \"mb\" : 1,\n",
    "    \"momentum\" : 0.8,\n",
    "    \"epochs\" : epochs,\n",
    "    \"clip_value\" : None,\n",
    "    \"hid_act_fun\" : \"tanh\",\n",
    "    \"out_act_fun\" : \"sigmoid\",\n",
    "    \"cost_fun\" : \"mse\",\n",
    "    \"ridge_lambda\":None,\n",
    "    \"lasso_lambda\": None,\n",
    "    \"decay_max_steps\": None,\n",
    "    \"decay_min_value\": None\n",
    "}\n",
    "n=10\n",
    "test_errors=np.zeros((n,epochs))\n",
    "training_errors=np.zeros((n,epochs))\n",
    "acc_test_errors=np.zeros((n,epochs))\n",
    "acc_train_errors=np.zeros((n,epochs))\n",
    "for i in range(n):\n",
    "    tr = process_monk_data(tr_data)\n",
    "    test = process_monk_data(test_data)\n",
    "    net = NeuralNetwork()\n",
    "\n",
    "    n_inputs = tr.shape[1] - 2\n",
    "\n",
    "    net.add_input_layer(n_inputs)\n",
    "\n",
    "    net.add_hidden_layer(n_inputs, 4)\n",
    "\n",
    "    net.add_output_layer(4, 1)\n",
    "    test_error,training_error,acc_test,acc_train=net.train(tr,params,test_data=test,type=\"monk\",outFun2=\"accuracy\")\n",
    "    test_errors[i]=test_error\n",
    "    training_errors[i]=training_error\n",
    "    acc_test_errors[i]=acc_test\n",
    "    acc_train_errors[i]=acc_train\n",
    "    print(acc_test[-1])\n",
    "\n",
    "\n",
    "print(\"Train\")\n",
    "print(f\"MSE: mean = {np.mean(training_errors[:,-1])}, Var = {np.var(training_errors[:,-1])}\")\n",
    "print(f\"Accuracy: mean = {np.mean(acc_train_errors[:,-1])}, Var = {np.var(acc_train_errors[:,-1])}\")\n",
    "print(\"Test\")\n",
    "print(f\"MSE: mean = {np.mean(test_errors[:,-1])}, Var = {np.var(test_errors[:,-1])}\")\n",
    "print(f\"Accuracy: mean = {np.mean(acc_test_errors[:,-1])}, Var = {np.var(acc_test_errors[:,-1])}\")\n"
   ]
  },
  {
   "cell_type": "markdown",
   "metadata": {
    "tags": []
   },
   "source": [
    "#### Hyperparameters = {eta = 0.2, mb = 1, alpha (momentum) = 0.8}"
   ]
  },
  {
   "cell_type": "code",
   "execution_count": null,
   "metadata": {},
   "outputs": [],
   "source": [
    "%%time\n",
    "params={\n",
    "    \"eta\" : 0.2,\n",
    "    \"mb\" : 1,\n",
    "    \"momentum\" : 0.8,\n",
    "    \"epochs\" : 300,\n",
    "    \"clip_value\" : None,\n",
    "    \"hid_act_fun\" : \"tanh\",\n",
    "    \"out_act_fun\" : \"sigmoid\",\n",
    "    \"cost_fun\" : \"mse\",\n",
    "    \"ridge_lambda\":None,\n",
    "    \"lasso_lambda\": None,\n",
    "    \"decay_max_steps\": None,\n",
    "    \"decay_min_value\": None\n",
    "}\n",
    "\n",
    "fig,axs = plt.subplots(1,2,figsize=(10,5))\n",
    "col_names = [\"Class\", \"a1\", \"a2\", \"a3\", \"a4\", \"a5\", \"a6\", \"ID\"]\n",
    "\n",
    "tr_data = pd.read_csv(\"../monk+s+problems/monks-2.train\", sep =\" \",  names = col_names)\n",
    "test_data = pd.read_csv(\"../monk+s+problems/monks-2.test\", sep =\" \",  names = col_names)\n",
    "\n",
    "\n",
    "#creazione rete\n",
    "tr = process_monk_data(tr_data)\n",
    "test = process_monk_data(test_data)\n",
    "net = NeuralNetwork()\n",
    "\n",
    "n_inputs = tr.shape[1] - 2\n",
    "net.add_input_layer(n_inputs)\n",
    "net.add_hidden_layer(n_inputs, 4)\n",
    "net.add_output_layer(4, 1)\n",
    "\n",
    "#training \n",
    "test_error,training_error,acc_test,acc_train=net.train(tr,params,test_data=test,outFun2=\"accuracy\",type=\"monk\")\n",
    "print(f\"MSE(tr) = {training_error[-1]}, MSE(test) = {test_error[-1]}\")\n",
    "print(f\"Accuracy(tr) = {acc_train[-1]}, Accuracy(test) = {acc_test[-1]}\")\n",
    "\n",
    "plot_loss_Monk(training_error,\"mse\",axs[0],test_losses=test_error)\n",
    "plot_loss_Monk(acc_train,\"acc\",axs[1],test_losses=acc_test)\n",
    "\n",
    "\n",
    "fig.tight_layout(pad=2.0)\n",
    "plt.show()"
   ]
  },
  {
   "cell_type": "markdown",
   "metadata": {
    "jp-MarkdownHeadingCollapsed": true,
    "tags": []
   },
   "source": [
    "## Monk 3 no reg"
   ]
  },
  {
   "cell_type": "markdown",
   "metadata": {
    "tags": []
   },
   "source": [
    "#### Variance and mean of MSE over 10 training instances of the model **{eta = 0.003, mb = 1, alpha (momentum) = 0.7}** \n"
   ]
  },
  {
   "cell_type": "code",
   "execution_count": null,
   "metadata": {},
   "outputs": [],
   "source": [
    "%%time\n",
    "col_names = [\"Class\", \"a1\", \"a2\", \"a3\", \"a4\", \"a5\", \"a6\", \"ID\"]\n",
    "\n",
    "tr_data = pd.read_csv(\"../monk+s+problems/monks-3.train\", sep =\" \",  names = col_names)\n",
    "test_data = pd.read_csv(\"../monk+s+problems/monks-3.test\", sep =\" \",  names = col_names)\n",
    "\n",
    "\n",
    "epochs=300\n",
    "params={\n",
    "    \"eta\" : 0.003,\n",
    "    \"mb\" : 1,\n",
    "    \"momentum\" : 0.7,\n",
    "    \"epochs\" : epochs,\n",
    "    \"clip_value\" : None,\n",
    "    \"hid_act_fun\" : \"tanh\",\n",
    "    \"out_act_fun\" : \"sigmoid\",\n",
    "    \"cost_fun\" : \"mse\",\n",
    "    \"ridge_lambda\":None,\n",
    "    \"lasso_lambda\": None,\n",
    "    \"decay_max_steps\": None,\n",
    "    \"decay_min_value\": None\n",
    "}\n",
    "n=10\n",
    "test_errors=np.zeros((n,epochs))\n",
    "training_errors=np.zeros((n,epochs))\n",
    "acc_test_errors=np.zeros((n,epochs))\n",
    "acc_train_errors=np.zeros((n,epochs))\n",
    "for i in range(n):\n",
    "    tr = process_monk_data(tr_data)\n",
    "    test = process_monk_data(test_data)\n",
    "    net = NeuralNetwork()\n",
    "\n",
    "    n_inputs = tr.shape[1] - 2\n",
    "\n",
    "    net.add_input_layer(n_inputs)\n",
    "\n",
    "    net.add_hidden_layer(n_inputs, 4)\n",
    "\n",
    "    net.add_output_layer(4, 1)\n",
    "    test_error,training_error,acc_test,acc_train=net.train(tr,params,test_data=test,type=\"monk\",outFun2=\"accuracy\")\n",
    "    test_errors[i]=test_error\n",
    "    training_errors[i]=training_error\n",
    "    acc_test_errors[i]=acc_test\n",
    "    acc_train_errors[i]=acc_train\n",
    "\n",
    "print(\"Train\")\n",
    "print(f\"MSE: mean = {np.mean(training_errors[:,-1])}, Var = {np.var(training_errors[:,-1])}\")\n",
    "print(f\"Accuracy: mean = {np.mean(acc_train_errors[:,-1])}, Var = {np.var(acc_train_errors[:,-1])}\")\n",
    "print(\"Test\")\n",
    "print(f\"MSE: mean = {np.mean(test_errors[:,-1])}, Var = {np.var(test_errors[:,-1])}\")\n",
    "print(f\"Accuracy: mean = {np.mean(acc_test_errors[:,-1])}, Var = {np.var(acc_test_errors[:,-1])}\")"
   ]
  },
  {
   "cell_type": "markdown",
   "metadata": {
    "tags": []
   },
   "source": [
    "#### Hyperparameters = {eta = 0.003, mb = 1, alpha (momentum) = 0.7}"
   ]
  },
  {
   "cell_type": "code",
   "execution_count": null,
   "metadata": {},
   "outputs": [],
   "source": [
    "%%time\n",
    "params={\n",
    "    \"eta\" : 0.003,\n",
    "    \"mb\" : 1,\n",
    "    \"momentum\" : 0.7,\n",
    "    \"epochs\" : 300,\n",
    "    \"clip_value\" : None,\n",
    "    \"hid_act_fun\" : \"tanh\",\n",
    "    \"out_act_fun\" : \"sigmoid\",\n",
    "    \"cost_fun\" : \"mse\",\n",
    "    \"ridge_lambda\":None,\n",
    "    \"lasso_lambda\": None,\n",
    "    \"decay_max_steps\": None,\n",
    "    \"decay_min_value\": None\n",
    "}\n",
    "\n",
    "fig,axs = plt.subplots(1,2,figsize=(10,5))\n",
    "col_names = [\"Class\", \"a1\", \"a2\", \"a3\", \"a4\", \"a5\", \"a6\", \"ID\"]\n",
    "\n",
    "tr_data = pd.read_csv(\"../monk+s+problems/monks-3.train\", sep =\" \",  names = col_names)\n",
    "test_data = pd.read_csv(\"../monk+s+problems/monks-3.test\", sep =\" \",  names = col_names)\n",
    "\n",
    "\n",
    "#creazione rete\n",
    "tr = process_monk_data(tr_data)\n",
    "test = process_monk_data(test_data)\n",
    "net = NeuralNetwork()\n",
    "\n",
    "n_inputs = tr.shape[1] - 2\n",
    "net.add_input_layer(n_inputs)\n",
    "net.add_hidden_layer(n_inputs, 4)\n",
    "net.add_output_layer(4, 1)\n",
    "\n",
    "#training \n",
    "test_error,training_error,acc_test,acc_train=net.train(tr,params,test_data=test,outFun2=\"accuracy\",type=\"monk\")\n",
    "print(f\"MSE(tr) = {training_error[-1]}, MSE(test) = {test_error[-1]}\")\n",
    "print(f\"Accuracy(tr) = {acc_train[-1]}, Accuracy(test) = {acc_test[-1]}\")\n",
    "\n",
    "plot_loss_Monk(training_error,\"mse\",axs[0],test_losses=test_error)\n",
    "plot_loss_Monk(acc_train,\"acc\",axs[1],test_losses=acc_test)\n",
    "\n",
    "\n",
    "fig.tight_layout(pad=2.0)\n",
    "plt.show()"
   ]
  },
  {
   "cell_type": "markdown",
   "metadata": {
    "jp-MarkdownHeadingCollapsed": true,
    "tags": []
   },
   "source": [
    "## Monk 3 Regularized"
   ]
  },
  {
   "cell_type": "markdown",
   "metadata": {
    "tags": []
   },
   "source": [
    "#### Variance and mean of MSE and Accuracy over 10 training instances of the model:\n",
    "#### **{eta = 0.001, mb = 1, alpha (momentum) = 0.9, lambda (L2) = 1 * 10^-5}**\n"
   ]
  },
  {
   "cell_type": "code",
   "execution_count": null,
   "metadata": {},
   "outputs": [],
   "source": [
    "%%time\n",
    "col_names = [\"Class\", \"a1\", \"a2\", \"a3\", \"a4\", \"a5\", \"a6\", \"ID\"]\n",
    "\n",
    "tr_data = pd.read_csv(\"../monk+s+problems/monks-3.train\", sep =\" \",  names = col_names)\n",
    "test_data = pd.read_csv(\"../monk+s+problems/monks-3.test\", sep =\" \",  names = col_names)\n",
    "\n",
    "\n",
    "epochs=300\n",
    "params={\n",
    "    \"eta\" : 0.001,\n",
    "    \"mb\" : 1,\n",
    "    \"momentum\" : 0.9,\n",
    "    \"epochs\" : epochs,\n",
    "    \"clip_value\" : None,\n",
    "    \"hid_act_fun\" : \"tanh\",\n",
    "    \"out_act_fun\" : \"sigmoid\",\n",
    "    \"cost_fun\" : \"mse\",\n",
    "    \"ridge_lambda\":0.00001,\n",
    "    \"lasso_lambda\": None,\n",
    "    \"decay_max_steps\": None,\n",
    "    \"decay_min_value\": None\n",
    "}\n",
    "n=10\n",
    "test_errors=np.zeros((n,epochs))\n",
    "training_errors=np.zeros((n,epochs))\n",
    "acc_test_errors=np.zeros((n,epochs))\n",
    "acc_train_errors=np.zeros((n,epochs))\n",
    "for i in range(n):\n",
    "    tr = process_monk_data(tr_data)\n",
    "    test = process_monk_data(test_data)\n",
    "    net = NeuralNetwork()\n",
    "\n",
    "    n_inputs = tr.shape[1] - 2\n",
    "\n",
    "    net.add_input_layer(n_inputs)\n",
    "\n",
    "    net.add_hidden_layer(n_inputs, 4)\n",
    "\n",
    "    net.add_output_layer(4, 1)\n",
    "    test_error,training_error,acc_test,acc_train=net.train(tr,params,test_data=test,type=\"monk\",outFun2=\"accuracy\")\n",
    "    test_errors[i]=test_error\n",
    "    training_errors[i]=training_error\n",
    "    acc_test_errors[i]=acc_test\n",
    "    acc_train_errors[i]=acc_train\n",
    "\n",
    "print(\"Train\")\n",
    "print(f\"MSE: mean = {np.mean(training_errors[:,-1])}, Var = {np.var(training_errors[:,-1])}\")\n",
    "print(f\"Accuracy: mean = {np.mean(acc_train_errors[:,-1])}, Var = {np.var(acc_train_errors[:,-1])}\")\n",
    "print(\"Test\")\n",
    "print(f\"MSE: mean = {np.mean(test_errors[:,-1])}, Var = {np.var(test_errors[:,-1])}\")\n",
    "print(f\"Accuracy: mean = {np.mean(acc_test_errors[:,-1])}, Var = {np.var(acc_test_errors[:,-1])}\")"
   ]
  },
  {
   "cell_type": "markdown",
   "metadata": {
    "tags": []
   },
   "source": [
    "#### Hyperparameters = {eta = 0.001, mb = 1, alpha (momentum) = 0.9, lambda (L2) = 1 * 10^-5}"
   ]
  },
  {
   "cell_type": "code",
   "execution_count": null,
   "metadata": {},
   "outputs": [],
   "source": [
    "%%time\n",
    "params={\n",
    "    \"eta\" : 0.001,\n",
    "    \"mb\" : 1,\n",
    "    \"momentum\" : 0.9,\n",
    "    \"epochs\" : 300,\n",
    "    \"clip_value\" : None,\n",
    "    \"hid_act_fun\" : \"tanh\",\n",
    "    \"out_act_fun\" : \"sigmoid\",\n",
    "    \"cost_fun\" : \"mse\",\n",
    "    \"ridge_lambda\":0.00001,\n",
    "    \"lasso_lambda\": None,\n",
    "    \"decay_max_steps\": None,\n",
    "    \"decay_min_value\": None\n",
    "}\n",
    "\n",
    "fig,axs = plt.subplots(1,2,figsize=(10,5))\n",
    "col_names = [\"Class\", \"a1\", \"a2\", \"a3\", \"a4\", \"a5\", \"a6\", \"ID\"]\n",
    "\n",
    "tr_data = pd.read_csv(\"../monk+s+problems/monks-3.train\", sep =\" \",  names = col_names)\n",
    "test_data = pd.read_csv(\"../monk+s+problems/monks-3.test\", sep =\" \",  names = col_names)\n",
    "\n",
    "\n",
    "#creazione rete\n",
    "tr = process_monk_data(tr_data)\n",
    "test = process_monk_data(test_data)\n",
    "net = NeuralNetwork()\n",
    "\n",
    "n_inputs = tr.shape[1] - 2\n",
    "net.add_input_layer(n_inputs)\n",
    "net.add_hidden_layer(n_inputs, 4)\n",
    "net.add_output_layer(4, 1)\n",
    "\n",
    "#training \n",
    "test_error,training_error,acc_test,acc_train=net.train(tr,params,test_data=test,outFun2=\"accuracy\",type=\"monk\")\n",
    "print(f\"MSE(tr) = {training_error[-1]}, MSE(test) = {test_error[-1]}\")\n",
    "print(f\"Accuracy(tr) = {acc_train[-1]}, Accuracy(test) = {acc_test[-1]}\")\n",
    "\n",
    "plot_loss_Monk(training_error,\"mse\",axs[0],test_losses=test_error)\n",
    "plot_loss_Monk(acc_train,\"acc\",axs[1],test_losses=acc_test)\n",
    "\n",
    "fig.tight_layout(pad=2.0)\n",
    "plt.show()"
   ]
  }
 ],
 "metadata": {
  "environment": {
   "kernel": "python3",
   "name": "common-cpu.m115",
   "type": "gcloud",
   "uri": "gcr.io/deeplearning-platform-release/base-cpu:m115"
  },
  "kernelspec": {
   "display_name": "Python 3 (ipykernel)",
   "language": "python",
   "name": "python3"
  },
  "language_info": {
   "codemirror_mode": {
    "name": "ipython",
    "version": 3
   },
   "file_extension": ".py",
   "mimetype": "text/x-python",
   "name": "python",
   "nbconvert_exporter": "python",
   "pygments_lexer": "ipython3",
   "version": "3.8.10"
  }
 },
 "nbformat": 4,
 "nbformat_minor": 4
}
