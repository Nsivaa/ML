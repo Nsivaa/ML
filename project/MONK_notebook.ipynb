{
 "cells": [
  {
   "cell_type": "code",
   "execution_count": 1,
   "metadata": {},
   "outputs": [],
   "source": [
    "import numpy as np\n",
    "import pandas as pd\n",
    "from nn_utils import *\n"
   ]
  },
  {
   "cell_type": "code",
   "execution_count": 2,
   "metadata": {
    "tags": []
   },
   "outputs": [
    {
     "name": "stdout",
     "output_type": "stream",
     "text": [
      "     a1  a2  a3  a4  a5  a6  data_107  data_111  data_114  data_116  ...  \\\n",
      "NaN   2   3   1   1   1   1         0         0         0         0  ...   \n",
      "NaN   3   2   2   3   2   1         0         0         0         0  ...   \n",
      "NaN   2   1   2   2   3   1         0         0         0         0  ...   \n",
      "NaN   2   1   1   2   1   2         0         0         0         0  ...   \n",
      "NaN   3   2   2   1   1   1         0         0         0         0  ...   \n",
      "..   ..  ..  ..  ..  ..  ..       ...       ...       ...       ...  ...   \n",
      "NaN   3   3   1   1   4   2         0         0         0         0  ...   \n",
      "NaN   1   2   1   1   4   2         0         0         0         0  ...   \n",
      "NaN   3   1   1   2   2   2         0         0         0         0  ...   \n",
      "NaN   1   3   1   1   4   1         0         0         0         0  ...   \n",
      "NaN   1   3   2   3   2   1         0         0         0         0  ...   \n",
      "\n",
      "     data_67  data_72  data_76  data_86  data_87  data_88  data_92  data_93  \\\n",
      "NaN        0        0        0        0        0        0        0        0   \n",
      "NaN        0        0        0        0        0        0        0        0   \n",
      "NaN        0        0        0        0        0        0        0        0   \n",
      "NaN        0        0        0        0        0        0        0        0   \n",
      "NaN        0        0        0        0        0        0        0        0   \n",
      "..       ...      ...      ...      ...      ...      ...      ...      ...   \n",
      "NaN        0        0        0        0        0        0        0        0   \n",
      "NaN        0        0        0        0        0        0        0        0   \n",
      "NaN        0        0        0        0        0        0        0        0   \n",
      "NaN        0        0        0        0        0        0        0        0   \n",
      "NaN        0        0        0        0        0        0        0        0   \n",
      "\n",
      "     data_94  data_99  \n",
      "NaN        0        0  \n",
      "NaN        0        0  \n",
      "NaN        0        0  \n",
      "NaN        0        0  \n",
      "NaN        0        0  \n",
      "..       ...      ...  \n",
      "NaN        0        0  \n",
      "NaN        0        0  \n",
      "NaN        0        0  \n",
      "NaN        0        0  \n",
      "NaN        0        0  \n",
      "\n",
      "[124 rows x 129 columns]\n"
     ]
    }
   ],
   "source": [
    "col_names = [\"Class\", \"a1\", \"a2\", \"a3\", \"a4\", \"a5\", \"a6\", \"ID\"]\n",
    "\n",
    "data = pd.read_csv(\"../monk+s+problems/monks-1.train\", sep =\" \",  names = col_names)\n",
    "data.head()\n",
    "data = data.sample(frac=1)\n",
    "data.reset_index()\n",
    "tr_data_Y = data[[\"Class\"]]\n",
    "id_dummies = pd.get_dummies(data[\"ID\"], dtype=int, drop_first = True)\n",
    "\n",
    "tr_data_X = pd.concat([data.drop([\"Class\", \"ID\"], axis = 1), id_dummies], axis = 1)\n",
    "\n",
    "print(tr_data_X)\n"
   ]
  },
  {
   "cell_type": "code",
   "execution_count": 3,
   "metadata": {},
   "outputs": [],
   "source": [
    "net = NeuralNetwork()\n",
    "\n",
    "net.add_input_layer(tr_data_X.shape[1])\n",
    "\n",
    "net.add_hidden_layer(tr_data_X.shape[1], 3)\n",
    "\n",
    "net.add_output_layer(3, 2)\n",
    "\n"
   ]
  },
  {
   "cell_type": "code",
   "execution_count": 4,
   "metadata": {},
   "outputs": [
    {
     "ename": "IndexError",
     "evalue": "index 1 is out of bounds for axis 0 with size 1",
     "output_type": "error",
     "traceback": [
      "\u001b[0;31m---------------------------------------------------------------------------\u001b[0m",
      "\u001b[0;31mIndexError\u001b[0m                                Traceback (most recent call last)",
      "Cell \u001b[0;32mIn[4], line 1\u001b[0m\n\u001b[0;32m----> 1\u001b[0m losses \u001b[38;5;241m=\u001b[39m \u001b[43mnet\u001b[49m\u001b[38;5;241;43m.\u001b[39;49m\u001b[43mtrain\u001b[49m\u001b[43m(\u001b[49m\u001b[43mtr_data_X\u001b[49m\u001b[43m,\u001b[49m\u001b[43m \u001b[49m\u001b[43mtr_data_Y\u001b[49m\u001b[43m,\u001b[49m\u001b[43m \u001b[49m\u001b[43mepochs\u001b[49m\u001b[38;5;241;43m=\u001b[39;49m\u001b[38;5;241;43m100\u001b[39;49m\u001b[43m,\u001b[49m\n\u001b[1;32m      2\u001b[0m \u001b[43m                 \u001b[49m\u001b[43meta\u001b[49m\u001b[38;5;241;43m=\u001b[39;49m\u001b[38;5;241;43m0.01\u001b[39;49m\u001b[43m,\u001b[49m\u001b[43m \u001b[49m\u001b[43mclip_value\u001b[49m\u001b[38;5;241;43m=\u001b[39;49m\u001b[38;5;241;43m10000\u001b[39;49m\u001b[43m,\u001b[49m\u001b[43m \u001b[49m\u001b[43mhid_act_fun\u001b[49m\u001b[38;5;241;43m=\u001b[39;49m\u001b[38;5;124;43m\"\u001b[39;49m\u001b[38;5;124;43mtanh\u001b[39;49m\u001b[38;5;124;43m\"\u001b[39;49m\u001b[43m,\u001b[49m\u001b[43m \u001b[49m\u001b[43mout_act_fun\u001b[49m\u001b[38;5;241;43m=\u001b[39;49m\u001b[38;5;124;43m\"\u001b[39;49m\u001b[38;5;124;43msigmoid\u001b[39;49m\u001b[38;5;124;43m\"\u001b[39;49m\u001b[43m,\u001b[49m\u001b[43m \u001b[49m\u001b[43mcost_fun\u001b[49m\u001b[38;5;241;43m=\u001b[39;49m\u001b[38;5;124;43m\"\u001b[39;49m\u001b[38;5;124;43mel\u001b[39;49m\u001b[38;5;124;43m\"\u001b[39;49m\u001b[43m)\u001b[49m    \u001b[38;5;66;03m#TANH IS FASTER?? SCRITTO SULLE SLIDE\u001b[39;00m\n\u001b[1;32m      3\u001b[0m \u001b[38;5;66;03m#print(net)\u001b[39;00m\n\u001b[1;32m      4\u001b[0m \u001b[38;5;66;03m#print(net.input_layer.weights)\u001b[39;00m\n\u001b[1;32m      6\u001b[0m plot_loss(losses)\n",
      "File \u001b[0;32m~/env/ML/project/nn_utils.py:340\u001b[0m, in \u001b[0;36mNeuralNetwork.train\u001b[0;34m(self, data, labels, eta, epochs, clip_value, hid_act_fun, out_act_fun, cost_fun)\u001b[0m\n\u001b[1;32m    336\u001b[0m \u001b[38;5;28;01mdef\u001b[39;00m \u001b[38;5;21mtrain\u001b[39m(\u001b[38;5;28mself\u001b[39m, data: pd\u001b[38;5;241m.\u001b[39mDataFrame, labels: pd\u001b[38;5;241m.\u001b[39mDataFrame,\n\u001b[1;32m    337\u001b[0m           eta\u001b[38;5;241m=\u001b[39m\u001b[38;5;28;01mNone\u001b[39;00m, epochs\u001b[38;5;241m=\u001b[39m\u001b[38;5;241m1\u001b[39m, clip_value\u001b[38;5;241m=\u001b[39m\u001b[38;5;28;01mNone\u001b[39;00m, hid_act_fun: \u001b[38;5;28mstr\u001b[39m \u001b[38;5;241m=\u001b[39m \u001b[38;5;124m\"\u001b[39m\u001b[38;5;124mNone\u001b[39m\u001b[38;5;124m\"\u001b[39m, out_act_fun: \u001b[38;5;28mstr\u001b[39m \u001b[38;5;241m=\u001b[39m \u001b[38;5;28;01mNone\u001b[39;00m, cost_fun: \u001b[38;5;28mstr\u001b[39m \u001b[38;5;241m=\u001b[39m \u001b[38;5;28;01mNone\u001b[39;00m):\n\u001b[1;32m    339\u001b[0m     errors \u001b[38;5;241m=\u001b[39m []\n\u001b[0;32m--> 340\u001b[0m     tot_err \u001b[38;5;241m=\u001b[39m \u001b[38;5;28;43mself\u001b[39;49m\u001b[38;5;241;43m.\u001b[39;49m\u001b[43mcalcError\u001b[49m\u001b[43m(\u001b[49m\n\u001b[1;32m    341\u001b[0m \u001b[43m        \u001b[49m\u001b[43mdata\u001b[49m\u001b[43m,\u001b[49m\u001b[43m \u001b[49m\u001b[43mlabels\u001b[49m\u001b[43m,\u001b[49m\u001b[43m \u001b[49m\u001b[43mhid_act_fun\u001b[49m\u001b[38;5;241;43m=\u001b[39;49m\u001b[43mhid_act_fun\u001b[49m\u001b[43m,\u001b[49m\u001b[43m \u001b[49m\u001b[43mout_act_fun\u001b[49m\u001b[38;5;241;43m=\u001b[39;49m\u001b[43mout_act_fun\u001b[49m\u001b[43m,\u001b[49m\u001b[43m \u001b[49m\u001b[43mcost_fun\u001b[49m\u001b[38;5;241;43m=\u001b[39;49m\u001b[43mcost_fun\u001b[49m\u001b[43m)\u001b[49m\n\u001b[1;32m    342\u001b[0m     \u001b[38;5;28mprint\u001b[39m(\u001b[38;5;124mf\u001b[39m\u001b[38;5;124m\"\u001b[39m\u001b[38;5;124mtotal Error pre-training = \u001b[39m\u001b[38;5;132;01m{\u001b[39;00mtot_err\u001b[38;5;132;01m}\u001b[39;00m\u001b[38;5;124m\"\u001b[39m)\n\u001b[1;32m    343\u001b[0m     errors\u001b[38;5;241m.\u001b[39mappend(tot_err)\n",
      "File \u001b[0;32m~/env/ML/project/nn_utils.py:230\u001b[0m, in \u001b[0;36mNeuralNetwork.calcError\u001b[0;34m(self, data, labels, hid_act_fun, out_act_fun, cost_fun)\u001b[0m\n\u001b[1;32m    228\u001b[0m totErr \u001b[38;5;241m=\u001b[39m \u001b[38;5;241m0\u001b[39m\n\u001b[1;32m    229\u001b[0m \u001b[38;5;28;01mfor\u001b[39;00m row, label \u001b[38;5;129;01min\u001b[39;00m \u001b[38;5;28mzip\u001b[39m(data\u001b[38;5;241m.\u001b[39mitertuples(index\u001b[38;5;241m=\u001b[39m\u001b[38;5;28;01mFalse\u001b[39;00m, name\u001b[38;5;241m=\u001b[39m\u001b[38;5;28;01mNone\u001b[39;00m), labels\u001b[38;5;241m.\u001b[39mitertuples(index\u001b[38;5;241m=\u001b[39m\u001b[38;5;28;01mFalse\u001b[39;00m, name\u001b[38;5;241m=\u001b[39m\u001b[38;5;28;01mNone\u001b[39;00m)):\n\u001b[0;32m--> 230\u001b[0m     totErr \u001b[38;5;241m+\u001b[39m\u001b[38;5;241m=\u001b[39m \u001b[38;5;28;43mself\u001b[39;49m\u001b[38;5;241;43m.\u001b[39;49m\u001b[43mforwardPropagation\u001b[49m\u001b[43m(\u001b[49m\u001b[43mrow\u001b[49m\u001b[43m,\u001b[49m\u001b[43m \u001b[49m\u001b[43mlabel\u001b[49m\u001b[43m,\u001b[49m\u001b[43m \u001b[49m\u001b[43mhid_act_fun\u001b[49m\u001b[38;5;241;43m=\u001b[39;49m\u001b[43mhid_act_fun\u001b[49m\u001b[43m,\u001b[49m\n\u001b[1;32m    231\u001b[0m \u001b[43m                                      \u001b[49m\u001b[43mout_act_fun\u001b[49m\u001b[38;5;241;43m=\u001b[39;49m\u001b[43mout_act_fun\u001b[49m\u001b[43m,\u001b[49m\u001b[43m \u001b[49m\u001b[43mcost_fun\u001b[49m\u001b[38;5;241;43m=\u001b[39;49m\u001b[43mcost_fun\u001b[49m\u001b[43m)\u001b[49m\n\u001b[1;32m    232\u001b[0m totErr \u001b[38;5;241m/\u001b[39m\u001b[38;5;241m=\u001b[39m data\u001b[38;5;241m.\u001b[39mshape[\u001b[38;5;241m0\u001b[39m]\n\u001b[1;32m    234\u001b[0m \u001b[38;5;28;01mreturn\u001b[39;00m totErr\n",
      "File \u001b[0;32m~/env/ML/project/nn_utils.py:253\u001b[0m, in \u001b[0;36mNeuralNetwork.forwardPropagation\u001b[0;34m(self, row, label, hid_act_fun, out_act_fun, cost_fun)\u001b[0m\n\u001b[1;32m    250\u001b[0m \u001b[38;5;28;01melif\u001b[39;00m cost_fun \u001b[38;5;241m==\u001b[39m \u001b[38;5;124m\"\u001b[39m\u001b[38;5;124mel\u001b[39m\u001b[38;5;124m\"\u001b[39m:\n\u001b[1;32m    251\u001b[0m     \u001b[38;5;66;03m# TAKE THE \"WINNER\" AMONG THE CLASSES PREDICTIONS\u001b[39;00m\n\u001b[1;32m    252\u001b[0m     prediction \u001b[38;5;241m=\u001b[39m \u001b[38;5;28mself\u001b[39m\u001b[38;5;241m.\u001b[39moutput_layer\u001b[38;5;241m.\u001b[39moutput\n\u001b[0;32m--> 253\u001b[0m     \u001b[38;5;28;01mreturn\u001b[39;00m \u001b[43mcross_entropy\u001b[49m\u001b[43m(\u001b[49m\u001b[43mprediction\u001b[49m\u001b[43m,\u001b[49m\u001b[43m \u001b[49m\u001b[43mnp\u001b[49m\u001b[38;5;241;43m.\u001b[39;49m\u001b[43marray\u001b[49m\u001b[43m(\u001b[49m\u001b[43mlabel\u001b[49m\u001b[43m)\u001b[49m\u001b[43m)\u001b[49m\n\u001b[1;32m    254\u001b[0m \u001b[38;5;28;01melse\u001b[39;00m:\n\u001b[1;32m    255\u001b[0m     \u001b[38;5;28;01mreturn\u001b[39;00m \u001b[38;5;28;01mNone\u001b[39;00m\n",
      "File \u001b[0;32m~/env/ML/project/nn_utils.py:80\u001b[0m, in \u001b[0;36mcross_entropy\u001b[0;34m(p, q)\u001b[0m\n\u001b[1;32m     79\u001b[0m \u001b[38;5;28;01mdef\u001b[39;00m \u001b[38;5;21mcross_entropy\u001b[39m(p: np\u001b[38;5;241m.\u001b[39mndarray, q: np\u001b[38;5;241m.\u001b[39mndarray):\n\u001b[0;32m---> 80\u001b[0m     \u001b[38;5;28;01mreturn\u001b[39;00m \u001b[38;5;241m-\u001b[39mnp\u001b[38;5;241m.\u001b[39msum([p[i] \u001b[38;5;241m*\u001b[39m np\u001b[38;5;241m.\u001b[39mlog(q[i]) \u001b[38;5;28;01mfor\u001b[39;00m i \u001b[38;5;129;01min\u001b[39;00m \u001b[38;5;28mrange\u001b[39m(\u001b[38;5;28mlen\u001b[39m(p))])\n",
      "File \u001b[0;32m~/env/ML/project/nn_utils.py:80\u001b[0m, in \u001b[0;36m<listcomp>\u001b[0;34m(.0)\u001b[0m\n\u001b[1;32m     79\u001b[0m \u001b[38;5;28;01mdef\u001b[39;00m \u001b[38;5;21mcross_entropy\u001b[39m(p: np\u001b[38;5;241m.\u001b[39mndarray, q: np\u001b[38;5;241m.\u001b[39mndarray):\n\u001b[0;32m---> 80\u001b[0m     \u001b[38;5;28;01mreturn\u001b[39;00m \u001b[38;5;241m-\u001b[39mnp\u001b[38;5;241m.\u001b[39msum([p[i] \u001b[38;5;241m*\u001b[39m np\u001b[38;5;241m.\u001b[39mlog(\u001b[43mq\u001b[49m\u001b[43m[\u001b[49m\u001b[43mi\u001b[49m\u001b[43m]\u001b[49m) \u001b[38;5;28;01mfor\u001b[39;00m i \u001b[38;5;129;01min\u001b[39;00m \u001b[38;5;28mrange\u001b[39m(\u001b[38;5;28mlen\u001b[39m(p))])\n",
      "\u001b[0;31mIndexError\u001b[0m: index 1 is out of bounds for axis 0 with size 1"
     ]
    }
   ],
   "source": [
    "losses = net.train(tr_data_X, tr_data_Y, epochs=100,\n",
    "                 eta=0.01, clip_value=10000, hid_act_fun=\"tanh\", out_act_fun=\"sigmoid\", cost_fun=\"el\")    #TANH IS FASTER?? SCRITTO SULLE SLIDE\n",
    "#print(net)\n",
    "#print(net.input_layer.weights)\n",
    "\n",
    "plot_loss(losses)\n"
   ]
  }
 ],
 "metadata": {
  "kernelspec": {
   "display_name": "Python 3",
   "language": "python",
   "name": "python3"
  },
  "language_info": {
   "codemirror_mode": {
    "name": "ipython",
    "version": 3
   },
   "file_extension": ".py",
   "mimetype": "text/x-python",
   "name": "python",
   "nbconvert_exporter": "python",
   "pygments_lexer": "ipython3",
   "version": "3.10.12"
  }
 },
 "nbformat": 4,
 "nbformat_minor": 2
}
