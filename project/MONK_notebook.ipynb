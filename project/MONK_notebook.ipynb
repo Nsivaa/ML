{
 "cells": [
  {
   "cell_type": "code",
   "execution_count": 1,
   "metadata": {},
   "outputs": [],
   "source": [
    "import warnings\n",
    "warnings.simplefilter(action='ignore', category=FutureWarning) #to ignore pandas warning\n",
    "import numpy as np\n",
    "import pandas as pd\n",
    "from NeuralNetwork import *\n",
    "from utils import *\n",
    "import itertools\n"
   ]
  },
  {
   "cell_type": "markdown",
   "metadata": {},
   "source": [
    "## Data Processing"
   ]
  },
  {
   "cell_type": "markdown",
   "metadata": {},
   "source": [
    "### Applying One-Hot Encoding and Shuffling"
   ]
  },
  {
   "cell_type": "code",
   "execution_count": 2,
   "metadata": {
    "tags": []
   },
   "outputs": [
    {
     "name": "stdout",
     "output_type": "stream",
     "text": [
      "     Class        ID  a1_1  a1_2  a1_3  a2_1  a2_2  a2_3  a3_1  a3_2  a4_1  \\\n",
      "0        1   data_42     1     0     0     1     0     0     0     1     0   \n",
      "1        0  data_157     0     1     0     1     0     0     1     0     0   \n",
      "2        0  data_143     1     0     0     0     0     1     0     1     0   \n",
      "3        0   data_93     1     0     0     0     1     0     0     1     0   \n",
      "4        1  data_197     0     1     0     0     1     0     1     0     1   \n",
      "..     ...       ...   ...   ...   ...   ...   ...   ...   ...   ...   ...   \n",
      "119      1  data_212     0     1     0     0     1     0     1     0     0   \n",
      "120      1  data_206     0     1     0     0     1     0     1     0     0   \n",
      "121      1  data_414     0     0     1     0     0     1     0     1     1   \n",
      "122      1  data_153     0     1     0     1     0     0     1     0     0   \n",
      "123      0  data_144     1     0     0     0     0     1     0     1     0   \n",
      "\n",
      "     a4_2  a4_3  a5_1  a5_2  a5_3  a5_4  a6_1  a6_2  \n",
      "0       0     1     1     0     0     0     0     1  \n",
      "1       1     0     0     0     1     0     1     0  \n",
      "2       0     1     0     0     0     1     1     0  \n",
      "3       0     1     0     0     1     0     1     0  \n",
      "4       0     0     0     0     1     0     1     0  \n",
      "..    ...   ...   ...   ...   ...   ...   ...   ...  \n",
      "119     0     1     0     1     0     0     0     1  \n",
      "120     1     0     0     0     1     0     0     1  \n",
      "121     0     0     0     0     1     0     0     1  \n",
      "122     1     0     1     0     0     0     1     0  \n",
      "123     0     1     0     0     0     1     0     1  \n",
      "\n",
      "[124 rows x 19 columns]\n"
     ]
    }
   ],
   "source": [
    "col_names = [\"Class\", \"a1\", \"a2\", \"a3\", \"a4\", \"a5\", \"a6\", \"ID\"]\n",
    "tr_data = pd.read_csv(\"../monk+s+problems/monks-1.train\", sep =\" \",  names = col_names)\n",
    "test_data = pd.read_csv(\"../monk+s+problems/monks-1.test\", sep =\" \",  names = col_names)\n",
    "\n",
    "tr_data = process_monk_data(tr_data)\n",
    "test_data = process_monk_data(test_data)\n",
    "\n",
    "print(tr_data)"
   ]
  },
  {
   "cell_type": "markdown",
   "metadata": {},
   "source": [
    "## Creating the Neural Network"
   ]
  },
  {
   "cell_type": "code",
   "execution_count": 3,
   "metadata": {},
   "outputs": [
    {
     "data": {
      "text/plain": [
       "'net = NeuralNetwork()\\n\\nn_inputs = tr_data.shape[1] - 2\\n\\nnet.add_input_layer(n_inputs)\\n\\nnet.add_hidden_layer(n_inputs, 4)\\n\\nnet.add_output_layer(4, 1)\\n'"
      ]
     },
     "execution_count": 3,
     "metadata": {},
     "output_type": "execute_result"
    }
   ],
   "source": [
    "\n",
    "'''net = NeuralNetwork()\n",
    "\n",
    "n_inputs = tr_data.shape[1] - 2\n",
    "\n",
    "net.add_input_layer(n_inputs)\n",
    "\n",
    "net.add_hidden_layer(n_inputs, 4)\n",
    "\n",
    "net.add_output_layer(4, 1)\n",
    "'''"
   ]
  },
  {
   "cell_type": "markdown",
   "metadata": {},
   "source": [
    "## Training"
   ]
  },
  {
   "cell_type": "markdown",
   "metadata": {},
   "source": [
    "### Training with Mean Square Error"
   ]
  },
  {
   "cell_type": "code",
   "execution_count": 4,
   "metadata": {},
   "outputs": [],
   "source": [
    "hyperparams = {\"epochs\": 500,\n",
    "               \"eta\": 0.5,\n",
    "               \"clip_value\": 1000,\n",
    "               \"hid_act_fun\": \"tanh\",\n",
    "               \"out_act_fun\": \"sigmoid\",\n",
    "               \"cost_fun\": \"mse\",\n",
    "               \"mb\" : 16,\n",
    "               \"momentum\" : 0.01}\n",
    "\n",
    "\n",
    "#losses = net.train(tr_data, hyperparams)  # TANH IS FASTER?? SCRITTO SULLE SLIDE\n",
    "# print(net)\n",
    "# print(net.input_layer.weights)\n",
    "\n",
    "#plot_loss(losses, cost_fun = hyperparams[\"cost_fun\"])"
   ]
  },
  {
   "cell_type": "markdown",
   "metadata": {},
   "source": [
    "### Training with Binary Cross Entropy"
   ]
  },
  {
   "cell_type": "code",
   "execution_count": 5,
   "metadata": {},
   "outputs": [
    {
     "data": {
      "text/plain": [
       "'\\n#RESET THE NETWORK!!!\\n\\nlosses = net.train(tr_data_X, tr_data_Y, epochs=1000,\\n                   eta=0.5, clip_value=None, hid_act_fun=\"tanh\", out_act_fun=\"sigmoid\", cost_fun=\"b_ce\")  # TANH IS FASTER?? SCRITTO SULLE SLIDE\\n# print(net)\\n# print(net.input_layer.weights)\\n\\nplot_loss(losses, cost_fun=\"b_ce\")\\n'"
      ]
     },
     "execution_count": 5,
     "metadata": {},
     "output_type": "execute_result"
    }
   ],
   "source": [
    "'''\n",
    "#RESET THE NETWORK!!!\n",
    "\n",
    "losses = net.train(tr_data_X, tr_data_Y, epochs=1000,\n",
    "                   eta=0.5, clip_value=None, hid_act_fun=\"tanh\", out_act_fun=\"sigmoid\", cost_fun=\"b_ce\")  # TANH IS FASTER?? SCRITTO SULLE SLIDE\n",
    "# print(net)\n",
    "# print(net.input_layer.weights)\n",
    "\n",
    "plot_loss(losses, cost_fun=\"b_ce\")\n",
    "'''"
   ]
  },
  {
   "cell_type": "markdown",
   "metadata": {},
   "source": [
    "# Test Monk 1"
   ]
  },
  {
   "cell_type": "code",
   "execution_count": 6,
   "metadata": {},
   "outputs": [],
   "source": [
    "#best_eta = net.k_fold(3, tr_data, hyperparams, \"eta\", [0.01, 0.05, 0.1,0.5, 0.8, 1])\n",
    "#print(best_eta)"
   ]
  },
  {
   "cell_type": "code",
   "execution_count": 7,
   "metadata": {},
   "outputs": [
    {
     "name": "stdout",
     "output_type": "stream",
     "text": [
      "24\n",
      "PARAMETERS: {'eta': 0.1, 'mb': 32, 'momentum': 0.01, 'n_layers': 2, 'n_neurons': 10, 'epochs': 50, 'clip_value': 1000, 'hid_act_fun': 'tanh', 'out_act_fun': 'sigmoid', 'cost_fun': 'mse', 'ridge_lambda': 0.01, 'lasso_lambda': None, 'linear_decay': True, 'eta0': 1, 'max_steps': 100, 'epochs_update': 2}\n",
      "PARAMETERS: {'eta': 0.1, 'mb': 32, 'momentum': 0.05, 'n_layers': 2, 'n_neurons': 10, 'epochs': 50, 'clip_value': 1000, 'hid_act_fun': 'tanh', 'out_act_fun': 'sigmoid', 'cost_fun': 'mse', 'ridge_lambda': 0.01, 'lasso_lambda': None, 'linear_decay': True, 'eta0': 1, 'max_steps': 100, 'epochs_update': 2}\n",
      "PARAMETERS: {'eta': 0.1, 'mb': 32, 'momentum': 0.1, 'n_layers': 2, 'n_neurons': 10, 'epochs': 50, 'clip_value': 1000, 'hid_act_fun': 'tanh', 'out_act_fun': 'sigmoid', 'cost_fun': 'mse', 'ridge_lambda': 0.01, 'lasso_lambda': None, 'linear_decay': True, 'eta0': 1, 'max_steps': 100, 'epochs_update': 2}\n",
      "PARAMETERS: {'eta': 0.1, 'mb': 64, 'momentum': 0.01, 'n_layers': 2, 'n_neurons': 10, 'epochs': 50, 'clip_value': 1000, 'hid_act_fun': 'tanh', 'out_act_fun': 'sigmoid', 'cost_fun': 'mse', 'ridge_lambda': 0.01, 'lasso_lambda': None, 'linear_decay': True, 'eta0': 1, 'max_steps': 100, 'epochs_update': 2}\n",
      "PARAMETERS: {'eta': 0.1, 'mb': 64, 'momentum': 0.05, 'n_layers': 2, 'n_neurons': 10, 'epochs': 50, 'clip_value': 1000, 'hid_act_fun': 'tanh', 'out_act_fun': 'sigmoid', 'cost_fun': 'mse', 'ridge_lambda': 0.01, 'lasso_lambda': None, 'linear_decay': True, 'eta0': 1, 'max_steps': 100, 'epochs_update': 2}\n",
      "PARAMETERS: {'eta': 0.1, 'mb': 64, 'momentum': 0.1, 'n_layers': 2, 'n_neurons': 10, 'epochs': 50, 'clip_value': 1000, 'hid_act_fun': 'tanh', 'out_act_fun': 'sigmoid', 'cost_fun': 'mse', 'ridge_lambda': 0.01, 'lasso_lambda': None, 'linear_decay': True, 'eta0': 1, 'max_steps': 100, 'epochs_update': 2}\n",
      "PARAMETERS: {'eta': 0.2, 'mb': 32, 'momentum': 0.01, 'n_layers': 2, 'n_neurons': 10, 'epochs': 50, 'clip_value': 1000, 'hid_act_fun': 'tanh', 'out_act_fun': 'sigmoid', 'cost_fun': 'mse', 'ridge_lambda': 0.01, 'lasso_lambda': None, 'linear_decay': True, 'eta0': 1, 'max_steps': 100, 'epochs_update': 2}\n",
      "PARAMETERS: {'eta': 0.2, 'mb': 32, 'momentum': 0.05, 'n_layers': 2, 'n_neurons': 10, 'epochs': 50, 'clip_value': 1000, 'hid_act_fun': 'tanh', 'out_act_fun': 'sigmoid', 'cost_fun': 'mse', 'ridge_lambda': 0.01, 'lasso_lambda': None, 'linear_decay': True, 'eta0': 1, 'max_steps': 100, 'epochs_update': 2}\n",
      "PARAMETERS: {'eta': 0.2, 'mb': 32, 'momentum': 0.1, 'n_layers': 2, 'n_neurons': 10, 'epochs': 50, 'clip_value': 1000, 'hid_act_fun': 'tanh', 'out_act_fun': 'sigmoid', 'cost_fun': 'mse', 'ridge_lambda': 0.01, 'lasso_lambda': None, 'linear_decay': True, 'eta0': 1, 'max_steps': 100, 'epochs_update': 2}\n",
      "PARAMETERS: {'eta': 0.2, 'mb': 32, 'momentum': 0.1, 'n_layers': 5, 'n_neurons': 10, 'epochs': 50, 'clip_value': 1000, 'hid_act_fun': 'tanh', 'out_act_fun': 'sigmoid', 'cost_fun': 'mse', 'ridge_lambda': 0.01, 'lasso_lambda': None, 'linear_decay': True, 'eta0': 1, 'max_steps': 100, 'epochs_update': 2}\n",
      "PARAMETERS: {'eta': 0.2, 'mb': 64, 'momentum': 0.01, 'n_layers': 2, 'n_neurons': 10, 'epochs': 50, 'clip_value': 1000, 'hid_act_fun': 'tanh', 'out_act_fun': 'sigmoid', 'cost_fun': 'mse', 'ridge_lambda': 0.01, 'lasso_lambda': None, 'linear_decay': True, 'eta0': 1, 'max_steps': 100, 'epochs_update': 2}\n",
      "PARAMETERS: {'eta': 0.2, 'mb': 64, 'momentum': 0.01, 'n_layers': 5, 'n_neurons': 10, 'epochs': 50, 'clip_value': 1000, 'hid_act_fun': 'tanh', 'out_act_fun': 'sigmoid', 'cost_fun': 'mse', 'ridge_lambda': 0.01, 'lasso_lambda': None, 'linear_decay': True, 'eta0': 1, 'max_steps': 100, 'epochs_update': 2}PARAMETERS: {'eta': 0.2, 'mb': 64, 'momentum': 0.05, 'n_layers': 2, 'n_neurons': 10, 'epochs': 50, 'clip_value': 1000, 'hid_act_fun': 'tanh', 'out_act_fun': 'sigmoid', 'cost_fun': 'mse', 'ridge_lambda': 0.01, 'lasso_lambda': None, 'linear_decay': True, 'eta0': 1, 'max_steps': 100, 'epochs_update': 2}\n",
      "PARAMETERS: {'eta': 0.2, 'mb': 64, 'momentum': 0.05, 'n_layers': 5, 'n_neurons': 10, 'epochs': 50, 'clip_value': 1000, 'hid_act_fun': 'tanh', 'out_act_fun': 'sigmoid', 'cost_fun': 'mse', 'ridge_lambda': 0.01, 'lasso_lambda': None, 'linear_decay': True, 'eta0': 1, 'max_steps': 100, 'epochs_update': 2}\n",
      "\n",
      "PARAMETERS: {'eta': 0.2, 'mb': 64, 'momentum': 0.1, 'n_layers': 2, 'n_neurons': 10, 'epochs': 50, 'clip_value': 1000, 'hid_act_fun': 'tanh', 'out_act_fun': 'sigmoid', 'cost_fun': 'mse', 'ridge_lambda': 0.01, 'lasso_lambda': None, 'linear_decay': True, 'eta0': 1, 'max_steps': 100, 'epochs_update': 2}PARAMETERS: {'eta': 0.2, 'mb': 64, 'momentum': 0.1, 'n_layers': 5, 'n_neurons': 10, 'epochs': 50, 'clip_value': 1000, 'hid_act_fun': 'tanh', 'out_act_fun': 'sigmoid', 'cost_fun': 'mse', 'ridge_lambda': 0.01, 'lasso_lambda': None, 'linear_decay': True, 'eta0': 1, 'max_steps': 100, 'epochs_update': 2}\n",
      "\n",
      "end Training\n",
      "end Training\n",
      "end Training\n",
      "end Training\n",
      "end Training\n",
      "end Training\n",
      "end Training\n",
      "end Training\n",
      "end Training\n",
      "end Training\n",
      "end Trainingend Training\n",
      "\n",
      "end Trainingend Training\n",
      "\n",
      "PARAMETERS: {'eta': 0.1, 'mb': 64, 'momentum': 0.1, 'n_layers': 5, 'n_neurons': 10, 'epochs': 50, 'clip_value': 1000, 'hid_act_fun': 'tanh', 'out_act_fun': 'sigmoid', 'cost_fun': 'mse', 'ridge_lambda': 0.01, 'lasso_lambda': None, 'linear_decay': True, 'eta0': 1, 'max_steps': 100, 'epochs_update': 2}\n",
      "end Training\n",
      "end Training\n",
      "PARAMETERS: {'eta': 0.1, 'mb': 64, 'momentum': 0.05, 'n_layers': 5, 'n_neurons': 10, 'epochs': 50, 'clip_value': 1000, 'hid_act_fun': 'tanh', 'out_act_fun': 'sigmoid', 'cost_fun': 'mse', 'ridge_lambda': 0.01, 'lasso_lambda': None, 'linear_decay': True, 'eta0': 1, 'max_steps': 100, 'epochs_update': 2}end Training\n",
      "\n",
      "end Training\n",
      "PARAMETERS: {'eta': 0.1, 'mb': 64, 'momentum': 0.01, 'n_layers': 5, 'n_neurons': 10, 'epochs': 50, 'clip_value': 1000, 'hid_act_fun': 'tanh', 'out_act_fun': 'sigmoid', 'cost_fun': 'mse', 'ridge_lambda': 0.01, 'lasso_lambda': None, 'linear_decay': True, 'eta0': 1, 'max_steps': 100, 'epochs_update': 2}\n",
      "end Training\n",
      "PARAMETERS: {'eta': 0.1, 'mb': 32, 'momentum': 0.1, 'n_layers': 5, 'n_neurons': 10, 'epochs': 50, 'clip_value': 1000, 'hid_act_fun': 'tanh', 'out_act_fun': 'sigmoid', 'cost_fun': 'mse', 'ridge_lambda': 0.01, 'lasso_lambda': None, 'linear_decay': True, 'eta0': 1, 'max_steps': 100, 'epochs_update': 2}\n",
      "end Training\n",
      "end Training\n",
      "PARAMETERS: {'eta': 0.2, 'mb': 32, 'momentum': 0.05, 'n_layers': 5, 'n_neurons': 10, 'epochs': 50, 'clip_value': 1000, 'hid_act_fun': 'tanh', 'out_act_fun': 'sigmoid', 'cost_fun': 'mse', 'ridge_lambda': 0.01, 'lasso_lambda': None, 'linear_decay': True, 'eta0': 1, 'max_steps': 100, 'epochs_update': 2}\n",
      "end Training\n",
      "end Trainingend TrainingPARAMETERS: {'eta': 0.1, 'mb': 32, 'momentum': 0.05, 'n_layers': 5, 'n_neurons': 10, 'epochs': 50, 'clip_value': 1000, 'hid_act_fun': 'tanh', 'out_act_fun': 'sigmoid', 'cost_fun': 'mse', 'ridge_lambda': 0.01, 'lasso_lambda': None, 'linear_decay': True, 'eta0': 1, 'max_steps': 100, 'epochs_update': 2}\n",
      "\n",
      "\n",
      "PARAMETERS: {'eta': 0.2, 'mb': 32, 'momentum': 0.01, 'n_layers': 5, 'n_neurons': 10, 'epochs': 50, 'clip_value': 1000, 'hid_act_fun': 'tanh', 'out_act_fun': 'sigmoid', 'cost_fun': 'mse', 'ridge_lambda': 0.01, 'lasso_lambda': None, 'linear_decay': True, 'eta0': 1, 'max_steps': 100, 'epochs_update': 2}\n",
      "PARAMETERS: {'eta': 0.1, 'mb': 32, 'momentum': 0.01, 'n_layers': 5, 'n_neurons': 10, 'epochs': 50, 'clip_value': 1000, 'hid_act_fun': 'tanh', 'out_act_fun': 'sigmoid', 'cost_fun': 'mse', 'ridge_lambda': 0.01, 'lasso_lambda': None, 'linear_decay': True, 'eta0': 1, 'max_steps': 100, 'epochs_update': 2}\n",
      "end Training\n",
      "end Training\n",
      "end Training\n",
      "end Training\n",
      "end Training\n",
      "end Training\n",
      "end Training\n",
      "end Training\n",
      "end Training\n",
      "end Training\n",
      "end Training\n",
      "end Training\n",
      "end Trainingend Training\n",
      "\n",
      "end Training\n",
      "end Training\n",
      "end Training\n",
      "end Training\n",
      "end Training\n",
      "end Training\n",
      "end Training\n",
      "end Training\n",
      "end Training\n",
      "end Training\n",
      "GRID SEARCH FINISHED\n",
      "[{'eta': 0.2, 'mb': 32, 'momentum': 0.1, 'n_layers': 2, 'n_neurons': 10, 'epochs': 50, 'clip_value': 1000, 'hid_act_fun': 'tanh', 'out_act_fun': 'sigmoid', 'cost_fun': 'mse', 'ridge_lambda': 0.01, 'lasso_lambda': None, 'linear_decay': True, 'eta0': 1, 'max_steps': 100, 'epochs_update': 2}, 0.024610949598013132]\n"
     ]
    }
   ],
   "source": [
    "grid = {\n",
    "    \"eta\" : [0.1, 0.2],\n",
    "    \"mb\" : [32, 64],\n",
    "    \"momentum\" : [0.01, 0.05, 0.1],\n",
    "    \"n_layers\" : [2, 5],\n",
    "    \"n_neurons\" : [10],\n",
    "    \"epochs\" : [50],\n",
    "    \"clip_value\" : [1000],\n",
    "    \"hid_act_fun\" : [\"tanh\"],\n",
    "    \"out_act_fun\" : [\"sigmoid\"],\n",
    "    \"cost_fun\" : [\"mse\"],\n",
    "    \"ridge_lambda\": [0.01],\n",
    "    \"lasso_lambda\": [None],\n",
    "    \"linear_decay\": [True],\n",
    "    \"eta0\": [1],\n",
    "    \"max_steps\": [100],\n",
    "    \"epochs_update\": [2]}\n",
    "    \n",
    "\n",
    "search_space = get_search_space(grid)\n",
    "\n",
    "print(len(search_space))\n",
    "\n",
    "grid_results = parallel_grid_search(2, tr_data, search_space, n_inputs = tr_data.shape[1] - 2, n_outputs=1)\n",
    "print(grid_results)\n",
    "\n",
    "\n",
    "\n",
    "#best_conf = np.min()"
   ]
  },
  {
   "cell_type": "code",
   "execution_count": 8,
   "metadata": {},
   "outputs": [
    {
     "name": "stdout",
     "output_type": "stream",
     "text": [
      "a\n",
      "{'eta': 0.2, 'mb': 32, 'momentum': 0.1, 'n_layers': 2, 'n_neurons': 10, 'epochs': 50, 'clip_value': 1000, 'hid_act_fun': 'tanh', 'out_act_fun': 'sigmoid', 'cost_fun': 'mse', 'ridge_lambda': 0.01, 'lasso_lambda': None, 'linear_decay': True, 'eta0': 1, 'max_steps': 100, 'epochs_update': 2}\n"
     ]
    }
   ],
   "source": [
    "print(\"a\")\n",
    "print(grid_results[0])"
   ]
  }
 ],
 "metadata": {
  "kernelspec": {
   "display_name": "Python 3",
   "language": "python",
   "name": "python3"
  },
  "language_info": {
   "codemirror_mode": {
    "name": "ipython",
    "version": 3
   },
   "file_extension": ".py",
   "mimetype": "text/x-python",
   "name": "python",
   "nbconvert_exporter": "python",
   "pygments_lexer": "ipython3",
   "version": "3.10.12"
  }
 },
 "nbformat": 4,
 "nbformat_minor": 2
}
