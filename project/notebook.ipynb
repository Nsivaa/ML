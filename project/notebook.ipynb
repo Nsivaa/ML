{
 "cells": [
  {
   "cell_type": "code",
   "execution_count": 1,
   "metadata": {},
   "outputs": [
    {
     "name": "stdout",
     "output_type": "stream",
     "text": [
      "LAYER 0 \n",
      "node 0 ->  weight: 0.9140472502064484, bias: 0.9781033892599232\n",
      "node 1 ->  weight: 0.34068056744032593, bias: 0.3432872108360032\n",
      "node 2 ->  weight: 0.5332900684990574, bias: 0.35644162663418255\n",
      "node 3 ->  weight: 0.5553906110819926, bias: 0.4709791915265519\n",
      "node 4 ->  weight: 0.14334917844910378, bias: 0.6521936164450148\n",
      "node 5 ->  weight: 0.027950532518581817, bias: 0.12053111890977697\n",
      "node 6 ->  weight: 0.5053076462235836, bias: 0.6162921963809574\n",
      "node 7 ->  weight: 0.19428424735126215, bias: 0.11164970148908326\n",
      "node 8 ->  weight: 0.39372185733221243, bias: 0.22114199712131144\n",
      "node 9 ->  weight: 0.5021086553928342, bias: 0.8630050805167945\n",
      "\n",
      "LAYER 1 \n",
      "node 0 ->  weight: 0.8282522299307165, bias: 0.5917879307386248\n",
      "node 1 ->  weight: 0.5088803429668785, bias: 0.7803394457991369\n",
      "node 2 ->  weight: 0.11442683571578316, bias: 0.6454901397363745\n",
      "node 3 ->  weight: 0.6658808665209192, bias: 0.8591180819007861\n",
      "node 4 ->  weight: 0.8389953342886456, bias: 0.06853628113219734\n",
      "node 5 ->  weight: 0.15370459364914046, bias: 0.538150218237516\n",
      "node 6 ->  weight: 0.46738488751803653, bias: 0.6414011981856802\n",
      "node 7 ->  weight: 0.42397300211229905, bias: 0.2668976621466541\n",
      "node 8 ->  weight: 0.0346814806990805, bias: 0.8699137029325451\n",
      "node 9 ->  weight: 0.18219967749062138, bias: 0.7883463213434772\n",
      "\n",
      "LAYER 2 \n",
      "node 0 ->  weight: 0.24857904195802094, bias: 0.6275808591701058\n",
      "node 1 ->  weight: 0.4435732667195412, bias: 0.42127150244457146\n",
      "node 2 ->  weight: 0.039037345855741035, bias: 0.7089135950448439\n",
      "node 3 ->  weight: 0.16063724897125564, bias: 0.20528939911183852\n",
      "node 4 ->  weight: 0.7811979095884273, bias: 0.19625953799488471\n",
      "node 5 ->  weight: 0.8586306953167951, bias: 0.5910069216895042\n",
      "node 6 ->  weight: 0.3167181942810232, bias: 0.9608679925397811\n",
      "node 7 ->  weight: 0.8833746100458055, bias: 0.9219007336882398\n",
      "node 8 ->  weight: 0.8446280810446786, bias: 0.375428069922101\n",
      "node 9 ->  weight: 0.0046261117036853205, bias: 0.2295347982035394\n",
      "\n",
      "\n"
     ]
    }
   ],
   "source": [
    "from network_utils import *\n",
    "import numpy as np\n",
    "\n",
    "net = NeuralNetwork()\n",
    "\n",
    "for i in range(0, 3):\n",
    "    layer = Layer()\n",
    "    for j in range(0, 10):\n",
    "        w = np.random.rand()\n",
    "        b = np.random.rand()\n",
    "        node = Node(weight = w, bias = b)\n",
    "        layer.add_node(node)\n",
    "    net.add_layer(layer)\n",
    "\n",
    "print(net)"
   ]
  }
 ],
 "metadata": {
  "kernelspec": {
   "display_name": "Python 3",
   "language": "python",
   "name": "python3"
  },
  "language_info": {
   "codemirror_mode": {
    "name": "ipython",
    "version": 3
   },
   "file_extension": ".py",
   "mimetype": "text/x-python",
   "name": "python",
   "nbconvert_exporter": "python",
   "pygments_lexer": "ipython3",
   "version": "3.10.12"
  }
 },
 "nbformat": 4,
 "nbformat_minor": 2
}
