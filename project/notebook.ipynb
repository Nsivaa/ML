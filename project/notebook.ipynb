{
 "cells": [
  {
   "cell_type": "markdown",
   "metadata": {},
   "source": [
    "# Network Creation\n",
    "\n",
    "Let's create a small Neural Network with 3 layers of 10 neurons each for testing"
   ]
  },
  {
   "cell_type": "code",
   "execution_count": 13,
   "metadata": {},
   "outputs": [],
   "source": [
    "import numpy as np\n",
    "import pandas as pd\n",
    "from nn_utils import *"
   ]
  },
  {
   "cell_type": "code",
   "execution_count": 14,
   "metadata": {},
   "outputs": [
    {
     "name": "stdout",
     "output_type": "stream",
     "text": [
      "LAYER 0 \n",
      "node 0 ->  weight: 0.04282947106719248, bias: 0.3971530047547396\n",
      "node 1 ->  weight: 0.6697295619513077, bias: 0.9220125949780329\n",
      "node 2 ->  weight: 0.8633542225932195, bias: 0.723759860636427\n",
      "node 3 ->  weight: 0.26063693879589933, bias: 0.6258765620042365\n",
      "node 4 ->  weight: 0.1395432815640376, bias: 0.3188008670557083\n",
      "node 5 ->  weight: 0.4788575752700115, bias: 0.7103400586470632\n",
      "node 6 ->  weight: 0.28715731172758097, bias: 0.8665255287695639\n",
      "node 7 ->  weight: 0.4095835719251891, bias: 0.3228239790311831\n",
      "node 8 ->  weight: 0.9539055578774359, bias: 0.9269638389776712\n",
      "node 9 ->  weight: 0.3823333689102346, bias: 0.6129498122474805\n",
      "\n",
      "LAYER 1 \n",
      "node 0 ->  weight: 0.6320440714020555, bias: 0.8833550050731119\n",
      "node 1 ->  weight: 0.6905075924072388, bias: 0.8958692909346714\n",
      "node 2 ->  weight: 0.6478250171124319, bias: 0.9778119016990949\n",
      "node 3 ->  weight: 0.7689482208728202, bias: 0.3617198932365936\n",
      "node 4 ->  weight: 0.3380768155910725, bias: 0.02719277702283851\n",
      "node 5 ->  weight: 0.7839219469235303, bias: 0.6291479721131452\n",
      "node 6 ->  weight: 0.9311715784762145, bias: 0.5324452932229123\n",
      "node 7 ->  weight: 0.5566130055804341, bias: 0.04067058323457562\n",
      "node 8 ->  weight: 0.6886181422093467, bias: 0.15048863432554738\n",
      "node 9 ->  weight: 0.6641742225868499, bias: 0.9138264154075706\n",
      "\n",
      "LAYER 2 \n",
      "node 0 ->  weight: 0.2327836182945413, bias: 0.04596139397970034\n",
      "node 1 ->  weight: 0.6037498283565487, bias: 0.3183452579287207\n",
      "node 2 ->  weight: 0.18816385212976772, bias: 0.22498592918194138\n",
      "node 3 ->  weight: 0.14664597896974563, bias: 0.37833018497138093\n",
      "node 4 ->  weight: 0.3616321622519122, bias: 0.14900456575745458\n",
      "node 5 ->  weight: 0.6284156740499383, bias: 0.5815927414027026\n",
      "node 6 ->  weight: 0.22851406761105153, bias: 0.7739821267208421\n",
      "node 7 ->  weight: 0.30383908614006083, bias: 0.22116099660935662\n",
      "node 8 ->  weight: 0.38827576242536066, bias: 0.7793231383192256\n",
      "node 9 ->  weight: 0.1751029951712031, bias: 0.5501781920580566\n",
      "\n",
      "\n"
     ]
    }
   ],
   "source": [
    "\n",
    "net = NeuralNetwork()\n",
    "\n",
    "for i in range(0, 3):\n",
    "    layer = Layer()\n",
    "    for j in range(0, 10):\n",
    "        w = np.random.rand()\n",
    "        b = np.random.rand()\n",
    "        node = Node(weight = w, bias = b)\n",
    "        layer.add_node(node)\n",
    "    net.add_layer(layer)\n",
    "\n",
    "print(net)"
   ]
  },
  {
   "cell_type": "code",
   "execution_count": 15,
   "metadata": {},
   "outputs": [
    {
     "name": "stdout",
     "output_type": "stream",
     "text": [
      "       Input1    Input2    Input3    Input4    Input5    Input6    Input7  \\\n",
      "0   -0.917280 -0.712727 -0.989904  0.992819  0.993649  0.995543  0.711074   \n",
      "1   -0.858784  0.998755 -0.998396  0.999909  0.316503 -0.951897 -0.163139   \n",
      "2   -0.990441  0.958726 -0.998675  0.997216  0.987166  0.356483 -0.279689   \n",
      "3    0.937117  0.984474 -0.612420  0.999812  0.728623 -0.539962 -0.165939   \n",
      "4   -0.906628 -0.884567 -0.932487  0.941037  0.978134  0.998179  0.749606   \n",
      "..        ...       ...       ...       ...       ...       ...       ...   \n",
      "995 -0.803560 -0.878859 -0.978391  0.957539  0.996655  0.996924 -0.226305   \n",
      "996  0.718841  0.995748 -0.942678  0.999929  0.747763 -0.808726  0.176132   \n",
      "997 -0.977912 -0.971108  0.956233 -0.979524  0.222033  0.986609  0.658273   \n",
      "998  0.284803 -0.988684 -0.427197  0.883317  0.993302  0.999500 -0.019456   \n",
      "999 -0.987580  0.993488 -0.998944  0.999703  0.936830 -0.564176  0.262568   \n",
      "\n",
      "       Input8    Input9   Input10   TARGET_x   TARGET_y   TARGET_z  \n",
      "0    0.407645 -0.688548  0.616890   7.897453 -35.936382  21.077147  \n",
      "1    0.980982  0.661759 -0.800155  -9.330632  19.901571   6.069154  \n",
      "2    0.599163 -0.684630  0.922901  14.849400   3.374090  19.667479  \n",
      "3    0.999352 -0.921444 -0.974766 -46.591854  13.734777  17.953600  \n",
      "4   -0.590599 -0.508268  0.691798   8.217500 -45.885254  14.894251  \n",
      "..        ...       ...       ...        ...        ...        ...  \n",
      "995  0.097814 -0.922666  0.934153  15.389553 -41.068806  27.513502  \n",
      "996  0.999100 -0.753970 -0.969009 -36.228770  13.067430  11.672133  \n",
      "997 -0.987310  0.937697  0.143420   7.265506 -53.497242   2.815666  \n",
      "998 -0.648110 -0.955231  0.901298   5.545274 -63.348396  27.989340  \n",
      "999  0.892081 -0.198204  0.494586   6.160610   8.321016  13.021444  \n",
      "\n",
      "[1000 rows x 13 columns]\n"
     ]
    }
   ],
   "source": [
    "col_names = ('Input1', 'Input2', 'Input3', 'Input4', 'Input5', 'Input6', 'Input7', 'Input8', 'Input9', 'Input10', 'TARGET_x', 'TARGET_y', 'TARGET_z')\n",
    "data = pd.read_csv(\"../ML-23-PRJ-Package/ML-CUP23-TR.csv\", skiprows=7, usecols = [i for i in range (1, 14)], names = col_names)\n",
    "\n",
    "print(data)"
   ]
  }
 ],
 "metadata": {
  "kernelspec": {
   "display_name": "Python 3",
   "language": "python",
   "name": "python3"
  },
  "language_info": {
   "codemirror_mode": {
    "name": "ipython",
    "version": 3
   },
   "file_extension": ".py",
   "mimetype": "text/x-python",
   "name": "python",
   "nbconvert_exporter": "python",
   "pygments_lexer": "ipython3",
   "version": "3.10.12"
  }
 },
 "nbformat": 4,
 "nbformat_minor": 2
}
