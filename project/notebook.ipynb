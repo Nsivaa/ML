{
 "cells": [
  {
   "cell_type": "markdown",
   "metadata": {},
   "source": [
    "# Network Creation\n",
    "\n",
    "Let's create a small Neural Network with 3 hidden layers of 15 neurons each for testing"
   ]
  },
  {
   "cell_type": "code",
   "execution_count": null,
   "metadata": {},
   "outputs": [],
   "source": [
    "import numpy as np\n",
    "import pandas as pd\n",
    "from nn_utils import *"
   ]
  },
  {
   "cell_type": "code",
   "execution_count": null,
   "metadata": {},
   "outputs": [],
   "source": [
    "n_hidden_layers = 3\n",
    "n_neurons = 5\n",
    "n_outputs = 3\n",
    "n_inputs = 10\n",
    "\n",
    "net = NeuralNetwork()\n",
    "net.add_input_layer(10)\n",
    "\n",
    "net.add_hidden_layer(10, 5)\n",
    "net.add_hidden_layer(5, 4)\n",
    "net.add_hidden_layer(4, 8)\n",
    "\n",
    "net.add_output_layer(8, 3)\n",
    "\n",
    "\n",
    "print(\"NET 1\")\n",
    "print(net)\n",
    "print(net.number_of_nodes())\n",
    "\n",
    "\n",
    "\n"
   ]
  },
  {
   "cell_type": "code",
   "execution_count": null,
   "metadata": {},
   "outputs": [],
   "source": [
    "col_names = ('Input1', 'Input2', 'Input3', 'Input4', 'Input5', 'Input6', 'Input7', 'Input8', 'Input9', 'Input10', 'TARGET_x', 'TARGET_y', 'TARGET_z')\n",
    "data = pd.read_csv(\"../ML-23-PRJ-Package/ML-CUP23-TR.csv\", skiprows=7, usecols = [i for i in range (1, 14)], names = col_names)\n",
    "\n",
    "data.head()"
   ]
  },
  {
   "cell_type": "markdown",
   "metadata": {},
   "source": [
    "\n",
    "# Preparing Dataframe\n",
    "i.e. creating the training set by removing non-training columns\n"
   ]
  },
  {
   "cell_type": "code",
   "execution_count": null,
   "metadata": {},
   "outputs": [],
   "source": [
    "tr_data = data[['Input1', 'Input2', 'Input3', 'Input4', 'Input5', 'Input6', 'Input7', 'Input8', 'Input9', 'Input10',]].copy()\n",
    "\n",
    "tr_data.head()\n",
    "\n",
    "net.train(data = tr_data)\n",
    "\n",
    "print(net)\n"
   ]
  }
 ],
 "metadata": {
  "kernelspec": {
   "display_name": "Python 3",
   "language": "python",
   "name": "python3"
  },
  "language_info": {
   "codemirror_mode": {
    "name": "ipython",
    "version": 3
   },
   "file_extension": ".py",
   "mimetype": "text/x-python",
   "name": "python",
   "nbconvert_exporter": "python",
   "pygments_lexer": "ipython3",
   "version": "3.10.12"
  }
 },
 "nbformat": 4,
 "nbformat_minor": 2
}
