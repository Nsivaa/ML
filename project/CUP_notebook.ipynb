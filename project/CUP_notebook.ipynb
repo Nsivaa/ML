{
 "cells": [
  {
   "cell_type": "markdown",
   "metadata": {},
   "source": [
    "# Network Creation\n",
    "\n",
    "Let's create a small Neural Network with 3 hidden layers for testing"
   ]
  },
  {
   "cell_type": "code",
   "execution_count": 1,
   "metadata": {},
   "outputs": [],
   "source": [
    "import numpy as np\n",
    "import pandas as pd\n",
    "from NeuralNetwork import *\n",
    "from utils import *"
   ]
  },
  {
   "cell_type": "code",
   "execution_count": 2,
   "metadata": {},
   "outputs": [],
   "source": [
    "col_names = ('Input1', 'Input2', 'Input3', 'Input4', 'Input5', 'Input6',\n",
    "             'Input7', 'Input8', 'Input9', 'Input10', 'TARGET_x', 'TARGET_y', 'TARGET_z')\n",
    "data = pd.read_csv(\"../ML-23-PRJ-Package/ML-CUP23-TR.csv\",\n",
    "                   skiprows=7, usecols=[i for i in range(1, 14)], names=col_names)\n",
    "\n",
    "data = data.sample(frac=1)\n",
    "# SPLIT 80/20 FOR TRAIN/TEST\n",
    "folds = np.array_split(data, 5)\n",
    "tr_data = folds[1:]\n",
    "test_data = folds[0]\n",
    "\n",
    "epochs = 300\n",
    "params = {\n",
    "    \"eta\": 0.00002,\n",
    "    \"mb\": 1,\n",
    "    \"momentum\": 0.99,\n",
    "    \"epochs\": epochs,\n",
    "    \"clip_value\": None,\n",
    "    \"hid_act_fun\": \"tanh\",\n",
    "    \"out_act_fun\": \"tanh\",\n",
    "    \"cost_fun\": \"mse\",\n",
    "    \"ridge_lambda\": 0.0000005,\n",
    "    \"lasso_lambda\": None,\n",
    "    \"decay_max_steps\": None,\n",
    "    \"decay_min_value\": None\n",
    "}\n",
    "\n",
    "parallel_grid_search(5, tr_data)"
   ]
  },
  {
   "cell_type": "code",
   "execution_count": 4,
   "metadata": {},
   "outputs": [
    {
     "name": "stderr",
     "output_type": "stream",
     "text": [
      "/home/nsiva/.local/lib/python3.10/site-packages/numpy/core/fromnumeric.py:59: FutureWarning: 'DataFrame.swapaxes' is deprecated and will be removed in a future version. Please use 'DataFrame.transpose' instead.\n",
      "  return bound(*args, **kwds)\n"
     ]
    },
    {
     "ename": "AttributeError",
     "evalue": "'list' object has no attribute 'shape'",
     "output_type": "error",
     "traceback": [
      "\u001b[0;31m---------------------------------------------------------------------------\u001b[0m",
      "\u001b[0;31mAttributeError\u001b[0m                            Traceback (most recent call last)",
      "Cell \u001b[0;32mIn[4], line 36\u001b[0m\n\u001b[1;32m     33\u001b[0m \u001b[38;5;28;01mfor\u001b[39;00m i \u001b[38;5;129;01min\u001b[39;00m \u001b[38;5;28mrange\u001b[39m(n):\n\u001b[1;32m     34\u001b[0m     net \u001b[38;5;241m=\u001b[39m NeuralNetwork()\n\u001b[0;32m---> 36\u001b[0m     n_inputs \u001b[38;5;241m=\u001b[39m \u001b[43mtr_data\u001b[49m\u001b[38;5;241;43m.\u001b[39;49m\u001b[43mshape\u001b[49m[\u001b[38;5;241m1\u001b[39m] \u001b[38;5;241m-\u001b[39m \u001b[38;5;241m2\u001b[39m\n\u001b[1;32m     38\u001b[0m     net\u001b[38;5;241m.\u001b[39madd_input_layer(n_inputs)\n\u001b[1;32m     40\u001b[0m     net\u001b[38;5;241m.\u001b[39madd_hidden_layer(n_inputs, \u001b[38;5;241m50\u001b[39m)\n",
      "\u001b[0;31mAttributeError\u001b[0m: 'list' object has no attribute 'shape'"
     ]
    }
   ],
   "source": [
    "col_names = ('Input1', 'Input2', 'Input3', 'Input4', 'Input5', 'Input6',\n",
    "             'Input7', 'Input8', 'Input9', 'Input10', 'TARGET_x', 'TARGET_y', 'TARGET_z')\n",
    "data = pd.read_csv(\"../ML-23-PRJ-Package/ML-CUP23-TR.csv\",\n",
    "                   skiprows=7, usecols=[i for i in range(1, 14)], names=col_names)\n",
    "\n",
    "data = data.sample(frac=1)\n",
    "#SPLIT 80/20 FOR TRAIN/TEST\n",
    "folds = np.array_split(data, 5)\n",
    "tr_data = folds[1:]\n",
    "test_data = folds[0]\n",
    "\n",
    "epochs=300\n",
    "params={\n",
    "    \"eta\" : 0.00002,\n",
    "    \"mb\" : 1,\n",
    "    \"momentum\" : 0.99,\n",
    "    \"epochs\" : epochs,\n",
    "    \"clip_value\" : None,\n",
    "    \"hid_act_fun\" : \"tanh\",\n",
    "    \"out_act_fun\" : \"tanh\",\n",
    "    \"cost_fun\" : \"mse\",\n",
    "    \"ridge_lambda\":0.0000005,\n",
    "    \"lasso_lambda\": None,\n",
    "    \"decay_max_steps\": None,\n",
    "    \"decay_min_value\": None\n",
    "}\n",
    "\n",
    "n=20\n",
    "test_errors=np.zeros((n,epochs))\n",
    "training_errors=np.zeros((n,epochs))\n",
    "acc_test_errors=np.zeros((n,epochs))\n",
    "acc_train_errors=np.zeros((n,epochs))\n",
    "for i in range(n):\n",
    "    net = NeuralNetwork()\n",
    "\n",
    "    n_inputs = tr_data.shape[1] - 2\n",
    "\n",
    "    net.add_input_layer(n_inputs)\n",
    "\n",
    "    net.add_hidden_layer(n_inputs, 50)\n",
    "\n",
    "    net.add_output_layer(50, 3)\n",
    "    test_error,training_error,acc_test,acc_train=net.train(tr_data,params,test_data=test_data)\n",
    "    test_errors[i]=test_error\n",
    "    training_errors[i]=training_error\n",
    "    acc_test_errors[i]=acc_test\n",
    "    acc_train_errors[i]=acc_train\n",
    "\n",
    "print(f\"MSE: mean = {np.mean(test_errors[:,-1])}, Var = {np.var(test_errors[:,-1])}\")\n",
    "#print(f\"Accuracy: mean = {np.mean(acc_test_errors[:,-1])}, std = {np.std(acc_test_errors[:,-1])}\")\n"
   ]
  }
 ],
 "metadata": {
  "kernelspec": {
   "display_name": "Python 3 (ipykernel)",
   "language": "python",
   "name": "python3"
  },
  "language_info": {
   "codemirror_mode": {
    "name": "ipython",
    "version": 3
   },
   "file_extension": ".py",
   "mimetype": "text/x-python",
   "name": "python",
   "nbconvert_exporter": "python",
   "pygments_lexer": "ipython3",
   "version": "3.10.12"
  }
 },
 "nbformat": 4,
 "nbformat_minor": 4
}
