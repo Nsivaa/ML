{
 "cells": [
  {
   "cell_type": "code",
   "execution_count": 1,
   "metadata": {},
   "outputs": [],
   "source": [
    "import numpy as np\n",
    "import pandas as pd\n",
    "from utils import *\n",
    "import warnings\n",
    "# to ignore pandas warning\n",
    "warnings.simplefilter(action='ignore', category=FutureWarning)\n",
    "import NeuralNetwork\n",
    "import matplotlib.pyplot as plt"
   ]
  },
  {
   "cell_type": "code",
   "execution_count": 2,
   "metadata": {},
   "outputs": [
    {
     "name": "stderr",
     "output_type": "stream",
     "text": [
      "Training:  26%|██▌       | 5114/20000 [08:25<24:55,  9.95epoch/s]"
     ]
    }
   ],
   "source": [
    "col_names = ('Input1', 'Input2', 'Input3', 'Input4', 'Input5', 'Input6',\n",
    "             'Input7', 'Input8', 'Input9', 'Input10', 'TARGET_x', 'TARGET_y', 'TARGET_z')\n",
    "data = pd.read_csv(\"../ML-23-PRJ-Package/ML-CUP23-TR.csv\",\n",
    "                   skiprows=7, usecols=[i for i in range(1, 14)], names=col_names)\n",
    "\n",
    "data = data.sample(frac=1)\n",
    "#SPLIT 80/20 FOR TRAIN/TEST\n",
    "folds = np.array_split(data, 10)\n",
    "tr_data = pd.concat(folds[2:10])\n",
    "test_data = pd.concat(folds[0:2])\n",
    "\n",
    "params =  {'eta': 0.00001, 'mb': 32, 'momentum': 0.99, 'n_layers': 15, 'n_neurons': 500, 'epochs': 20000, 'clip_value': None, 'hid_act_fun': 'relu', 'out_act_fun': 'linear', 'cost_fun': 'eucl', 'ridge_lambda': None, 'lasso_lambda': None, 'decay_max_steps': None, 'decay_min_value': None, 'es_patience': None}\n",
    "\n",
    "fig,axs = plt.subplots(1,1,figsize=(7,5))\n",
    "\n",
    "net = NeuralNetwork.NeuralNetwork(type=\"cup\")\n",
    "net.add_input_layer(10)\n",
    "net.add_hidden_layer(10,params[\"n_neurons\"])\n",
    "net.add_output_layer(params[\"n_neurons\"], 3)\n",
    "\n",
    "valid, tr = net.train(tr_data,params,test_data ,type=\"cup\")\n",
    "plot_loss_Cup(tr,\"eucl\",axs,test_losses=valid)\n",
    "print(f\"r: {tr[-1]} \\n TS:{valid[-1]}\")\n",
    "\n"
   ]
  }
 ],
 "metadata": {
  "kernelspec": {
   "display_name": "Python 3 (ipykernel)",
   "language": "python",
   "name": "python3"
  },
  "language_info": {
   "codemirror_mode": {
    "name": "ipython",
    "version": 3
   },
   "file_extension": ".py",
   "mimetype": "text/x-python",
   "name": "python",
   "nbconvert_exporter": "python",
   "pygments_lexer": "ipython3",
   "version": "3.8.10"
  }
 },
 "nbformat": 4,
 "nbformat_minor": 4
}
