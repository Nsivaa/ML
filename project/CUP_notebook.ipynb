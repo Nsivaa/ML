{
 "cells": [
  {
   "cell_type": "code",
   "execution_count": 1,
   "metadata": {},
   "outputs": [],
   "source": [
    "import numpy as np\n",
    "import pandas as pd\n",
    "from utils import *\n",
    "import warnings\n",
    "# to ignore pandas warning\n",
    "warnings.simplefilter(action='ignore', category=FutureWarning)\n",
    "import NeuralNetwork\n",
    "import matplotlib.pyplot as plt"
   ]
  },
  {
   "cell_type": "markdown",
   "metadata": {},
   "source": [
    "The tr-set is split in 70% to perform 5-fold cross validation on models, 10% for early stopping and 20% as internal test-set."
   ]
  },
  {
   "cell_type": "code",
   "execution_count": 3,
   "metadata": {},
   "outputs": [],
   "source": [
    "col_names = ('Input1', 'Input2', 'Input3', 'Input4', 'Input5', 'Input6',\n",
    "             'Input7', 'Input8', 'Input9', 'Input10', 'TARGET_x', 'TARGET_y', 'TARGET_z')\n",
    "\n",
    "if os.path.isfile(\"train_split.csv\"):\n",
    "    tr_data = pd.read_csv(\"train_split.csv\",\n",
    "                   skiprows=1, usecols=[i for i in range(1, 14)], names=col_names)\n",
    "    test_data = pd.read_csv(\"test_split.csv\",\n",
    "                   skiprows=1, usecols=[i for i in range(1, 14)], names=col_names)\n",
    "    es_data = pd.read_csv(\"es_split.csv\",\n",
    "                   skiprows=1, usecols=[i for i in range(1, 14)], names=col_names)\n",
    "else:\n",
    "    data = pd.read_csv(\"../ML-23-PRJ-Package/ML-CUP23-TR.csv\",\n",
    "                   skiprows=7, usecols=[i for i in range(1, 14)], names=col_names)\n",
    "    data = data.sample(frac=1)\n",
    "    #SPLIT 80/20 FOR TRAIN/TEST\n",
    "    folds = np.array_split(data, 10)\n",
    "    tr_data = pd.concat(folds[2:9])\n",
    "    test_data = pd.concat(folds[0:2])\n",
    "    es_data=folds[9]\n",
    "    tr_data.to_csv(\"train_split.csv\")\n",
    "    test_data.to_csv(\"test_split.csv\")\n",
    "    es_data.to_csv(\"es_split.csv\")\n",
    "\n"
   ]
  },
  {
   "cell_type": "markdown",
   "metadata": {},
   "source": [
    "## Gridsearch\n",
    "We will test some hyperparameter combinations in order to get the best model.\n",
    "<p> Every model is trained with a 5-fold cross validation made on a 70% split on the original tr-set (10% is used for early stopping), MSE is used as a score on the validation set (within the 5-fold) to get the best model. \n",
    "<p> The following is only one of the grid search performed."
   ]
  },
  {
   "cell_type": "code",
   "execution_count": null,
   "metadata": {},
   "outputs": [],
   "source": [
    "fullBatch = tr_data.shape[0]*0.8\n",
    "grid={\n",
    "\"eta\" : [0.001,0.005,0.0001],\n",
    "    \"mb\" : [1,8],\n",
    "    \"momentum\" : [0.9,0.6,0.5,0.7,0.8,0.95],\n",
    "    \"n_layers\" : [2],\n",
    "    \"n_neurons\" : [50,100,150,200],\n",
    "    \"epochs\" : [500],\n",
    "    \"clip_value\" : [None],\n",
    "    \"hid_act_fun\" : [\"tanh\"],\n",
    "    \"out_act_fun\" : [\"linear\"],\n",
    "    \"cost_fun\" : [\"eucl\"],\n",
    "    \"ridge_lambda\": [1e-8],\n",
    "    \"lasso_lambda\": [None],\n",
    "    \"decay_max_steps\": [None, 100],\n",
    "    \"decay_min_value\": [10],\n",
    "    \"es_patience\": [30]\n",
    "}\n",
    "\n",
    "search_space=get_search_space(grid)\n",
    "print(len(search_space))\n",
    "parallel_grid_search(k = 5, data = tr_data, es_data=es_data, search_space=search_space, n_inputs=10, n_outputs=3,type=\"cup\")"
   ]
  },
  {
   "cell_type": "code",
   "execution_count": 3,
   "metadata": {},
   "outputs": [
    {
     "name": "stdout",
     "output_type": "stream",
     "text": [
      "20\n",
      "N_cores = 10\n",
      "GRID SEARCH FINISHED\n",
      "[(-1.051403430985486, (0.006811756518426486, 0.7436724756694684, {'eta': 0.0001, 'mb': 2, 'momentum': 0.8, 'n_layers': 1, 'n_neurons': 400, 'epochs': 500, 'clip_value': None, 'hid_act_fun': 'tanh', 'out_act_fun': 'linear', 'cost_fun': 'eucl', 'ridge_lambda': 1e-08, 'lasso_lambda': None, 'decay_max_steps': None, 'decay_min_value': 10, 'es_patience': 50})), (-1.0178300267773444, (0.0006289629169450103, 0.7317306262447325, {'eta': 0.0001, 'mb': 2, 'momentum': 0.97, 'n_layers': 1, 'n_neurons': 400, 'epochs': 500, 'clip_value': None, 'hid_act_fun': 'tanh', 'out_act_fun': 'linear', 'cost_fun': 'eucl', 'ridge_lambda': 1e-08, 'lasso_lambda': None, 'decay_max_steps': 100, 'decay_min_value': 10, 'es_patience': 50})), (-0.902090833738715, (0.0024748594902683175, 0.5923929214073844, {'eta': 0.0001, 'mb': 2, 'momentum': 0.9, 'n_layers': 1, 'n_neurons': 400, 'epochs': 500, 'clip_value': None, 'hid_act_fun': 'tanh', 'out_act_fun': 'linear', 'cost_fun': 'eucl', 'ridge_lambda': 1e-08, 'lasso_lambda': None, 'decay_max_steps': None, 'decay_min_value': 10, 'es_patience': 50})), (-0.9947359196519938, (0.002082064552058501, 0.7399366168470285, {'eta': 0.0001, 'mb': 2, 'momentum': 0.8, 'n_layers': 1, 'n_neurons': 400, 'epochs': 500, 'clip_value': None, 'hid_act_fun': 'tanh', 'out_act_fun': 'linear', 'cost_fun': 'eucl', 'ridge_lambda': None, 'lasso_lambda': None, 'decay_max_steps': None, 'decay_min_value': 10, 'es_patience': 50})), (-0.9933060319956744, (0.00020497847361062335, 0.6953772643285493, {'eta': 0.0001, 'mb': 2, 'momentum': 0.97, 'n_layers': 1, 'n_neurons': 400, 'epochs': 500, 'clip_value': None, 'hid_act_fun': 'tanh', 'out_act_fun': 'linear', 'cost_fun': 'eucl', 'ridge_lambda': None, 'lasso_lambda': None, 'decay_max_steps': 100, 'decay_min_value': 10, 'es_patience': 50})), (-0.7563647864192308, (0.00555650732425607, 0.42948695127272796, {'eta': 0.0001, 'mb': 2, 'momentum': 0.97, 'n_layers': 1, 'n_neurons': 400, 'epochs': 500, 'clip_value': None, 'hid_act_fun': 'tanh', 'out_act_fun': 'linear', 'cost_fun': 'eucl', 'ridge_lambda': 1e-08, 'lasso_lambda': None, 'decay_max_steps': None, 'decay_min_value': 10, 'es_patience': 50})), (-0.7700470685095839, (0.0035447430759920225, 0.4642276249794358, {'eta': 0.0001, 'mb': 2, 'momentum': 0.95, 'n_layers': 1, 'n_neurons': 400, 'epochs': 500, 'clip_value': None, 'hid_act_fun': 'tanh', 'out_act_fun': 'linear', 'cost_fun': 'eucl', 'ridge_lambda': 1e-08, 'lasso_lambda': None, 'decay_max_steps': None, 'decay_min_value': 10, 'es_patience': 50})), (-0.7929974149531516, (0.002079828216704797, 0.44437581921535063, {'eta': 0.0001, 'mb': 2, 'momentum': 0.95, 'n_layers': 1, 'n_neurons': 400, 'epochs': 500, 'clip_value': None, 'hid_act_fun': 'tanh', 'out_act_fun': 'linear', 'cost_fun': 'eucl', 'ridge_lambda': None, 'lasso_lambda': None, 'decay_max_steps': None, 'decay_min_value': 10, 'es_patience': 50})), (-0.8872964117830046, (0.00417471176480881, 0.5846593133505088, {'eta': 0.0001, 'mb': 2, 'momentum': 0.9, 'n_layers': 1, 'n_neurons': 400, 'epochs': 500, 'clip_value': None, 'hid_act_fun': 'tanh', 'out_act_fun': 'linear', 'cost_fun': 'eucl', 'ridge_lambda': None, 'lasso_lambda': None, 'decay_max_steps': None, 'decay_min_value': 10, 'es_patience': 50})), (-0.7378709186012183, (0.005248121163180638, 0.38798197004472657, {'eta': 0.0001, 'mb': 2, 'momentum': 0.97, 'n_layers': 1, 'n_neurons': 400, 'epochs': 500, 'clip_value': None, 'hid_act_fun': 'tanh', 'out_act_fun': 'linear', 'cost_fun': 'eucl', 'ridge_lambda': None, 'lasso_lambda': None, 'decay_max_steps': None, 'decay_min_value': 10, 'es_patience': 50}))]\n",
      "[(-1.051403430985486, (0.006811756518426486, 0.7436724756694684, {'eta': 0.0001, 'mb': 2, 'momentum': 0.8, 'n_layers': 1, 'n_neurons': 400, 'epochs': 500, 'clip_value': None, 'hid_act_fun': 'tanh', 'out_act_fun': 'linear', 'cost_fun': 'eucl', 'ridge_lambda': 1e-08, 'lasso_lambda': None, 'decay_max_steps': None, 'decay_min_value': 10, 'es_patience': 50})), (-1.0178300267773444, (0.0006289629169450103, 0.7317306262447325, {'eta': 0.0001, 'mb': 2, 'momentum': 0.97, 'n_layers': 1, 'n_neurons': 400, 'epochs': 500, 'clip_value': None, 'hid_act_fun': 'tanh', 'out_act_fun': 'linear', 'cost_fun': 'eucl', 'ridge_lambda': 1e-08, 'lasso_lambda': None, 'decay_max_steps': 100, 'decay_min_value': 10, 'es_patience': 50})), (-0.902090833738715, (0.0024748594902683175, 0.5923929214073844, {'eta': 0.0001, 'mb': 2, 'momentum': 0.9, 'n_layers': 1, 'n_neurons': 400, 'epochs': 500, 'clip_value': None, 'hid_act_fun': 'tanh', 'out_act_fun': 'linear', 'cost_fun': 'eucl', 'ridge_lambda': 1e-08, 'lasso_lambda': None, 'decay_max_steps': None, 'decay_min_value': 10, 'es_patience': 50})), (-0.9947359196519938, (0.002082064552058501, 0.7399366168470285, {'eta': 0.0001, 'mb': 2, 'momentum': 0.8, 'n_layers': 1, 'n_neurons': 400, 'epochs': 500, 'clip_value': None, 'hid_act_fun': 'tanh', 'out_act_fun': 'linear', 'cost_fun': 'eucl', 'ridge_lambda': None, 'lasso_lambda': None, 'decay_max_steps': None, 'decay_min_value': 10, 'es_patience': 50})), (-0.9933060319956744, (0.00020497847361062335, 0.6953772643285493, {'eta': 0.0001, 'mb': 2, 'momentum': 0.97, 'n_layers': 1, 'n_neurons': 400, 'epochs': 500, 'clip_value': None, 'hid_act_fun': 'tanh', 'out_act_fun': 'linear', 'cost_fun': 'eucl', 'ridge_lambda': None, 'lasso_lambda': None, 'decay_max_steps': 100, 'decay_min_value': 10, 'es_patience': 50})), (-0.7563647864192308, (0.00555650732425607, 0.42948695127272796, {'eta': 0.0001, 'mb': 2, 'momentum': 0.97, 'n_layers': 1, 'n_neurons': 400, 'epochs': 500, 'clip_value': None, 'hid_act_fun': 'tanh', 'out_act_fun': 'linear', 'cost_fun': 'eucl', 'ridge_lambda': 1e-08, 'lasso_lambda': None, 'decay_max_steps': None, 'decay_min_value': 10, 'es_patience': 50})), (-0.7700470685095839, (0.0035447430759920225, 0.4642276249794358, {'eta': 0.0001, 'mb': 2, 'momentum': 0.95, 'n_layers': 1, 'n_neurons': 400, 'epochs': 500, 'clip_value': None, 'hid_act_fun': 'tanh', 'out_act_fun': 'linear', 'cost_fun': 'eucl', 'ridge_lambda': 1e-08, 'lasso_lambda': None, 'decay_max_steps': None, 'decay_min_value': 10, 'es_patience': 50})), (-0.7929974149531516, (0.002079828216704797, 0.44437581921535063, {'eta': 0.0001, 'mb': 2, 'momentum': 0.95, 'n_layers': 1, 'n_neurons': 400, 'epochs': 500, 'clip_value': None, 'hid_act_fun': 'tanh', 'out_act_fun': 'linear', 'cost_fun': 'eucl', 'ridge_lambda': None, 'lasso_lambda': None, 'decay_max_steps': None, 'decay_min_value': 10, 'es_patience': 50})), (-0.8872964117830046, (0.00417471176480881, 0.5846593133505088, {'eta': 0.0001, 'mb': 2, 'momentum': 0.9, 'n_layers': 1, 'n_neurons': 400, 'epochs': 500, 'clip_value': None, 'hid_act_fun': 'tanh', 'out_act_fun': 'linear', 'cost_fun': 'eucl', 'ridge_lambda': None, 'lasso_lambda': None, 'decay_max_steps': None, 'decay_min_value': 10, 'es_patience': 50})), (-0.7378709186012183, (0.005248121163180638, 0.38798197004472657, {'eta': 0.0001, 'mb': 2, 'momentum': 0.97, 'n_layers': 1, 'n_neurons': 400, 'epochs': 500, 'clip_value': None, 'hid_act_fun': 'tanh', 'out_act_fun': 'linear', 'cost_fun': 'eucl', 'ridge_lambda': None, 'lasso_lambda': None, 'decay_max_steps': None, 'decay_min_value': 10, 'es_patience': 50}))]\n"
     ]
    }
   ],
   "source": [
    "grid = {\n",
    "    \"eta\" : [0.0001],\n",
    "    \"mb\" : [2],\n",
    "    \"momentum\" : [0.6, 0.8,0.9,0.95,0.97],\n",
    "    \"n_layers\" : [1],\n",
    "    \"n_neurons\" : [400],\n",
    "    \"epochs\" : [500],\n",
    "    \"clip_value\" : [None],\n",
    "    \"hid_act_fun\" : [\"tanh\"],\n",
    "    \"out_act_fun\" : [\"linear\"],\n",
    "    \"cost_fun\" : [\"eucl\"],\n",
    "    \"ridge_lambda\": [0.00000001, None],\n",
    "    \"lasso_lambda\": [None],\n",
    "    \"decay_max_steps\": [None, 100],\n",
    "    \"decay_min_value\": [10],\n",
    "    \"es_patience\": [50]\n",
    "}\n",
    "\n",
    "search_space=get_search_space(grid)\n",
    "print(len(search_space))\n",
    "parallel_grid_search(k = 5, data = tr_data, es_data=es_data, search_space=search_space, n_inputs=10, n_outputs=3,type=\"cup\")"
   ]
  },
  {
   "cell_type": "markdown",
   "metadata": {},
   "source": [
    "Now we pick the best 5 models out of the grid search and will use them as an ensamble model."
   ]
  },
  {
   "cell_type": "markdown",
   "metadata": {},
   "source": [
    "The best results:\n",
    "\n",
    "1. {'eta': 0.0001, 'mb': 1, 'momentum': 0.8, 'n_layers': 3, 'n_neurons': 200, 'epochs': 500, 'clip_value': None, 'hid_act_fun': 'tanh', 'out_act_fun': 'linear', 'cost_fun': 'eucl', 'ridge_lambda': 1e-08, 'lasso_lambda': None, 'decay_max_steps': None, 'decay_min_value': 10, 'es_patience': 30}<br>\n",
    "Validation mean = 0.5776027113455716, Variance = 0.0026117155270263376<br>\n",
    "Training mean (ES) = 0.2442599815747089\n",
    "\n",
    "2. {'eta': 0.0001, 'mb': 1, 'momentum': 0.6, 'n_layers': 3, 'n_neurons': 200, 'epochs': 500, 'clip_value': None, 'hid_act_fun': 'tanh', 'out_act_fun': 'linear', 'cost_fun': 'eucl', 'ridge_lambda': 1e-08, 'lasso_lambda': None, 'decay_max_steps': None, 'decay_min_value': 10, 'es_patience': 30}<br>\n",
    "Validation mean = 0.6003179533234724, Variance = 0.001471646127359402<br>\n",
    "Training mean (ES) = 0.2625431767735682\n",
    "\n",
    "3. {'eta': 0.0001, 'mb': 1, 'momentum': 0.9, 'n_layers': 2, 'n_neurons': 200, 'epochs': 500, 'clip_value': None, 'hid_act_fun': 'tanh', 'out_act_fun': 'linear', 'cost_fun': 'eucl', 'ridge_lambda': None, 'lasso_lambda': None, 'decay_max_steps': None, 'decay_min_value': 10, 'es_patience': 30}<br>\n",
    "Validation mean = 0.6108271204955864, Variance = 0.002266016486143601<br>\n",
    "Training mean (ES) = 0.25655232735599054\n",
    "\n",
    "4. {'eta': 0.0001, 'mb': 8, 'momentum': 0.9, 'n_layers': 3, 'n_neurons': 200, 'epochs': 500, 'clip_value': None, 'hid_act_fun': 'tanh', 'out_act_fun': 'linear', 'cost_fun': 'eucl', 'ridge_lambda': None, 'lasso_lambda': None, 'decay_max_steps': None, 'decay_min_value': 10, 'es_patience': 30}<br>\n",
    "Validation mean = 0.617711172518093, Variance = 0.0056700694722032425<br>\n",
    "Training mean (ES) = 0.26035793552839165\n",
    "\n",
    "5. {'eta': 0.0001, 'mb': 1, 'momentum': 0.5, 'n_layers': 3, 'n_neurons': 200, 'epochs': 500, 'clip_value': None, 'hid_act_fun': 'tanh', 'out_act_fun': 'linear', 'cost_fun': 'eucl', 'ridge_lambda': None, 'lasso_lambda': None, 'decay_max_steps': None, 'decay_min_value': 10, 'es_patience': 30}<br>\n",
    "Validation mean = 0.6335390644035537, Variance = 0.004222898732823709<br>\n",
    "Training mean (ES) = 0.2599176722840955\n"
   ]
  },
  {
   "cell_type": "markdown",
   "metadata": {},
   "source": [
    "## Ensamble"
   ]
  },
  {
   "cell_type": "markdown",
   "metadata": {},
   "source": [
    "Adesso va fatta una k-fold su best single model (con early stopping e senza), in ogni caso senza usare un es_data.\n",
    "Si ripete il processo sul ensemble\n",
    "il miglior validation su mee sarà il miglior modello finale, che verrà trainato su 800 entry e e testato su test set interno."
   ]
  },
  {
   "cell_type": "code",
   "execution_count": null,
   "metadata": {},
   "outputs": [],
   "source": [
    "# inizializzazione dei modelli \n",
    "# aggiungo i modelli ad un array di NN\n",
    "\n",
    "# lr decay is not used as a parameter beacuse there is no model among the best 5 which use it\n",
    "params = {\n",
    "    \"eta\" : [0.001,0.0001],\n",
    "    \"mb\" : [1,8],\n",
    "    \"momentum\" : [0.9,0.75,0.5],\n",
    "    \"es_stop\": [],\n",
    "    \"hid_act_fun\" : \"tanh\",\n",
    "    \"out_act_fun\" : \"linear\",\n",
    "    \"cost_fun\" : \"mse\",\n",
    "    \"ridge_lambda\": [None,1e-8]\n",
    "}\n"
   ]
  },
  {
   "cell_type": "markdown",
   "metadata": {},
   "source": [
    "## Best model\n",
    "We try comparing with 5-fold mee on internal validation set, the best single model with ES, without it and the ensamble model of the best 5."
   ]
  },
  {
   "cell_type": "code",
   "execution_count": 4,
   "metadata": {},
   "outputs": [
    {
     "ename": "SyntaxError",
     "evalue": "invalid syntax (3377777339.py, line 21)",
     "output_type": "error",
     "traceback": [
      "\u001b[1;36m  Cell \u001b[1;32mIn[4], line 21\u001b[1;36m\u001b[0m\n\u001b[1;33m    k_fold(5, data, parameters,es_data,type,n_inputs,n_outputs,es_stop=None):\u001b[0m\n\u001b[1;37m                                                                            ^\u001b[0m\n\u001b[1;31mSyntaxError\u001b[0m\u001b[1;31m:\u001b[0m invalid syntax\n"
     ]
    }
   ],
   "source": [
    "# 5 fold with es\n",
    "parameters = {\n",
    "    'eta': 0.0001,\n",
    "    'mb': 1,\n",
    "    'momentum': 0.8, \n",
    "    'n_layers': 3, \n",
    "    'n_neurons': 200, \n",
    "    'epochs': 2000, \n",
    "    'clip_value': None, \n",
    "    'hid_act_fun': 'tanh', \n",
    "    'out_act_fun': 'linear', \n",
    "    'cost_fun': 'eucl', \n",
    "    'ridge_lambda': 1e-08, \n",
    "    'lasso_lambda': None, \n",
    "    'decay_max_steps': None, \n",
    "    'decay_min_value': 10, \n",
    "    'es_patience': 30 }\n",
    "\n",
    "tr_data = pd.concat([tr_data,es_data])\n",
    "ES_STOP = 0.244\n",
    "k_fold(5, tr_data, parameters,None,\"cup\",3,10,es_stop=ES_STOP)\n",
    "\n"
   ]
  },
  {
   "cell_type": "code",
   "execution_count": null,
   "metadata": {},
   "outputs": [],
   "source": [
    "# 5 fold without es\n",
    "parameters = {\n",
    "    'eta': 0.0001,\n",
    "    'mb': 1,\n",
    "    'momentum': 0.8, \n",
    "    'n_layers': 3, \n",
    "    'n_neurons': 200, \n",
    "    'epochs': 2000, \n",
    "    'clip_value': None, \n",
    "    'hid_act_fun': 'tanh', \n",
    "    'out_act_fun': 'linear', \n",
    "    'cost_fun': 'eucl', \n",
    "    'ridge_lambda': 1e-08, \n",
    "    'lasso_lambda': None, \n",
    "    'decay_max_steps': None, \n",
    "    'decay_min_value': 10, \n",
    "    'es_patience': 30 }\n",
    "\n",
    "k_fold(5, tr_data, parameters,None,\"cup\",3,10,es_stop=None)"
   ]
  },
  {
   "cell_type": "code",
   "execution_count": null,
   "metadata": {},
   "outputs": [],
   "source": [
    "parameters={\n",
    "\"eta\" : [0.001,0.0001],\n",
    "    \"mb\" : [1,8],\n",
    "    \"momentum\" : [0.9,0.75,0.5],\n",
    "    \"n_layers\" : [3],\n",
    "    \"n_neurons\" : [100,150],\n",
    "    \"epochs\" : [500],\n",
    "    \"clip_value\" : [None],\n",
    "    \"hid_act_fun\" : [\"tanh\"],\n",
    "    \"out_act_fun\" : [\"linear\"],\n",
    "    \"cost_fun\" : [\"mse\"],\n",
    "    \"ridge_lambda\": [None,1e-8],\n",
    "    \"lasso_lambda\": [None],\n",
    "    \"decay_max_steps\": [None],\n",
    "    \"decay_min_value\": [10],\n",
    "    \"es_patience\": [30]\n",
    "}\n",
    "\n",
    "#plot_lossCup ha bisogno dei vettori di loss di test e training\n",
    "# la cosa viene ripetuta anche per mee\n",
    "# anche senza ES, in entrmabi i casi con 2000 epoche\n",
    "\n",
    "#to retrain the model we will use both internal traing and early stopping set as tr-set\n",
    "tr_set = pd.concat([tr_set,es_data])\n",
    "n_layers = parameters[\"n_layers\"]\n",
    "n_neurons = parameters[\"n_neurons\"]\n",
    "# 2000 epochs retraining without early stopping \n",
    "net = NeuralNetwork(type=\"cup\")\n",
    "net.add_input_layer(10)\n",
    "net.add_hidden_layer(10, n_neurons)\n",
    "net.add_hidden_layer(n_neurons, n_neurons)\n",
    "net.add_output_layer(n_neurons, 3)\n",
    "\n",
    "test_mse,train_mse,test_mee,train_mee= net.train(tr_set, parameters,test_data=test_set,outFun2=\"eucl\", progress_bar=True)\n",
    "plot_loss_Cup()"
   ]
  },
  {
   "cell_type": "code",
   "execution_count": null,
   "metadata": {},
   "outputs": [],
   "source": [
    "# now with Early stopping, the training will stop when mee on training set will go under 'ES_STOP'\n",
    "ES_STOP = \n",
    "\n",
    "net = NeuralNetwork(type=\"cup\")\n",
    "net.add_input_layer(10)\n",
    "net.add_hidden_layer(10, n_neurons)\n",
    "net.add_hidden_layer(n_neurons, n_neurons)\n",
    "net.add_output_layer(n_neurons, 3)\n",
    "\n",
    "# retraining with early stopping\n",
    "test_mse,train_mse,test_mee,train_mee= net.train(tr_set, parameters,test_data=test_set,outFun2=\"eucl\", progress_bar=True)\n",
    "plot_loss_Cup()\n",
    "\n",
    "test_mse,train_mse,test_mee,train_mee= net.train(tr_set, parameters,test_data=test_set,outFun2=\"eucl\", progress_bar=True,es_stop=ES_STOP)\n"
   ]
  },
  {
   "cell_type": "code",
   "execution_count": null,
   "metadata": {},
   "outputs": [],
   "source": []
  }
 ],
 "metadata": {
  "kernelspec": {
   "display_name": "Python 3 (ipykernel)",
   "language": "python",
   "name": "python3"
  },
  "language_info": {
   "codemirror_mode": {
    "name": "ipython",
    "version": 3
   },
   "file_extension": ".py",
   "mimetype": "text/x-python",
   "name": "python",
   "nbconvert_exporter": "python",
   "pygments_lexer": "ipython3",
   "version": "3.10.14"
  }
 },
 "nbformat": 4,
 "nbformat_minor": 4
}
