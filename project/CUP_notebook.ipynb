{
 "cells": [
  {
   "cell_type": "code",
   "execution_count": 1,
   "metadata": {},
   "outputs": [],
   "source": [
    "import numpy as np\n",
    "import pandas as pd\n",
    "from utils import *\n",
    "import warnings\n",
    "# to ignore pandas warning\n",
    "warnings.simplefilter(action='ignore', category=FutureWarning)\n",
    "import NeuralNetwork\n",
    "import matplotlib.pyplot as plt"
   ]
  },
  {
   "cell_type": "code",
   "execution_count": 2,
   "metadata": {},
   "outputs": [],
   "source": [
    "col_names = ('Input1', 'Input2', 'Input3', 'Input4', 'Input5', 'Input6',\n",
    "             'Input7', 'Input8', 'Input9', 'Input10', 'TARGET_x', 'TARGET_y', 'TARGET_z')\n",
    "data = pd.read_csv(\"../ML-23-PRJ-Package/ML-CUP23-TR.csv\",\n",
    "                   skiprows=7, usecols=[i for i in range(1, 14)], names=col_names)\n",
    "\n",
    "data = data.sample(frac=1)\n",
    "#SPLIT 80/20 FOR TRAIN/TEST\n",
    "folds = np.array_split(data, 10)\n",
    "tr_data = pd.concat(folds[2:9])\n",
    "test_data = pd.concat(folds[0:2])\n",
    "es_data=folds[9]"
   ]
  },
  {
   "cell_type": "code",
   "execution_count": 4,
   "metadata": {},
   "outputs": [
    {
     "name": "stdout",
     "output_type": "stream",
     "text": [
      "16\n",
      "N_cores = 10\n"
     ]
    },
    {
     "name": "stderr",
     "output_type": "stream",
     "text": [
      "Training: 100%|██████████| 100/100 [00:12<00:00,  8.18epoch/s]\n",
      "Training: 100%|██████████| 100/100 [00:13<00:00,  7.69epoch/s]\n",
      "Training: 100%|██████████| 100/100 [00:13<00:00,  7.49epoch/s]\n",
      "Training: 100%|██████████| 100/100 [00:14<00:00,  6.85epoch/s]\n",
      "Training: 100%|██████████| 100/100 [00:14<00:00,  6.77epoch/s]\n",
      "Training: 100%|██████████| 100/100 [00:14<00:00,  6.68epoch/s]\n",
      "Training: 100%|██████████| 100/100 [00:15<00:00,  6.51epoch/s]\n",
      "Training: 100%|██████████| 100/100 [00:17<00:00,  5.80epoch/s]\n",
      "Training: 100%|██████████| 100/100 [00:17<00:00,  5.67epoch/s]\n",
      "Training: 100%|██████████| 100/100 [00:18<00:00,  5.55epoch/s]\n",
      "Training: 100%|██████████| 100/100 [00:12<00:00,  8.02epoch/s]\n",
      "Training: 100%|██████████| 100/100 [00:13<00:00,  7.63epoch/s]\n",
      "Training: 100%|██████████| 100/100 [00:12<00:00,  7.92epoch/s]\n",
      "Training: 100%|██████████| 100/100 [00:14<00:00,  6.88epoch/s]\n",
      "Training: 100%|██████████| 100/100 [00:17<00:00,  5.83epoch/s]\n",
      "Training: 100%|██████████| 100/100 [00:16<00:00,  6.18epoch/s]\n",
      "Training: 100%|██████████| 100/100 [00:15<00:00,  6.64epoch/s]\n",
      "Training: 100%|██████████| 100/100 [00:19<00:00,  5.25epoch/s]\n",
      "Training: 100%|██████████| 100/100 [00:18<00:00,  5.53epoch/s]\n",
      "Training: 100%|██████████| 100/100 [00:19<00:00,  5.26epoch/s]\n",
      "Training: 100%|██████████| 100/100 [00:12<00:00,  8.04epoch/s]\n",
      "Training: 100%|██████████| 100/100 [00:12<00:00,  7.92epoch/s]\n",
      "Training: 100%|██████████| 100/100 [00:14<00:00,  7.11epoch/s]\n",
      "Training: 100%|██████████| 100/100 [00:15<00:00,  6.65epoch/s]\n",
      "Training: 100%|██████████| 100/100 [00:16<00:00,  6.12epoch/s]\n",
      "Training: 100%|██████████| 100/100 [00:15<00:00,  6.38epoch/s]\n",
      "Training: 100%|██████████| 100/100 [00:15<00:00,  6.64epoch/s]\n",
      "Training: 100%|██████████| 100/100 [00:12<00:00,  8.01epoch/s]\n",
      "Training: 100%|██████████| 100/100 [00:14<00:00,  6.67epoch/s]\n",
      "Training: 100%|██████████| 100/100 [00:12<00:00,  7.98epoch/s]\n",
      "Training: 100%|██████████| 100/100 [00:18<00:00,  5.40epoch/s]\n",
      "Training: 100%|██████████| 100/100 [00:13<00:00,  7.62epoch/s]\n",
      "Training: 100%|██████████| 100/100 [00:18<00:00,  5.42epoch/s]\n",
      "Training: 100%|██████████| 100/100 [00:14<00:00,  6.81epoch/s]\n",
      "Training: 100%|██████████| 100/100 [00:14<00:00,  6.89epoch/s]\n",
      "Training: 100%|██████████| 100/100 [00:12<00:00,  7.86epoch/s]\n"
     ]
    },
    {
     "name": "stdout",
     "output_type": "stream",
     "text": [
      "val_mean = 18.00912408961502\n"
     ]
    },
    {
     "name": "stderr",
     "output_type": "stream",
     "text": [
      "Training: 100%|██████████| 100/100 [00:16<00:00,  6.12epoch/s]\n",
      "Training: 100%|██████████| 100/100 [00:15<00:00,  6.59epoch/s]\n",
      "Training: 100%|██████████| 100/100 [00:12<00:00,  7.78epoch/s]\n"
     ]
    },
    {
     "name": "stdout",
     "output_type": "stream",
     "text": [
      "val_mean = 29.208609400280256\n"
     ]
    },
    {
     "name": "stderr",
     "output_type": "stream",
     "text": [
      "Training: 100%|██████████| 100/100 [00:15<00:00,  6.56epoch/s]\n",
      "Training: 100%|██████████| 100/100 [00:15<00:00,  6.44epoch/s]\n"
     ]
    },
    {
     "name": "stdout",
     "output_type": "stream",
     "text": [
      "val_mean = 13.648486343508704\n"
     ]
    },
    {
     "name": "stderr",
     "output_type": "stream",
     "text": [
      "Training: 100%|██████████| 100/100 [00:18<00:00,  5.42epoch/s]\n",
      "Training: 100%|██████████| 100/100 [00:17<00:00,  5.67epoch/s]\n",
      "Training: 100%|██████████| 100/100 [00:15<00:00,  6.63epoch/s]\n"
     ]
    },
    {
     "name": "stdout",
     "output_type": "stream",
     "text": [
      "val_mean = 33.97461116614524\n"
     ]
    },
    {
     "name": "stderr",
     "output_type": "stream",
     "text": [
      "Training: 100%|██████████| 100/100 [00:13<00:00,  7.61epoch/s]\n"
     ]
    },
    {
     "name": "stdout",
     "output_type": "stream",
     "text": [
      "val_mean = 19.79184810910134\n"
     ]
    },
    {
     "name": "stderr",
     "output_type": "stream",
     "text": [
      "Training: 100%|██████████| 100/100 [00:14<00:00,  6.99epoch/s]\n"
     ]
    },
    {
     "name": "stdout",
     "output_type": "stream",
     "text": [
      "val_mean = 17.503889742323786\n"
     ]
    },
    {
     "name": "stderr",
     "output_type": "stream",
     "text": [
      "Training: 100%|██████████| 100/100 [00:15<00:00,  6.50epoch/s]\n"
     ]
    },
    {
     "name": "stdout",
     "output_type": "stream",
     "text": [
      "val_mean = 24.504456082972574\n"
     ]
    },
    {
     "name": "stderr",
     "output_type": "stream",
     "text": [
      "Training: 100%|██████████| 100/100 [00:15<00:00,  6.38epoch/s]\n",
      "Training: 100%|██████████| 100/100 [00:16<00:00,  6.15epoch/s]\n"
     ]
    },
    {
     "name": "stdout",
     "output_type": "stream",
     "text": [
      "val_mean = 21.19514238835729\n"
     ]
    },
    {
     "name": "stderr",
     "output_type": "stream",
     "text": [
      "Training: 100%|██████████| 100/100 [00:13<00:00,  7.50epoch/s]\n",
      "Training: 100%|██████████| 100/100 [00:12<00:00,  8.20epoch/s]\n",
      "Training: 100%|██████████| 100/100 [00:15<00:00,  6.33epoch/s]\n"
     ]
    },
    {
     "name": "stdout",
     "output_type": "stream",
     "text": [
      "val_mean = 23.442614051050914\n"
     ]
    },
    {
     "name": "stderr",
     "output_type": "stream",
     "text": [
      "Training: 100%|██████████| 100/100 [00:15<00:00,  6.61epoch/s]\n"
     ]
    },
    {
     "name": "stdout",
     "output_type": "stream",
     "text": [
      "val_mean = 27.81945659680481\n"
     ]
    },
    {
     "name": "stderr",
     "output_type": "stream",
     "text": [
      "Training: 100%|██████████| 100/100 [00:11<00:00,  8.35epoch/s]\n",
      "Training: 100%|██████████| 100/100 [00:13<00:00,  7.39epoch/s]\n",
      "Training: 100%|██████████| 100/100 [00:11<00:00,  8.86epoch/s]\n",
      "Training: 100%|██████████| 100/100 [00:13<00:00,  7.45epoch/s]\n",
      "Training: 100%|██████████| 100/100 [00:10<00:00,  9.75epoch/s]\n",
      "Training: 100%|██████████| 100/100 [00:10<00:00,  9.70epoch/s]\n",
      "Training: 100%|██████████| 100/100 [00:12<00:00,  7.75epoch/s]\n",
      "Training: 100%|██████████| 100/100 [00:12<00:00,  8.02epoch/s]\n",
      "Training: 100%|██████████| 100/100 [00:10<00:00,  9.18epoch/s]\n",
      "Training: 100%|██████████| 100/100 [00:12<00:00,  7.80epoch/s]\n",
      "Training: 100%|██████████| 100/100 [00:10<00:00,  9.56epoch/s]\n",
      "Training: 100%|██████████| 100/100 [00:10<00:00,  9.41epoch/s]\n",
      "Training: 100%|██████████| 100/100 [00:13<00:00,  7.64epoch/s]\n",
      "Training: 100%|██████████| 100/100 [00:10<00:00,  9.18epoch/s]\n",
      "Training: 100%|██████████| 100/100 [00:12<00:00,  7.70epoch/s]\n",
      "Training: 100%|██████████| 100/100 [00:10<00:00,  9.51epoch/s]\n",
      "Training: 100%|██████████| 100/100 [00:12<00:00,  7.71epoch/s]\n",
      "Training: 100%|██████████| 100/100 [00:10<00:00,  9.51epoch/s]\n",
      "Training: 100%|██████████| 100/100 [00:12<00:00,  7.70epoch/s]\n",
      "Training: 100%|██████████| 100/100 [00:10<00:00,  9.20epoch/s]\n"
     ]
    },
    {
     "name": "stdout",
     "output_type": "stream",
     "text": [
      "val_mean = 24.99664118187505\n"
     ]
    },
    {
     "name": "stderr",
     "output_type": "stream",
     "text": [
      "Training: 100%|██████████| 100/100 [00:09<00:00, 10.12epoch/s]\n"
     ]
    },
    {
     "name": "stdout",
     "output_type": "stream",
     "text": [
      "val_mean = 23.410839757516634\n"
     ]
    },
    {
     "name": "stderr",
     "output_type": "stream",
     "text": [
      "Training: 100%|██████████| 100/100 [00:12<00:00,  8.30epoch/s]\n",
      "Training: 100%|██████████| 100/100 [00:09<00:00, 10.13epoch/s]\n"
     ]
    },
    {
     "name": "stdout",
     "output_type": "stream",
     "text": [
      "val_mean = 23.034924295047627\n"
     ]
    },
    {
     "name": "stderr",
     "output_type": "stream",
     "text": [
      "Training: 100%|██████████| 100/100 [00:11<00:00,  8.56epoch/s]\n"
     ]
    },
    {
     "name": "stdout",
     "output_type": "stream",
     "text": [
      "val_mean = 25.67163700716233\n"
     ]
    },
    {
     "name": "stderr",
     "output_type": "stream",
     "text": [
      "Training: 100%|██████████| 100/100 [00:10<00:00,  9.94epoch/s]\n",
      "Training: 100%|██████████| 100/100 [00:09<00:00, 10.54epoch/s]\n"
     ]
    },
    {
     "name": "stdout",
     "output_type": "stream",
     "text": [
      "val_mean = 30.55747925744772\n"
     ]
    },
    {
     "name": "stderr",
     "output_type": "stream",
     "text": [
      "Training: 100%|██████████| 100/100 [00:09<00:00, 10.63epoch/s]\n"
     ]
    },
    {
     "name": "stdout",
     "output_type": "stream",
     "text": [
      "val_mean = 31.75098474510162\n",
      "GRID SEARCH FINISHED\n",
      "1. {'eta': 0.001, 'mb': 256, 'momentum': 0.9, 'n_layers': 1, 'n_neurons': 16, 'epochs': 100, 'clip_value': None, 'hid_act_fun': 'relu', 'out_act_fun': 'linear', 'cost_fun': 'eucl', 'ridge_lambda': None, 'lasso_lambda': None, 'decay_max_steps': None, 'decay_min_value': None, 'es_patience': 50}\n",
      "Validation mean = 13.648486343508704, Variance = 3.204819669629292\n",
      "Training mean (ES) = 13.479863231550775\n",
      "\n",
      "2. {'eta': 0.001, 'mb': 256, 'momentum': 0.8, 'n_layers': 1, 'n_neurons': 16, 'epochs': 100, 'clip_value': None, 'hid_act_fun': 'relu', 'out_act_fun': 'linear', 'cost_fun': 'eucl', 'ridge_lambda': None, 'lasso_lambda': None, 'decay_max_steps': None, 'decay_min_value': None, 'es_patience': 50}\n",
      "Validation mean = 17.503889742323786, Variance = 5.978259387902524\n",
      "Training mean (ES) = 17.837004209557797\n",
      "\n",
      "3. {'eta': 0.001, 'mb': 512, 'momentum': 0.9, 'n_layers': 1, 'n_neurons': 16, 'epochs': 100, 'clip_value': None, 'hid_act_fun': 'relu', 'out_act_fun': 'linear', 'cost_fun': 'eucl', 'ridge_lambda': None, 'lasso_lambda': None, 'decay_max_steps': None, 'decay_min_value': None, 'es_patience': 50}\n",
      "Validation mean = 18.00912408961502, Variance = 9.914309071473129\n",
      "Training mean (ES) = 17.566144470050506\n",
      "\n",
      "4. {'eta': 0.001, 'mb': 256, 'momentum': 0.9, 'n_layers': 1, 'n_neurons': 8, 'epochs': 100, 'clip_value': None, 'hid_act_fun': 'relu', 'out_act_fun': 'linear', 'cost_fun': 'eucl', 'ridge_lambda': None, 'lasso_lambda': None, 'decay_max_steps': None, 'decay_min_value': None, 'es_patience': 50}\n",
      "Validation mean = 19.79184810910134, Variance = 6.479667342563355\n",
      "Training mean (ES) = 20.237731189324133\n",
      "\n",
      "5. {'eta': 0.001, 'mb': 256, 'momentum': 0.9, 'n_layers': 2, 'n_neurons': 16, 'epochs': 100, 'clip_value': None, 'hid_act_fun': 'relu', 'out_act_fun': 'linear', 'cost_fun': 'eucl', 'ridge_lambda': None, 'lasso_lambda': None, 'decay_max_steps': None, 'decay_min_value': None, 'es_patience': 50}\n",
      "Validation mean = 21.19514238835729, Variance = 1.7884960157096763\n",
      "Training mean (ES) = 21.504525545739966\n",
      "\n",
      "6. {'eta': 0.001, 'mb': 512, 'momentum': 0.8, 'n_layers': 1, 'n_neurons': 16, 'epochs': 100, 'clip_value': None, 'hid_act_fun': 'relu', 'out_act_fun': 'linear', 'cost_fun': 'eucl', 'ridge_lambda': None, 'lasso_lambda': None, 'decay_max_steps': None, 'decay_min_value': None, 'es_patience': 50}\n",
      "Validation mean = 23.034924295047627, Variance = 7.114110488189158\n",
      "Training mean (ES) = 22.862820726431615\n",
      "\n",
      "7. {'eta': 0.001, 'mb': 512, 'momentum': 0.9, 'n_layers': 1, 'n_neurons': 8, 'epochs': 100, 'clip_value': None, 'hid_act_fun': 'relu', 'out_act_fun': 'linear', 'cost_fun': 'eucl', 'ridge_lambda': None, 'lasso_lambda': None, 'decay_max_steps': None, 'decay_min_value': None, 'es_patience': 50}\n",
      "Validation mean = 23.410839757516634, Variance = 30.025126274834793\n",
      "Training mean (ES) = 23.4839708735662\n",
      "\n",
      "8. {'eta': 0.001, 'mb': 256, 'momentum': 0.8, 'n_layers': 2, 'n_neurons': 16, 'epochs': 100, 'clip_value': None, 'hid_act_fun': 'relu', 'out_act_fun': 'linear', 'cost_fun': 'eucl', 'ridge_lambda': None, 'lasso_lambda': None, 'decay_max_steps': None, 'decay_min_value': None, 'es_patience': 50}\n",
      "Validation mean = 23.442614051050914, Variance = 13.046837084981195\n",
      "Training mean (ES) = 23.411172048377885\n",
      "\n",
      "9. {'eta': 0.001, 'mb': 512, 'momentum': 0.9, 'n_layers': 2, 'n_neurons': 16, 'epochs': 100, 'clip_value': None, 'hid_act_fun': 'relu', 'out_act_fun': 'linear', 'cost_fun': 'eucl', 'ridge_lambda': None, 'lasso_lambda': None, 'decay_max_steps': None, 'decay_min_value': None, 'es_patience': 50}\n",
      "Validation mean = 24.504456082972574, Variance = 28.159251433012578\n",
      "Training mean (ES) = 24.315269565401632\n",
      "\n",
      "10. {'eta': 0.001, 'mb': 256, 'momentum': 0.8, 'n_layers': 1, 'n_neurons': 8, 'epochs': 100, 'clip_value': None, 'hid_act_fun': 'relu', 'out_act_fun': 'linear', 'cost_fun': 'eucl', 'ridge_lambda': None, 'lasso_lambda': None, 'decay_max_steps': None, 'decay_min_value': None, 'es_patience': 50}\n",
      "Validation mean = 24.99664118187505, Variance = 8.179360389868648\n",
      "Training mean (ES) = 24.742651709293487\n",
      "\n"
     ]
    }
   ],
   "source": [
    "grid={\n",
    "    \"eta\" : [0.001],\n",
    "    \"mb\" : [256, 512],\n",
    "    \"momentum\" : [0.8, 0.9],\n",
    "    \"n_layers\" : [1, 2],\n",
    "    \"n_neurons\" : [16, 8],\n",
    "    \"epochs\" : [100],\n",
    "    \"clip_value\" : [None],\n",
    "    \"hid_act_fun\" : [\"relu\"],\n",
    "    \"out_act_fun\" : [\"linear\"],\n",
    "    \"cost_fun\" : [\"eucl\"],\n",
    "    \"ridge_lambda\": [None],\n",
    "    \"lasso_lambda\": [None],\n",
    "    \"decay_max_steps\": [None],\n",
    "    \"decay_min_value\": [None],\n",
    "    \"es_patience\": [50]\n",
    "}\n",
    "\n",
    "search_space=get_search_space(grid)\n",
    "print(len(search_space))\n",
    "parallel_grid_search(k = 5, data = tr_data, es_data=es_data, search_space=search_space, n_inputs=10, n_outputs=3,type=\"cup\")"
   ]
  },
  {
   "cell_type": "code",
   "execution_count": null,
   "metadata": {},
   "outputs": [
    {
     "name": "stderr",
     "output_type": "stream",
     "text": [
      "Training:   0%|          | 0/5000 [00:00<?, ?epoch/s]"
     ]
    },
    {
     "name": "stderr",
     "output_type": "stream",
     "text": [
      "Training: 100%|██████████| 5000/5000 [05:33<00:00, 14.98epoch/s]"
     ]
    },
    {
     "name": "stdout",
     "output_type": "stream",
     "text": [
      "TR: 1.1885496471875565\n"
     ]
    },
    {
     "name": "stderr",
     "output_type": "stream",
     "text": [
      "\n"
     ]
    },
    {
     "data": {
      "image/png": "[encoded data removed]",
      "text/plain": [
       "<Figure size 700x500 with 1 Axes>"
      ]
     },
     "metadata": {},
     "output_type": "display_data"
    }
   ],
   "source": [
    "\n",
    "\n",
    "params =  {'eta': 0.00001, 'mb': 64, 'momentum': 0.99, 'n_layers': 15, 'n_neurons': 500, 'epochs': 5000, 'clip_value': None, 'hid_act_fun': 'relu', 'out_act_fun': 'linear', 'cost_fun': 'eucl', 'ridge_lambda': None, 'lasso_lambda': None, 'decay_max_steps': None, 'decay_min_value': None, 'es_patience': 50}\n",
    "\n",
    "fig,axs = plt.subplots(1,1,figsize=(7,5))\n",
    "\n",
    "net = NeuralNetwork.NeuralNetwork(type=\"cup\")\n",
    "net.add_input_layer(10)\n",
    "net.add_hidden_layer(10,params[\"n_neurons\"])\n",
    "net.add_output_layer(params[\"n_neurons\"], 3)\n",
    "\n",
    "tr = net.train(tr_data, params ,type=\"cup\", es_data=es_data)\n",
    "plot_loss_Cup(tr,\"eucl\",axs)\n",
    "print(f\"TR: {tr[-1]}\")\n",
    "\n"
   ]
  }
 ],
 "metadata": {
  "kernelspec": {
   "display_name": "Python 3 (ipykernel)",
   "language": "python",
   "name": "python3"
  },
  "language_info": {
   "codemirror_mode": {
    "name": "ipython",
    "version": 3
   },
   "file_extension": ".py",
   "mimetype": "text/x-python",
   "name": "python",
   "nbconvert_exporter": "python",
   "pygments_lexer": "ipython3",
   "version": "3.8.10"
  }
 },
 "nbformat": 4,
 "nbformat_minor": 4
}
