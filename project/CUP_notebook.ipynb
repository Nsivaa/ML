{
 "cells": [
  {
   "cell_type": "markdown",
   "metadata": {},
   "source": [
    "# Network Creation\n",
    "\n",
    "Let's create a small Neural Network with 3 hidden layers for testing"
   ]
  },
  {
   "cell_type": "code",
   "execution_count": 1,
   "metadata": {},
   "outputs": [],
   "source": [
    "import numpy as np\n",
    "import pandas as pd\n",
    "from NeuralNetwork import *\n",
    "from utils import *\n",
    "import warnings\n",
    "# to ignore pandas warning\n",
    "warnings.simplefilter(action='ignore', category=FutureWarning)"
   ]
  },
  {
   "cell_type": "code",
   "execution_count": 2,
   "metadata": {},
   "outputs": [
    {
     "name": "stdout",
     "output_type": "stream",
     "text": [
      "16\n",
      "N_cores = 7\n",
      "GRID SEARCH FINISHED\n",
      "1. {'eta': 0.001, 'mb': 256, 'momentum': 0.9, 'n_layers': 1, 'n_neurons': 200, 'epochs': 500, 'clip_value': None, 'hid_act_fun': 'relu', 'out_act_fun': 'linear', 'cost_fun': 'eucl', 'ridge_lambda': None, 'lasso_lambda': None, 'decay_max_steps': None, 'decay_min_value': None, 'es_patience': 30}\n",
      "Validation mean = 1.2237842839711597, Variance = 0.07321840446665932\n",
      "Training mean (ES) = 1.1102202026258705\n",
      "\n",
      "2. {'eta': 0.001, 'mb': 700, 'momentum': 0.9, 'n_layers': 1, 'n_neurons': 300, 'epochs': 500, 'clip_value': None, 'hid_act_fun': 'relu', 'out_act_fun': 'linear', 'cost_fun': 'eucl', 'ridge_lambda': None, 'lasso_lambda': None, 'decay_max_steps': None, 'decay_min_value': None, 'es_patience': 30}\n",
      "Validation mean = 1.542975408784491, Variance = 0.10528687106265933\n",
      "Training mean (ES) = 1.4047520168550842\n",
      "\n",
      "3. {'eta': 0.001, 'mb': 700, 'momentum': 0.9, 'n_layers': 1, 'n_neurons': 200, 'epochs': 500, 'clip_value': None, 'hid_act_fun': 'relu', 'out_act_fun': 'linear', 'cost_fun': 'eucl', 'ridge_lambda': None, 'lasso_lambda': None, 'decay_max_steps': None, 'decay_min_value': None, 'es_patience': 30}\n",
      "Validation mean = 1.7076125363493488, Variance = 0.06303212001386153\n",
      "Training mean (ES) = 1.641290720534371\n",
      "\n",
      "4. {'eta': 0.0001, 'mb': 128, 'momentum': 0.9, 'n_layers': 1, 'n_neurons': 200, 'epochs': 500, 'clip_value': None, 'hid_act_fun': 'relu', 'out_act_fun': 'linear', 'cost_fun': 'eucl', 'ridge_lambda': None, 'lasso_lambda': None, 'decay_max_steps': None, 'decay_min_value': None, 'es_patience': 30}\n",
      "Validation mean = 1.9774224620975853, Variance = 0.2044625875241161\n",
      "Training mean (ES) = 1.8782420591742774\n",
      "\n",
      "5. {'eta': 0.0001, 'mb': 128, 'momentum': 0.9, 'n_layers': 1, 'n_neurons': 300, 'epochs': 500, 'clip_value': None, 'hid_act_fun': 'relu', 'out_act_fun': 'linear', 'cost_fun': 'eucl', 'ridge_lambda': None, 'lasso_lambda': None, 'decay_max_steps': None, 'decay_min_value': None, 'es_patience': 30}\n",
      "Validation mean = 2.051036925148355, Variance = 0.11039986704474362\n",
      "Training mean (ES) = 1.9536092699131724\n",
      "\n",
      "6. {'eta': 0.0001, 'mb': 256, 'momentum': 0.9, 'n_layers': 1, 'n_neurons': 300, 'epochs': 500, 'clip_value': None, 'hid_act_fun': 'relu', 'out_act_fun': 'linear', 'cost_fun': 'eucl', 'ridge_lambda': None, 'lasso_lambda': None, 'decay_max_steps': None, 'decay_min_value': None, 'es_patience': 30}\n",
      "Validation mean = 2.2741703896858603, Variance = 0.14654013470546523\n",
      "Training mean (ES) = 2.187806602667913\n",
      "\n",
      "7. {'eta': 0.0001, 'mb': 256, 'momentum': 0.9, 'n_layers': 1, 'n_neurons': 200, 'epochs': 500, 'clip_value': None, 'hid_act_fun': 'relu', 'out_act_fun': 'linear', 'cost_fun': 'eucl', 'ridge_lambda': None, 'lasso_lambda': None, 'decay_max_steps': None, 'decay_min_value': None, 'es_patience': 30}\n",
      "Validation mean = 2.456126801747144, Variance = 0.2525022546016973\n",
      "Training mean (ES) = 2.3114460606293727\n",
      "\n",
      "8. {'eta': 0.001, 'mb': 1, 'momentum': 0.9, 'n_layers': 1, 'n_neurons': 300, 'epochs': 500, 'clip_value': None, 'hid_act_fun': 'relu', 'out_act_fun': 'linear', 'cost_fun': 'eucl', 'ridge_lambda': None, 'lasso_lambda': None, 'decay_max_steps': None, 'decay_min_value': None, 'es_patience': 30}\n",
      "Validation mean = 2.9777175452406834, Variance = 35.46720711693681\n",
      "Training mean (ES) = 2.7135870978543455\n",
      "\n",
      "9. {'eta': 0.0001, 'mb': 700, 'momentum': 0.9, 'n_layers': 1, 'n_neurons': 200, 'epochs': 500, 'clip_value': None, 'hid_act_fun': 'relu', 'out_act_fun': 'linear', 'cost_fun': 'eucl', 'ridge_lambda': None, 'lasso_lambda': None, 'decay_max_steps': None, 'decay_min_value': None, 'es_patience': 30}\n",
      "Validation mean = 3.226623484610255, Variance = 0.3033521772502501\n",
      "Training mean (ES) = 3.1695552976287873\n",
      "\n",
      "10. {'eta': 0.0001, 'mb': 700, 'momentum': 0.9, 'n_layers': 1, 'n_neurons': 300, 'epochs': 500, 'clip_value': None, 'hid_act_fun': 'relu', 'out_act_fun': 'linear', 'cost_fun': 'eucl', 'ridge_lambda': None, 'lasso_lambda': None, 'decay_max_steps': None, 'decay_min_value': None, 'es_patience': 30}\n",
      "Validation mean = 3.2344395274588806, Variance = 0.4842210748933337\n",
      "Training mean (ES) = 3.0710798975019546\n",
      "\n",
      "CPU times: total: 62.5 ms\n",
      "Wall time: 30min 46s\n"
     ]
    }
   ],
   "source": [
    "%%time\n",
    "col_names = ('Input1', 'Input2', 'Input3', 'Input4', 'Input5', 'Input6',\n",
    "             'Input7', 'Input8', 'Input9', 'Input10', 'TARGET_x', 'TARGET_y', 'TARGET_z')\n",
    "data = pd.read_csv(\"../ML-23-PRJ-Package/ML-CUP23-TR.csv\",\n",
    "                   skiprows=7, usecols=[i for i in range(1, 14)], names=col_names)\n",
    "\n",
    "data = data.sample(frac=1)\n",
    "#SPLIT 80/20 FOR TRAIN/TEST\n",
    "folds = np.array_split(data, 10)\n",
    "tr_data = pd.concat(folds[2:8])\n",
    "test_data = pd.concat(folds[0:1])\n",
    "es_data=folds[9]\n",
    "\n",
    "grid={\n",
    "    \"eta\" : [0.001,0.0001],\n",
    "    \"mb\" : [1,128,256,700],\n",
    "    \"momentum\" : [0.9],\n",
    "    \"n_layers\" : [1],\n",
    "    \"n_neurons\" : [200,300],\n",
    "    \"epochs\" : [500],\n",
    "    \"clip_value\" : [None],\n",
    "    \"hid_act_fun\" : [\"relu\"],\n",
    "    \"out_act_fun\" : [\"linear\"],\n",
    "    \"cost_fun\" : [\"eucl\"],\n",
    "    \"ridge_lambda\": [None],\n",
    "    \"lasso_lambda\": [None],\n",
    "    \"decay_max_steps\": [None],\n",
    "    \"decay_min_value\": [None],\n",
    "    \"es_patience\": [30]\n",
    "} \n",
    "search_space=get_search_space(grid)\n",
    "print(len(search_space))\n",
    "parallel_grid_search(5, tr_data,es_data, search_space, 10,3,type=\"cup\",verbose=\"yes\")\n"
   ]
  },
  {
   "cell_type": "code",
   "execution_count": null,
   "metadata": {},
   "outputs": [],
   "source": []
  }
 ],
 "metadata": {
  "kernelspec": {
   "display_name": "Python 3 (ipykernel)",
   "language": "python",
   "name": "python3"
  },
  "language_info": {
   "codemirror_mode": {
    "name": "ipython",
    "version": 3
   },
   "file_extension": ".py",
   "mimetype": "text/x-python",
   "name": "python",
   "nbconvert_exporter": "python",
   "pygments_lexer": "ipython3",
   "version": "3.10.9"
  }
 },
 "nbformat": 4,
 "nbformat_minor": 4
}
